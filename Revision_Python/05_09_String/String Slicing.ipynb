{
 "cells": [
  {
   "cell_type": "code",
   "execution_count": 6,
   "id": "026549bb",
   "metadata": {},
   "outputs": [
    {
     "data": {
      "text/plain": [
       "'g'"
      ]
     },
     "execution_count": 6,
     "metadata": {},
     "output_type": "execute_result"
    }
   ],
   "source": [
    "a = 'Machine Learning'\n",
    "a[:-8]\n",
    "a[:-1]\n",
    "a[:18]\n",
    "a[-1]\n"
   ]
  },
  {
   "cell_type": "markdown",
   "id": "35deecc3",
   "metadata": {},
   "source": [
    "## Negative Slicing"
   ]
  },
  {
   "cell_type": "code",
   "execution_count": null,
   "id": "f669b5cb",
   "metadata": {},
   "outputs": [],
   "source": [
    "    p  y  t  h  o  n\n",
    "    0  1  2  3  4  5     positive indexing\n",
    "   -6 -5 -4 -3 -2 -1     negative indexing"
   ]
  },
  {
   "cell_type": "code",
   "execution_count": 8,
   "id": "799d2f2b",
   "metadata": {},
   "outputs": [
    {
     "data": {
      "text/plain": [
       "'yth'"
      ]
     },
     "execution_count": 8,
     "metadata": {},
     "output_type": "execute_result"
    }
   ],
   "source": [
    "str1 = 'python'\n",
    "str1[1:4]   # 1,2,3"
   ]
  },
  {
   "cell_type": "code",
   "execution_count": 11,
   "id": "cd672e5b",
   "metadata": {},
   "outputs": [
    {
     "data": {
      "text/plain": [
       "'yth'"
      ]
     },
     "execution_count": 11,
     "metadata": {},
     "output_type": "execute_result"
    }
   ],
   "source": [
    "str1[-5:-2] # -5,-4,-3"
   ]
  },
  {
   "cell_type": "code",
   "execution_count": 12,
   "id": "3744cce0",
   "metadata": {},
   "outputs": [
    {
     "data": {
      "text/plain": [
       "27"
      ]
     },
     "execution_count": 12,
     "metadata": {},
     "output_type": "execute_result"
    }
   ],
   "source": [
    "# How to print last 10 char of string\n",
    "\n",
    "str1 = 'Python and Machine Learning'\n",
    "len(str1)"
   ]
  },
  {
   "cell_type": "code",
   "execution_count": 13,
   "id": "34d75faa",
   "metadata": {},
   "outputs": [
    {
     "data": {
      "text/plain": [
       "'e Learning'"
      ]
     },
     "execution_count": 13,
     "metadata": {},
     "output_type": "execute_result"
    }
   ],
   "source": [
    "str1[-10:]"
   ]
  },
  {
   "cell_type": "code",
   "execution_count": 14,
   "id": "95bf3518",
   "metadata": {},
   "outputs": [
    {
     "data": {
      "text/plain": [
       "277"
      ]
     },
     "execution_count": 14,
     "metadata": {},
     "output_type": "execute_result"
    }
   ],
   "source": [
    "machine_learning = '''Machine learning (ML) is a type of artificial intelligence (AI) that\n",
    "allows software applications to become more accurate at predicting outcomes without being\n",
    "explicitly programmed to do so. Machine learning algorithms use historical data\n",
    "as input to predict new output values.'''\n",
    "len(machine_learning)"
   ]
  },
  {
   "cell_type": "code",
   "execution_count": 15,
   "id": "0e92fc8e",
   "metadata": {},
   "outputs": [
    {
     "data": {
      "text/plain": [
       "'lligence (AI) that\\nallows software applications to'"
      ]
     },
     "execution_count": 15,
     "metadata": {},
     "output_type": "execute_result"
    }
   ],
   "source": [
    "machine_learning[50:100]"
   ]
  },
  {
   "cell_type": "code",
   "execution_count": 16,
   "id": "0b4ee8a5",
   "metadata": {},
   "outputs": [
    {
     "data": {
      "text/plain": [
       "'\\n'"
      ]
     },
     "execution_count": 16,
     "metadata": {},
     "output_type": "execute_result"
    }
   ],
   "source": [
    "machine_learning[68]"
   ]
  },
  {
   "cell_type": "code",
   "execution_count": null,
   "id": "81bf95b6",
   "metadata": {},
   "outputs": [],
   "source": [
    "Machine learning (ML) is a type of artificial intelligence (AI) that allows\n",
    "software applications to become more accurate at predicting outcomes without being explicitly programmed to do so. Machine learning algorithms use historical data as input to predict new output values."
   ]
  },
  {
   "cell_type": "code",
   "execution_count": 17,
   "id": "88888ab2",
   "metadata": {},
   "outputs": [
    {
     "data": {
      "text/plain": [
       "276"
      ]
     },
     "execution_count": 17,
     "metadata": {},
     "output_type": "execute_result"
    }
   ],
   "source": [
    "machine_learning = '''Machine learning (ML) is a type of artificial intelligence (AI) that allows software applications to become more accurate at predicting outcomes without being explicitly programmed to do so. Machine learning algorithms use historical dataas input to predict new output values.'''\n",
    "len(machine_learning)"
   ]
  },
  {
   "cell_type": "code",
   "execution_count": 18,
   "id": "64c35783",
   "metadata": {},
   "outputs": [
    {
     "data": {
      "text/plain": [
       "'ytho'"
      ]
     },
     "execution_count": 18,
     "metadata": {},
     "output_type": "execute_result"
    }
   ],
   "source": [
    "str1 = 'python'\n",
    "str1[1:5]"
   ]
  },
  {
   "cell_type": "code",
   "execution_count": 19,
   "id": "e70a9a1a",
   "metadata": {},
   "outputs": [
    {
     "data": {
      "text/plain": [
       "''"
      ]
     },
     "execution_count": 19,
     "metadata": {},
     "output_type": "execute_result"
    }
   ],
   "source": [
    "str1[5:1]"
   ]
  },
  {
   "cell_type": "code",
   "execution_count": 20,
   "id": "8e085b01",
   "metadata": {},
   "outputs": [
    {
     "data": {
      "text/plain": [
       "'ytho'"
      ]
     },
     "execution_count": 20,
     "metadata": {},
     "output_type": "execute_result"
    }
   ],
   "source": [
    "str1[-5:-1]"
   ]
  },
  {
   "cell_type": "code",
   "execution_count": 21,
   "id": "51701b77",
   "metadata": {},
   "outputs": [
    {
     "data": {
      "text/plain": [
       "''"
      ]
     },
     "execution_count": 21,
     "metadata": {},
     "output_type": "execute_result"
    }
   ],
   "source": [
    "str1[-1:-5]"
   ]
  },
  {
   "cell_type": "code",
   "execution_count": 27,
   "id": "1ef0cd69",
   "metadata": {},
   "outputs": [
    {
     "name": "stdout",
     "output_type": "stream",
     "text": [
      "city\n",
      "city\n",
      "city\n",
      "city\n"
     ]
    }
   ],
   "source": [
    "a = 'velocityclass'\n",
    "print(a[4:8])\n",
    "print(a[-9:-5])\n",
    "print(a[4:-5])\n",
    "print(a[-9:8])"
   ]
  },
  {
   "cell_type": "code",
   "execution_count": 26,
   "id": "cbb1e333",
   "metadata": {},
   "outputs": [
    {
     "data": {
      "text/plain": [
       "'c'"
      ]
     },
     "execution_count": 26,
     "metadata": {},
     "output_type": "execute_result"
    }
   ],
   "source": [
    "a[8]"
   ]
  },
  {
   "cell_type": "markdown",
   "id": "7e44a8da",
   "metadata": {},
   "source": [
    "### Step Size"
   ]
  },
  {
   "cell_type": "code",
   "execution_count": null,
   "id": "755aa879",
   "metadata": {},
   "outputs": [],
   "source": [
    "string[start_index : end_index : step_size]\n",
    "start_index >> 0\n",
    "end_index  >> len(string)-1\n",
    "step_size  >> 1"
   ]
  },
  {
   "cell_type": "code",
   "execution_count": null,
   "id": "5cbc7c26",
   "metadata": {},
   "outputs": [],
   "source": [
    "6-1 >> 5  # uptill 5th index value is printed\n",
    "6   >> 6  # end index will exclude the index and give output upto 5th index"
   ]
  },
  {
   "cell_type": "code",
   "execution_count": 28,
   "id": "338ba618",
   "metadata": {},
   "outputs": [
    {
     "data": {
      "text/plain": [
       "'python'"
      ]
     },
     "execution_count": 28,
     "metadata": {},
     "output_type": "execute_result"
    }
   ],
   "source": [
    "str1 = 'python'\n",
    "str1[:]"
   ]
  },
  {
   "cell_type": "code",
   "execution_count": 29,
   "id": "f5737639",
   "metadata": {},
   "outputs": [
    {
     "data": {
      "text/plain": [
       "'python'"
      ]
     },
     "execution_count": 29,
     "metadata": {},
     "output_type": "execute_result"
    }
   ],
   "source": [
    "str1[::]"
   ]
  },
  {
   "cell_type": "code",
   "execution_count": 30,
   "id": "9928418d",
   "metadata": {},
   "outputs": [
    {
     "data": {
      "text/plain": [
       "'python'"
      ]
     },
     "execution_count": 30,
     "metadata": {},
     "output_type": "execute_result"
    }
   ],
   "source": [
    "str1[::1]"
   ]
  },
  {
   "cell_type": "code",
   "execution_count": 31,
   "id": "3dc4f696",
   "metadata": {},
   "outputs": [
    {
     "data": {
      "text/plain": [
       "'pto'"
      ]
     },
     "execution_count": 31,
     "metadata": {},
     "output_type": "execute_result"
    }
   ],
   "source": [
    "str1[::2]  # p t o"
   ]
  },
  {
   "cell_type": "code",
   "execution_count": 32,
   "id": "2efdda80",
   "metadata": {},
   "outputs": [
    {
     "data": {
      "text/plain": [
       "'Vlct'"
      ]
     },
     "execution_count": 32,
     "metadata": {},
     "output_type": "execute_result"
    }
   ],
   "source": [
    "b = 'Velocity'\n",
    "b[::2]"
   ]
  },
  {
   "cell_type": "code",
   "execution_count": 33,
   "id": "82b31902",
   "metadata": {},
   "outputs": [
    {
     "data": {
      "text/plain": [
       "'oiy'"
      ]
     },
     "execution_count": 33,
     "metadata": {},
     "output_type": "execute_result"
    }
   ],
   "source": [
    "b[3::2]"
   ]
  },
  {
   "cell_type": "code",
   "execution_count": 34,
   "id": "132f6095",
   "metadata": {},
   "outputs": [
    {
     "data": {
      "text/plain": [
       "'MheengM'"
      ]
     },
     "execution_count": 34,
     "metadata": {},
     "output_type": "execute_result"
    }
   ],
   "source": [
    "machine_learning = '''Machine learning (ML) is a type of artificial intelligence (AI) that\n",
    "allows software applications to become more accurate at predicting outcomes without being\n",
    "explicitly programmed to do so. Machine learning algorithms use historical data\n",
    "as input to predict new output values.'''\n",
    "machine_learning[:20:3]"
   ]
  },
  {
   "cell_type": "code",
   "execution_count": 35,
   "id": "13147892",
   "metadata": {},
   "outputs": [
    {
     "data": {
      "text/plain": [
       "'Miln '"
      ]
     },
     "execution_count": 35,
     "metadata": {},
     "output_type": "execute_result"
    }
   ],
   "source": [
    "machine_learning[:20:4]"
   ]
  },
  {
   "cell_type": "code",
   "execution_count": 36,
   "id": "f7682bde",
   "metadata": {},
   "outputs": [
    {
     "data": {
      "text/plain": [
       "'Miln ) yorilticAt\\nosw lts om ue dioo h nxcyom doaneiarmsirltsptrceutl.'"
      ]
     },
     "execution_count": 36,
     "metadata": {},
     "output_type": "execute_result"
    }
   ],
   "source": [
    "machine_learning[::4]"
   ]
  },
  {
   "cell_type": "code",
   "execution_count": 37,
   "id": "01c1ab66",
   "metadata": {},
   "outputs": [
    {
     "name": "stdout",
     "output_type": "stream",
     "text": [
      "Mnag)aeai lnAhl wacn mrcepc owuixipa o\n"
     ]
    }
   ],
   "source": [
    "str2 = '''Machine learning (ML) is a type of artificial intelligence (AI) that\n",
    "allows software applications to become more accurate at predicting outcomes without being\n",
    "explicitly programmed to do so'''\n",
    "print(str2[::5]) # skip 4 char"
   ]
  },
  {
   "cell_type": "code",
   "execution_count": 38,
   "id": "83b9bbf1",
   "metadata": {},
   "outputs": [
    {
     "data": {
      "text/plain": [
       "'McieLann'"
      ]
     },
     "execution_count": 38,
     "metadata": {},
     "output_type": "execute_result"
    }
   ],
   "source": [
    "str3 = 'MAchine Learning'\n",
    "str3[::2]  # skip 1 char"
   ]
  },
  {
   "cell_type": "code",
   "execution_count": 39,
   "id": "6a0c8837",
   "metadata": {},
   "outputs": [
    {
     "data": {
      "text/plain": [
       "'Mheeng'"
      ]
     },
     "execution_count": 39,
     "metadata": {},
     "output_type": "execute_result"
    }
   ],
   "source": [
    "str3 = 'MAchine Learning'\n",
    "str3[::3]  # skip 2 char"
   ]
  },
  {
   "cell_type": "code",
   "execution_count": 40,
   "id": "bcc43181",
   "metadata": {},
   "outputs": [
    {
     "data": {
      "text/plain": [
       "''"
      ]
     },
     "execution_count": 40,
     "metadata": {},
     "output_type": "execute_result"
    }
   ],
   "source": [
    "str3 = 'MAchine Learning'\n",
    "str3[9:2:2]  # skip 2 char"
   ]
  },
  {
   "cell_type": "code",
   "execution_count": 41,
   "id": "9c242680",
   "metadata": {},
   "outputs": [
    {
     "data": {
      "text/plain": [
       "'cieL'"
      ]
     },
     "execution_count": 41,
     "metadata": {},
     "output_type": "execute_result"
    }
   ],
   "source": [
    "str3[2:9:2] "
   ]
  },
  {
   "cell_type": "code",
   "execution_count": 43,
   "id": "0a3449f3",
   "metadata": {},
   "outputs": [
    {
     "ename": "IndexError",
     "evalue": "string index out of range",
     "output_type": "error",
     "traceback": [
      "\u001b[1;31m---------------------------------------------------------------------------\u001b[0m",
      "\u001b[1;31mIndexError\u001b[0m                                Traceback (most recent call last)",
      "\u001b[1;32m<ipython-input-43-f637127e02f4>\u001b[0m in \u001b[0;36m<module>\u001b[1;34m\u001b[0m\n\u001b[1;32m----> 1\u001b[1;33m \u001b[0mstr3\u001b[0m\u001b[1;33m[\u001b[0m\u001b[1;36m16\u001b[0m\u001b[1;33m]\u001b[0m\u001b[1;33m\u001b[0m\u001b[1;33m\u001b[0m\u001b[0m\n\u001b[0m",
      "\u001b[1;31mIndexError\u001b[0m: string index out of range"
     ]
    }
   ],
   "source": [
    "str3[16]"
   ]
  },
  {
   "cell_type": "code",
   "execution_count": 44,
   "id": "7adba941",
   "metadata": {},
   "outputs": [
    {
     "data": {
      "text/plain": [
       "'MAchine Learning'"
      ]
     },
     "execution_count": 44,
     "metadata": {},
     "output_type": "execute_result"
    }
   ],
   "source": [
    "str3[:16]"
   ]
  },
  {
   "cell_type": "code",
   "execution_count": 45,
   "id": "bd1c5171",
   "metadata": {},
   "outputs": [
    {
     "data": {
      "text/plain": [
       "'MAchine Learning'"
      ]
     },
     "execution_count": 45,
     "metadata": {},
     "output_type": "execute_result"
    }
   ],
   "source": [
    "str3[:20]"
   ]
  },
  {
   "cell_type": "markdown",
   "id": "f71c8ccf",
   "metadata": {},
   "source": [
    "## Negative step size"
   ]
  },
  {
   "cell_type": "code",
   "execution_count": 46,
   "id": "8afe8188",
   "metadata": {},
   "outputs": [
    {
     "data": {
      "text/plain": [
       "'gninraeL enihcaM'"
      ]
     },
     "execution_count": 46,
     "metadata": {},
     "output_type": "execute_result"
    }
   ],
   "source": [
    "str1 = 'Machine Learning'\n",
    "str1[::-1]  # reverse the string"
   ]
  },
  {
   "cell_type": "code",
   "execution_count": 47,
   "id": "1a62cd1c",
   "metadata": {},
   "outputs": [
    {
     "data": {
      "text/plain": [
       "'Machine Learning'"
      ]
     },
     "execution_count": 47,
     "metadata": {},
     "output_type": "execute_result"
    }
   ],
   "source": [
    "str1[::1]"
   ]
  },
  {
   "cell_type": "code",
   "execution_count": 48,
   "id": "ca37ffe7",
   "metadata": {},
   "outputs": [
    {
     "data": {
      "text/plain": [
       "'gninraeL enihcaM'"
      ]
     },
     "execution_count": 48,
     "metadata": {},
     "output_type": "execute_result"
    }
   ],
   "source": [
    "str1[::-1]"
   ]
  },
  {
   "cell_type": "code",
   "execution_count": 49,
   "id": "8be55efd",
   "metadata": {},
   "outputs": [
    {
     "data": {
      "text/plain": [
       "'Machine'"
      ]
     },
     "execution_count": 49,
     "metadata": {},
     "output_type": "execute_result"
    }
   ],
   "source": [
    "str1[0:7:1]"
   ]
  },
  {
   "cell_type": "code",
   "execution_count": 50,
   "id": "184f4a1a",
   "metadata": {},
   "outputs": [
    {
     "data": {
      "text/plain": [
       "''"
      ]
     },
     "execution_count": 50,
     "metadata": {},
     "output_type": "execute_result"
    }
   ],
   "source": [
    "str1[7:0:1]"
   ]
  },
  {
   "cell_type": "code",
   "execution_count": 51,
   "id": "48404e29",
   "metadata": {},
   "outputs": [
    {
     "data": {
      "text/plain": [
       "''"
      ]
     },
     "execution_count": 51,
     "metadata": {},
     "output_type": "execute_result"
    }
   ],
   "source": [
    "str1[7:0:1]"
   ]
  },
  {
   "cell_type": "code",
   "execution_count": null,
   "id": "2eff5c59",
   "metadata": {},
   "outputs": [],
   "source": [
    "    m  a  c  h  i  n  e  \n",
    "    0  1  2  3  4  5  6  \n",
    "   -7 -6 -5 -4 -3 -2 -1"
   ]
  },
  {
   "cell_type": "code",
   "execution_count": 52,
   "id": "9ca31ba3",
   "metadata": {},
   "outputs": [
    {
     "data": {
      "text/plain": [
       "''"
      ]
     },
     "execution_count": 52,
     "metadata": {},
     "output_type": "execute_result"
    }
   ],
   "source": [
    "str1 = 'Machine'\n",
    "str1[6:2]"
   ]
  },
  {
   "cell_type": "code",
   "execution_count": 53,
   "id": "199b850a",
   "metadata": {},
   "outputs": [
    {
     "data": {
      "text/plain": [
       "'enih'"
      ]
     },
     "execution_count": 53,
     "metadata": {},
     "output_type": "execute_result"
    }
   ],
   "source": [
    "str1[6:2:-1]"
   ]
  },
  {
   "cell_type": "code",
   "execution_count": 54,
   "id": "d750b28f",
   "metadata": {},
   "outputs": [
    {
     "data": {
      "text/plain": [
       "'enih'"
      ]
     },
     "execution_count": 54,
     "metadata": {},
     "output_type": "execute_result"
    }
   ],
   "source": [
    "str1[-1:-5:-1]"
   ]
  },
  {
   "cell_type": "code",
   "execution_count": 55,
   "id": "e20bac8d",
   "metadata": {},
   "outputs": [
    {
     "data": {
      "text/plain": [
       "''"
      ]
     },
     "execution_count": 55,
     "metadata": {},
     "output_type": "execute_result"
    }
   ],
   "source": [
    "str1[-5:-1:-1]"
   ]
  },
  {
   "cell_type": "code",
   "execution_count": 56,
   "id": "5663e550",
   "metadata": {},
   "outputs": [
    {
     "data": {
      "text/plain": [
       "'chin'"
      ]
     },
     "execution_count": 56,
     "metadata": {},
     "output_type": "execute_result"
    }
   ],
   "source": [
    "str1[-5:-1:1]"
   ]
  },
  {
   "cell_type": "code",
   "execution_count": null,
   "id": "4369b610",
   "metadata": {},
   "outputs": [],
   "source": [
    "positive step size (::1) >> left to right\n",
    "negative step size (::-1)>> right to left"
   ]
  },
  {
   "cell_type": "code",
   "execution_count": null,
   "id": "47a229a4",
   "metadata": {},
   "outputs": [],
   "source": [
    "str1[::-1]"
   ]
  },
  {
   "cell_type": "code",
   "execution_count": 58,
   "id": "cd5d0df8",
   "metadata": {},
   "outputs": [
    {
     "data": {
      "text/plain": [
       "'enihcaM'"
      ]
     },
     "execution_count": 58,
     "metadata": {},
     "output_type": "execute_result"
    }
   ],
   "source": [
    "str1 = 'Machine Learning'\n",
    "str1[-10::-1]"
   ]
  },
  {
   "cell_type": "code",
   "execution_count": 60,
   "id": "a8def705",
   "metadata": {},
   "outputs": [
    {
     "data": {
      "text/plain": [
       "'Learnin'"
      ]
     },
     "execution_count": 60,
     "metadata": {},
     "output_type": "execute_result"
    }
   ],
   "source": [
    "str1[-8:-1:1]"
   ]
  },
  {
   "cell_type": "code",
   "execution_count": 62,
   "id": "96eceb73",
   "metadata": {},
   "outputs": [
    {
     "data": {
      "text/plain": [
       "'gninraeL'"
      ]
     },
     "execution_count": 62,
     "metadata": {},
     "output_type": "execute_result"
    }
   ],
   "source": [
    "str1[:-9:-1]"
   ]
  },
  {
   "cell_type": "code",
   "execution_count": 64,
   "id": "9880df4e",
   "metadata": {},
   "outputs": [
    {
     "data": {
      "text/plain": [
       "'ine Lea'"
      ]
     },
     "execution_count": 64,
     "metadata": {},
     "output_type": "execute_result"
    }
   ],
   "source": [
    "str1[4:11:1]"
   ]
  },
  {
   "cell_type": "code",
   "execution_count": 65,
   "id": "abdd46a3",
   "metadata": {},
   "outputs": [
    {
     "data": {
      "text/plain": [
       "'aeL eni'"
      ]
     },
     "execution_count": 65,
     "metadata": {},
     "output_type": "execute_result"
    }
   ],
   "source": [
    "str1[10:3:-1]"
   ]
  },
  {
   "cell_type": "code",
   "execution_count": null,
   "id": "1381fc73",
   "metadata": {},
   "outputs": [],
   "source": [
    "    M  a  c  h  i  n  e     L  e  a  r  n  i  n  g\n",
    "    0  1  2  3  4  5  6  7  8  9  10 11\n",
    " -16 -15-14-13-12-11-10 -9 -8 -7  -6 -5 -4 -3 -2 -1 "
   ]
  },
  {
   "cell_type": "code",
   "execution_count": 66,
   "id": "f14122ab",
   "metadata": {},
   "outputs": [
    {
     "data": {
      "text/plain": [
       "'Mach'"
      ]
     },
     "execution_count": 66,
     "metadata": {},
     "output_type": "execute_result"
    }
   ],
   "source": [
    "str1[0:4:1]"
   ]
  },
  {
   "cell_type": "code",
   "execution_count": 67,
   "id": "cf809afe",
   "metadata": {},
   "outputs": [
    {
     "data": {
      "text/plain": [
       "'Mach'"
      ]
     },
     "execution_count": 67,
     "metadata": {},
     "output_type": "execute_result"
    }
   ],
   "source": [
    "str1[-16:-12:1]"
   ]
  },
  {
   "cell_type": "code",
   "execution_count": 68,
   "id": "aa044f60",
   "metadata": {},
   "outputs": [
    {
     "data": {
      "text/plain": [
       "'hcaM'"
      ]
     },
     "execution_count": 68,
     "metadata": {},
     "output_type": "execute_result"
    }
   ],
   "source": [
    "str1[-13::-1]"
   ]
  },
  {
   "cell_type": "code",
   "execution_count": 69,
   "id": "b9c2507d",
   "metadata": {},
   "outputs": [
    {
     "data": {
      "text/plain": [
       "'rnin'"
      ]
     },
     "execution_count": 69,
     "metadata": {},
     "output_type": "execute_result"
    }
   ],
   "source": [
    "str1[-5:-1]"
   ]
  },
  {
   "cell_type": "code",
   "execution_count": 70,
   "id": "2e9516cd",
   "metadata": {},
   "outputs": [
    {
     "data": {
      "text/plain": [
       "'ri'"
      ]
     },
     "execution_count": 70,
     "metadata": {},
     "output_type": "execute_result"
    }
   ],
   "source": [
    "str1[-5:-1:2]"
   ]
  },
  {
   "cell_type": "code",
   "execution_count": 71,
   "id": "58e2f87a",
   "metadata": {},
   "outputs": [
    {
     "data": {
      "text/plain": [
       "'gi'"
      ]
     },
     "execution_count": 71,
     "metadata": {},
     "output_type": "execute_result"
    }
   ],
   "source": [
    "str1[-1:-5:-2]"
   ]
  },
  {
   "cell_type": "code",
   "execution_count": 72,
   "id": "adc1d289",
   "metadata": {},
   "outputs": [
    {
     "data": {
      "text/plain": [
       "'gire nha'"
      ]
     },
     "execution_count": 72,
     "metadata": {},
     "output_type": "execute_result"
    }
   ],
   "source": [
    "str1 = 'Machine Learning'\n",
    "str1[::-2]"
   ]
  },
  {
   "cell_type": "code",
   "execution_count": 73,
   "id": "0b5ce621",
   "metadata": {},
   "outputs": [
    {
     "data": {
      "text/plain": [
       "'nnaLei'"
      ]
     },
     "execution_count": 73,
     "metadata": {},
     "output_type": "execute_result"
    }
   ],
   "source": [
    "str1 = 'Machine Learning'\n",
    "str1[14:-14:-2]"
   ]
  },
  {
   "cell_type": "code",
   "execution_count": 74,
   "id": "7049a8e8",
   "metadata": {},
   "outputs": [
    {
     "data": {
      "text/plain": [
       "'Sagar jadhav'"
      ]
     },
     "execution_count": 74,
     "metadata": {},
     "output_type": "execute_result"
    }
   ],
   "source": [
    "# Sagar Jadhav\n",
    "str1 = 'vahdaj ragaS'\n",
    "str1[::-1]"
   ]
  },
  {
   "cell_type": "markdown",
   "id": "6ad187d3",
   "metadata": {},
   "source": [
    "## Access char by using for loops"
   ]
  },
  {
   "cell_type": "code",
   "execution_count": null,
   "id": "7f341659",
   "metadata": {},
   "outputs": [],
   "source": [
    "for loop works as an iterator\n",
    "\n",
    "Iterables(Sequence) >> str, list, tuple, dict,set"
   ]
  },
  {
   "cell_type": "code",
   "execution_count": null,
   "id": "b3035701",
   "metadata": {},
   "outputs": [],
   "source": [
    "for var_name in iterable:\n",
    "    print(var_name)"
   ]
  },
  {
   "cell_type": "code",
   "execution_count": 75,
   "id": "6bca83a1",
   "metadata": {},
   "outputs": [
    {
     "name": "stdout",
     "output_type": "stream",
     "text": [
      "P\n",
      "y\n",
      "t\n",
      "h\n",
      "o\n",
      "n\n"
     ]
    }
   ],
   "source": [
    "str4 = 'Python'\n",
    "\n",
    "for var_name in str4:\n",
    "    print(var_name)"
   ]
  },
  {
   "cell_type": "code",
   "execution_count": 76,
   "id": "2b04507c",
   "metadata": {},
   "outputs": [
    {
     "name": "stdout",
     "output_type": "stream",
     "text": [
      "Hello\n",
      "Hello\n",
      "Hello\n",
      "Hello\n",
      "Hello\n",
      "Hello\n"
     ]
    }
   ],
   "source": [
    "str4 = 'Python'\n",
    "\n",
    "for var_name in str4:   # len of string == 6\n",
    "    print('Hello')"
   ]
  },
  {
   "cell_type": "code",
   "execution_count": 77,
   "id": "923180eb",
   "metadata": {},
   "outputs": [
    {
     "name": "stdout",
     "output_type": "stream",
     "text": [
      "Hello\n",
      "**************************************************\n",
      "Hello\n",
      "**************************************************\n",
      "Hello\n",
      "**************************************************\n",
      "Hello\n",
      "**************************************************\n",
      "Hello\n",
      "**************************************************\n",
      "Hello\n",
      "**************************************************\n"
     ]
    }
   ],
   "source": [
    "str4 = 'Python'\n",
    "\n",
    "for var_name in str4:   # len of string == 6\n",
    "    print('Hello')\n",
    "    print('*'*50)"
   ]
  },
  {
   "cell_type": "code",
   "execution_count": 78,
   "id": "39a94901",
   "metadata": {},
   "outputs": [
    {
     "ename": "SyntaxError",
     "evalue": "invalid syntax (<ipython-input-78-72f739353e2d>, line 3)",
     "output_type": "error",
     "traceback": [
      "\u001b[1;36m  File \u001b[1;32m\"<ipython-input-78-72f739353e2d>\"\u001b[1;36m, line \u001b[1;32m3\u001b[0m\n\u001b[1;33m    for char in str5\u001b[0m\n\u001b[1;37m                    ^\u001b[0m\n\u001b[1;31mSyntaxError\u001b[0m\u001b[1;31m:\u001b[0m invalid syntax\n"
     ]
    }
   ],
   "source": [
    "str5 = 'Velocity'\n",
    "\n",
    "for char in str5\n",
    "print(char)"
   ]
  },
  {
   "cell_type": "code",
   "execution_count": 79,
   "id": "cf286534",
   "metadata": {},
   "outputs": [
    {
     "ename": "IndentationError",
     "evalue": "expected an indented block (<ipython-input-79-49fcc6cd4b5d>, line 4)",
     "output_type": "error",
     "traceback": [
      "\u001b[1;36m  File \u001b[1;32m\"<ipython-input-79-49fcc6cd4b5d>\"\u001b[1;36m, line \u001b[1;32m4\u001b[0m\n\u001b[1;33m    print(char)\u001b[0m\n\u001b[1;37m    ^\u001b[0m\n\u001b[1;31mIndentationError\u001b[0m\u001b[1;31m:\u001b[0m expected an indented block\n"
     ]
    }
   ],
   "source": [
    "str5 = 'Velocity'\n",
    "\n",
    "for char in str5:\n",
    "print(char)"
   ]
  },
  {
   "cell_type": "code",
   "execution_count": 85,
   "id": "907e2ef3",
   "metadata": {},
   "outputs": [
    {
     "name": "stdout",
     "output_type": "stream",
     "text": [
      "Length of string is: 8\n",
      "Char is: V\n",
      "Loop Executed\n",
      "hi\n",
      "bye\n",
      "\n",
      "Char is: e\n",
      "Loop Executed\n",
      "hi\n",
      "bye\n",
      "\n",
      "Char is: l\n",
      "Loop Executed\n",
      "hi\n",
      "bye\n",
      "\n",
      "Char is: o\n",
      "Loop Executed\n",
      "hi\n",
      "bye\n",
      "\n",
      "Char is: c\n",
      "Loop Executed\n",
      "hi\n",
      "bye\n",
      "\n",
      "Char is: i\n",
      "Loop Executed\n",
      "hi\n",
      "bye\n",
      "\n",
      "Char is: t\n",
      "Loop Executed\n",
      "hi\n",
      "bye\n",
      "\n",
      "Char is: y\n",
      "Loop Executed\n",
      "hi\n",
      "bye\n",
      "\n"
     ]
    }
   ],
   "source": [
    "str5 = 'Velocity'\n",
    "print('Length of string is:',len(str5))\n",
    "for char in str5:\n",
    "    print('Char is:',char)\n",
    "    print('Loop Executed')\n",
    "    print('hi')\n",
    "    print('bye')\n",
    "    print()"
   ]
  },
  {
   "cell_type": "code",
   "execution_count": 89,
   "id": "9f702dcc",
   "metadata": {},
   "outputs": [
    {
     "name": "stdout",
     "output_type": "stream",
     "text": [
      "Char is: V\n",
      "Hi\n",
      "Char is: e\n",
      "Hi\n",
      "Char is: l\n",
      "Hi\n",
      "Char is: o\n",
      "Hi\n",
      "Char is: c\n",
      "Hi\n",
      "Char is: i\n",
      "Hi\n",
      "Char is: t\n",
      "Hi\n",
      "Char is: y\n",
      "Hi\n",
      "Loop Executed\n",
      "Bye\n"
     ]
    }
   ],
   "source": [
    "str5 = 'Velocity'\n",
    "# print('Length of string is:',len(str5))\n",
    "for char in str5:\n",
    "    print('Char is:',char)\n",
    "    print('Hi')\n",
    "    \n",
    "print('Loop Executed')\n",
    "print('Bye')\n",
    "    "
   ]
  },
  {
   "cell_type": "code",
   "execution_count": 91,
   "id": "888d46c5",
   "metadata": {},
   "outputs": [
    {
     "name": "stdout",
     "output_type": "stream",
     "text": [
      "Length of string is: 8\n",
      "Char is: V\n",
      "Loop Executed\n",
      "Char is: e\n",
      "Loop Executed\n",
      "Char is: l\n",
      "Loop Executed\n",
      "Char is: o\n",
      "Loop Executed\n",
      "Char is: c\n",
      "Loop Executed\n",
      "Char is: i\n",
      "Loop Executed\n",
      "Char is: t\n",
      "Loop Executed\n",
      "Char is: y\n",
      "Loop Executed\n",
      "hi\n",
      "bye\n",
      "\n"
     ]
    }
   ],
   "source": [
    "str5 = 'Velocity'\n",
    "print('Length of string is:',len(str5))\n",
    "for char in str5:\n",
    "    print('Char is:',char)\n",
    "    print('Loop Executed')\n",
    "    \n",
    "print('hi')\n",
    "print('bye')\n",
    "print()"
   ]
  },
  {
   "cell_type": "code",
   "execution_count": 92,
   "id": "bc0a94bc",
   "metadata": {},
   "outputs": [
    {
     "name": "stdout",
     "output_type": "stream",
     "text": [
      "0\n",
      "1\n",
      "2\n",
      "3\n",
      "4\n",
      "5\n"
     ]
    }
   ],
   "source": [
    "for suyash in range(0,6):\n",
    "    print(suyash)"
   ]
  },
  {
   "cell_type": "code",
   "execution_count": 98,
   "id": "86027015",
   "metadata": {},
   "outputs": [],
   "source": [
    "def sagar():\n",
    "    print('I love IPL')\n"
   ]
  },
  {
   "cell_type": "code",
   "execution_count": 99,
   "id": "9ef30767",
   "metadata": {},
   "outputs": [
    {
     "name": "stdout",
     "output_type": "stream",
     "text": [
      "I love IPL\n"
     ]
    }
   ],
   "source": [
    "sagar()"
   ]
  },
  {
   "cell_type": "code",
   "execution_count": 103,
   "id": "08e1bb6e",
   "metadata": {},
   "outputs": [
    {
     "name": "stdout",
     "output_type": "stream",
     "text": [
      "Char is: V\n",
      "**************************************************\n",
      "Char is: e\n",
      "**************************************************\n",
      "Char is: l\n",
      "**************************************************\n",
      "Char is: o\n",
      "**************************************************\n",
      "Char is: c\n",
      "**************************************************\n",
      "Char is: i\n",
      "**************************************************\n",
      "Char is: t\n",
      "**************************************************\n",
      "Char is: y\n",
      "**************************************************\n",
      "Loop Executed\n"
     ]
    }
   ],
   "source": [
    "str5 = 'Velocity'\n",
    "\n",
    "for char in str5:\n",
    "    print('Char is:',char)\n",
    "    print('*'*50)\n",
    "\n",
    "print('Loop Executed')"
   ]
  },
  {
   "cell_type": "code",
   "execution_count": 104,
   "id": "7ec3e401",
   "metadata": {},
   "outputs": [
    {
     "name": "stdout",
     "output_type": "stream",
     "text": [
      "Char is: 1\n",
      "**************************************************\n",
      "Char is: 2\n",
      "**************************************************\n",
      "Char is: 3\n",
      "**************************************************\n",
      "Char is: 4\n",
      "**************************************************\n",
      "Loop Executed\n"
     ]
    }
   ],
   "source": [
    "str5 = '1234'\n",
    "\n",
    "for char in str5:\n",
    "    print('Char is:',char)\n",
    "    print('*'*50)\n",
    "\n",
    "print('Loop Executed')"
   ]
  },
  {
   "cell_type": "code",
   "execution_count": 105,
   "id": "f3d6007b",
   "metadata": {},
   "outputs": [
    {
     "name": "stdout",
     "output_type": "stream",
     "text": [
      "Char is: c\n",
      "**************************************************\n",
      "Char is: i\n",
      "**************************************************\n",
      "Char is: t\n",
      "**************************************************\n",
      "Char is: y\n",
      "**************************************************\n",
      "Loop Executed\n"
     ]
    }
   ],
   "source": [
    "str5 = 'Velocity'\n",
    "\n",
    "for char in str5[4:]:\n",
    "    print('Char is:',char)\n",
    "    print('*'*50)\n",
    "\n",
    "print('Loop Executed')"
   ]
  },
  {
   "cell_type": "code",
   "execution_count": 106,
   "id": "4440cc8c",
   "metadata": {},
   "outputs": [
    {
     "name": "stdout",
     "output_type": "stream",
     "text": [
      "Char is: y\n",
      "**************************************************\n",
      "Char is: t\n",
      "**************************************************\n",
      "Char is: i\n",
      "**************************************************\n",
      "Char is: c\n",
      "**************************************************\n",
      "Char is: o\n",
      "**************************************************\n",
      "Char is: l\n",
      "**************************************************\n",
      "Char is: e\n",
      "**************************************************\n",
      "Char is: V\n",
      "**************************************************\n",
      "Loop Executed\n"
     ]
    }
   ],
   "source": [
    "str5 = 'Velocity'\n",
    "\n",
    "for char in str5[::-1]:\n",
    "    print('Char is:',char)\n",
    "    print('*'*50)\n",
    "\n",
    "print('Loop Executed')"
   ]
  },
  {
   "cell_type": "code",
   "execution_count": 108,
   "id": "28dc08f7",
   "metadata": {},
   "outputs": [
    {
     "name": "stdout",
     "output_type": "stream",
     "text": [
      "Char is: V\n",
      "**************************************************\n",
      "Char is: e\n",
      "**************************************************\n",
      "Char is: l\n",
      "**************************************************\n",
      "Loop Executed\n"
     ]
    }
   ],
   "source": [
    "str5 = 'Velocity'\n",
    "\n",
    "for char in str5[0:3]:\n",
    "    print('Char is:',char)\n",
    "    print('*'*50)\n",
    "\n",
    "print('Loop Executed')"
   ]
  },
  {
   "cell_type": "code",
   "execution_count": 110,
   "id": "3f28b588",
   "metadata": {},
   "outputs": [
    {
     "name": "stdout",
     "output_type": "stream",
     "text": [
      "Char is: V\n",
      "**************************************************\n",
      "Loop Executed\n"
     ]
    }
   ],
   "source": [
    "print('Char is:',str5[0])\n",
    "print('*'*50)\n",
    "print('Loop Executed')"
   ]
  },
  {
   "cell_type": "code",
   "execution_count": null,
   "id": "91923a11",
   "metadata": {},
   "outputs": [],
   "source": []
  }
 ],
 "metadata": {
  "kernelspec": {
   "display_name": "Python 3",
   "language": "python",
   "name": "python3"
  },
  "language_info": {
   "codemirror_mode": {
    "name": "ipython",
    "version": 3
   },
   "file_extension": ".py",
   "mimetype": "text/x-python",
   "name": "python",
   "nbconvert_exporter": "python",
   "pygments_lexer": "ipython3",
   "version": "3.8.8"
  }
 },
 "nbformat": 4,
 "nbformat_minor": 5
}
