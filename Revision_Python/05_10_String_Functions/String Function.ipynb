{
 "cells": [
  {
   "cell_type": "markdown",
   "id": "dfb751a4",
   "metadata": {},
   "source": [
    "## String Functions"
   ]
  },
  {
   "cell_type": "code",
   "execution_count": null,
   "id": "ed2fd3f9",
   "metadata": {},
   "outputs": [],
   "source": [
    "Strings are immutable (unchangable)\n",
    "immuatble >> We can not modify string once created"
   ]
  },
  {
   "cell_type": "code",
   "execution_count": 3,
   "id": "4543df8c",
   "metadata": {},
   "outputs": [
    {
     "name": "stdout",
     "output_type": "stream",
     "text": [
      "python\n"
     ]
    },
    {
     "data": {
      "text/plain": [
       "'tho'"
      ]
     },
     "execution_count": 3,
     "metadata": {},
     "output_type": "execute_result"
    }
   ],
   "source": [
    "string = 'python'\n",
    "print(string)\n",
    "string = string[2:5]\n",
    "string"
   ]
  },
  {
   "cell_type": "code",
   "execution_count": 10,
   "id": "ae232922",
   "metadata": {},
   "outputs": [
    {
     "name": "stdout",
     "output_type": "stream",
     "text": [
      "python\n"
     ]
    },
    {
     "data": {
      "text/plain": [
       "'python'"
      ]
     },
     "execution_count": 10,
     "metadata": {},
     "output_type": "execute_result"
    }
   ],
   "source": [
    "string = 'python'\n",
    "print(string)\n",
    "string[2:5]\n",
    "string"
   ]
  },
  {
   "cell_type": "code",
   "execution_count": 4,
   "id": "d3f5c7cf",
   "metadata": {},
   "outputs": [
    {
     "ename": "TypeError",
     "evalue": "'str' object doesn't support item deletion",
     "output_type": "error",
     "traceback": [
      "\u001b[1;31m---------------------------------------------------------------------------\u001b[0m",
      "\u001b[1;31mTypeError\u001b[0m                                 Traceback (most recent call last)",
      "\u001b[1;32m<ipython-input-4-42d564cc0df8>\u001b[0m in \u001b[0;36m<module>\u001b[1;34m\u001b[0m\n\u001b[0;32m      1\u001b[0m \u001b[0mstring\u001b[0m \u001b[1;33m=\u001b[0m \u001b[1;34m'python'\u001b[0m\u001b[1;33m\u001b[0m\u001b[1;33m\u001b[0m\u001b[0m\n\u001b[1;32m----> 2\u001b[1;33m \u001b[1;32mdel\u001b[0m \u001b[0mstring\u001b[0m\u001b[1;33m[\u001b[0m\u001b[1;36m1\u001b[0m\u001b[1;33m]\u001b[0m\u001b[1;33m\u001b[0m\u001b[1;33m\u001b[0m\u001b[0m\n\u001b[0m",
      "\u001b[1;31mTypeError\u001b[0m: 'str' object doesn't support item deletion"
     ]
    }
   ],
   "source": [
    "string = 'python'\n",
    "del string[1]"
   ]
  },
  {
   "cell_type": "code",
   "execution_count": 5,
   "id": "e3bbf775",
   "metadata": {},
   "outputs": [],
   "source": [
    "l1 = [1,2,3,4]\n",
    "del l1[1]"
   ]
  },
  {
   "cell_type": "code",
   "execution_count": 6,
   "id": "66b51e33",
   "metadata": {},
   "outputs": [
    {
     "data": {
      "text/plain": [
       "[1, 3, 4]"
      ]
     },
     "execution_count": 6,
     "metadata": {},
     "output_type": "execute_result"
    }
   ],
   "source": [
    "l1"
   ]
  },
  {
   "cell_type": "code",
   "execution_count": 7,
   "id": "db562188",
   "metadata": {},
   "outputs": [
    {
     "ename": "TypeError",
     "evalue": "'str' object does not support item assignment",
     "output_type": "error",
     "traceback": [
      "\u001b[1;31m---------------------------------------------------------------------------\u001b[0m",
      "\u001b[1;31mTypeError\u001b[0m                                 Traceback (most recent call last)",
      "\u001b[1;32m<ipython-input-7-78f94ad00329>\u001b[0m in \u001b[0;36m<module>\u001b[1;34m\u001b[0m\n\u001b[0;32m      1\u001b[0m \u001b[0mstring\u001b[0m \u001b[1;33m=\u001b[0m \u001b[1;34m'python'\u001b[0m\u001b[1;33m\u001b[0m\u001b[1;33m\u001b[0m\u001b[0m\n\u001b[1;32m----> 2\u001b[1;33m \u001b[0mstring\u001b[0m\u001b[1;33m[\u001b[0m\u001b[1;36m1\u001b[0m\u001b[1;33m]\u001b[0m \u001b[1;33m=\u001b[0m \u001b[1;34m'Y'\u001b[0m\u001b[1;33m\u001b[0m\u001b[1;33m\u001b[0m\u001b[0m\n\u001b[0m",
      "\u001b[1;31mTypeError\u001b[0m: 'str' object does not support item assignment"
     ]
    }
   ],
   "source": [
    "string = 'python'\n",
    "string[1] = 'Y'"
   ]
  },
  {
   "cell_type": "code",
   "execution_count": 8,
   "id": "efaea0e8",
   "metadata": {},
   "outputs": [
    {
     "data": {
      "text/plain": [
       "[1, 'Y', 3]"
      ]
     },
     "execution_count": 8,
     "metadata": {},
     "output_type": "execute_result"
    }
   ],
   "source": [
    "l1 =[1,2,3]\n",
    "l1[1] = 'Y'\n",
    "l1"
   ]
  },
  {
   "cell_type": "code",
   "execution_count": 11,
   "id": "79e3f350",
   "metadata": {},
   "outputs": [
    {
     "data": {
      "text/plain": [
       "'MachineLearning'"
      ]
     },
     "execution_count": 11,
     "metadata": {},
     "output_type": "execute_result"
    }
   ],
   "source": [
    "str1 = 'Machine'\n",
    "str2 = 'Learning'\n",
    "\n",
    "str1 + str2  # concatination(concat)"
   ]
  },
  {
   "cell_type": "code",
   "execution_count": 12,
   "id": "c7be748c",
   "metadata": {},
   "outputs": [
    {
     "data": {
      "text/plain": [
       "'Machine'"
      ]
     },
     "execution_count": 12,
     "metadata": {},
     "output_type": "execute_result"
    }
   ],
   "source": [
    "str1"
   ]
  },
  {
   "cell_type": "code",
   "execution_count": 13,
   "id": "f7e201eb",
   "metadata": {},
   "outputs": [
    {
     "data": {
      "text/plain": [
       "'MachineLearningDataScience'"
      ]
     },
     "execution_count": 13,
     "metadata": {},
     "output_type": "execute_result"
    }
   ],
   "source": [
    "str1 = 'Machine'\n",
    "str2 = 'Learning'\n",
    "str3 = 'Data'\n",
    "str4 = 'Science'\n",
    "\n",
    "str1 + str2 + str3 + str4  # concatination(concat)"
   ]
  },
  {
   "cell_type": "code",
   "execution_count": 14,
   "id": "3ec545f9",
   "metadata": {},
   "outputs": [
    {
     "data": {
      "text/plain": [
       "'Machine Learning'"
      ]
     },
     "execution_count": 14,
     "metadata": {},
     "output_type": "execute_result"
    }
   ],
   "source": [
    "str1 = 'Machine'\n",
    "str2 = 'Learning'\n",
    "\n",
    "str1 + ' ' + str2  # concatination(concat)"
   ]
  },
  {
   "cell_type": "code",
   "execution_count": 15,
   "id": "3798aa91",
   "metadata": {},
   "outputs": [
    {
     "data": {
      "text/plain": [
       "str"
      ]
     },
     "execution_count": 15,
     "metadata": {},
     "output_type": "execute_result"
    }
   ],
   "source": [
    "type(' ')"
   ]
  },
  {
   "cell_type": "code",
   "execution_count": 16,
   "id": "58770a86",
   "metadata": {},
   "outputs": [
    {
     "data": {
      "text/plain": [
       "'Machine '"
      ]
     },
     "execution_count": 16,
     "metadata": {},
     "output_type": "execute_result"
    }
   ],
   "source": [
    "str1 = 'Machine'\n",
    "str1 + ' '"
   ]
  },
  {
   "cell_type": "code",
   "execution_count": 17,
   "id": "0296f302",
   "metadata": {},
   "outputs": [
    {
     "ename": "TypeError",
     "evalue": "can only concatenate str (not \"int\") to str",
     "output_type": "error",
     "traceback": [
      "\u001b[1;31m---------------------------------------------------------------------------\u001b[0m",
      "\u001b[1;31mTypeError\u001b[0m                                 Traceback (most recent call last)",
      "\u001b[1;32m<ipython-input-17-76baa7facc23>\u001b[0m in \u001b[0;36m<module>\u001b[1;34m\u001b[0m\n\u001b[0;32m      2\u001b[0m \u001b[0mstr2\u001b[0m \u001b[1;33m=\u001b[0m \u001b[1;36m1234\u001b[0m\u001b[1;33m\u001b[0m\u001b[1;33m\u001b[0m\u001b[0m\n\u001b[0;32m      3\u001b[0m \u001b[1;33m\u001b[0m\u001b[0m\n\u001b[1;32m----> 4\u001b[1;33m \u001b[0mstr1\u001b[0m \u001b[1;33m+\u001b[0m \u001b[1;34m' '\u001b[0m \u001b[1;33m+\u001b[0m \u001b[0mstr2\u001b[0m  \u001b[1;31m#\u001b[0m\u001b[1;33m\u001b[0m\u001b[1;33m\u001b[0m\u001b[0m\n\u001b[0m",
      "\u001b[1;31mTypeError\u001b[0m: can only concatenate str (not \"int\") to str"
     ]
    }
   ],
   "source": [
    "str1 = 'Machine'\n",
    "str2 = 1234\n",
    "\n",
    "str1 + ' ' + str2  #"
   ]
  },
  {
   "cell_type": "code",
   "execution_count": 18,
   "id": "39e7c1f4",
   "metadata": {},
   "outputs": [
    {
     "data": {
      "text/plain": [
       "'Machine 1234'"
      ]
     },
     "execution_count": 18,
     "metadata": {},
     "output_type": "execute_result"
    }
   ],
   "source": [
    "str1 = 'Machine'\n",
    "str2 = 1234\n",
    "\n",
    "str1 + ' ' + str(str2)  #"
   ]
  },
  {
   "cell_type": "code",
   "execution_count": 20,
   "id": "5237a1d4",
   "metadata": {},
   "outputs": [
    {
     "data": {
      "text/plain": [
       "'Machine Machine Machine Machine Machine '"
      ]
     },
     "execution_count": 20,
     "metadata": {},
     "output_type": "execute_result"
    }
   ],
   "source": [
    "str1 = 'Machine '\n",
    "\n",
    "str1 * 5"
   ]
  },
  {
   "cell_type": "code",
   "execution_count": 21,
   "id": "bdd6bf11",
   "metadata": {},
   "outputs": [
    {
     "data": {
      "text/plain": [
       "'####################'"
      ]
     },
     "execution_count": 21,
     "metadata": {},
     "output_type": "execute_result"
    }
   ],
   "source": [
    "'#'*20"
   ]
  },
  {
   "cell_type": "code",
   "execution_count": 22,
   "id": "d796e802",
   "metadata": {},
   "outputs": [
    {
     "ename": "TypeError",
     "evalue": "can't multiply sequence by non-int of type 'str'",
     "output_type": "error",
     "traceback": [
      "\u001b[1;31m---------------------------------------------------------------------------\u001b[0m",
      "\u001b[1;31mTypeError\u001b[0m                                 Traceback (most recent call last)",
      "\u001b[1;32m<ipython-input-22-9f71df09f657>\u001b[0m in \u001b[0;36m<module>\u001b[1;34m\u001b[0m\n\u001b[0;32m      2\u001b[0m \u001b[0mstr2\u001b[0m \u001b[1;33m=\u001b[0m \u001b[1;34m'Learning'\u001b[0m\u001b[1;33m\u001b[0m\u001b[1;33m\u001b[0m\u001b[0m\n\u001b[0;32m      3\u001b[0m \u001b[1;33m\u001b[0m\u001b[0m\n\u001b[1;32m----> 4\u001b[1;33m \u001b[0mstr1\u001b[0m \u001b[1;33m*\u001b[0m \u001b[0mstr2\u001b[0m\u001b[1;33m\u001b[0m\u001b[1;33m\u001b[0m\u001b[0m\n\u001b[0m",
      "\u001b[1;31mTypeError\u001b[0m: can't multiply sequence by non-int of type 'str'"
     ]
    }
   ],
   "source": [
    "str1 = 'Machine'\n",
    "str2 = 'Learning'\n",
    "\n",
    "str1 * str2"
   ]
  },
  {
   "cell_type": "code",
   "execution_count": 23,
   "id": "b7161daf",
   "metadata": {},
   "outputs": [
    {
     "data": {
      "text/plain": [
       "'@#$^@#$^@#$^@#$^@#$^@#$^@#$^@#$^@#$^@#$^@#$^@#$^@#$^@#$^@#$^@#$^@#$^@#$^@#$^@#$^'"
      ]
     },
     "execution_count": 23,
     "metadata": {},
     "output_type": "execute_result"
    }
   ],
   "source": [
    "'@#$^'*20"
   ]
  },
  {
   "cell_type": "code",
   "execution_count": 24,
   "id": "2cf5383d",
   "metadata": {},
   "outputs": [
    {
     "ename": "SyntaxError",
     "evalue": "invalid syntax (<ipython-input-24-11ac933b8b29>, line 1)",
     "output_type": "error",
     "traceback": [
      "\u001b[1;36m  File \u001b[1;32m\"<ipython-input-24-11ac933b8b29>\"\u001b[1;36m, line \u001b[1;32m1\u001b[0m\n\u001b[1;33m    @ * 5\u001b[0m\n\u001b[1;37m      ^\u001b[0m\n\u001b[1;31mSyntaxError\u001b[0m\u001b[1;31m:\u001b[0m invalid syntax\n"
     ]
    }
   ],
   "source": [
    "@ * 5"
   ]
  },
  {
   "cell_type": "markdown",
   "id": "77bdc0a6",
   "metadata": {},
   "source": [
    "# String Functions"
   ]
  },
  {
   "cell_type": "markdown",
   "id": "92fee851",
   "metadata": {},
   "source": [
    "## 1. Capitalize()"
   ]
  },
  {
   "cell_type": "code",
   "execution_count": null,
   "id": "1d8f3e3e",
   "metadata": {},
   "outputs": [],
   "source": [
    "It will capitalize only first char of the string\n",
    "first char >> zerox index item "
   ]
  },
  {
   "cell_type": "code",
   "execution_count": 25,
   "id": "297e632e",
   "metadata": {},
   "outputs": [
    {
     "data": {
      "text/plain": [
       "'Machine learning'"
      ]
     },
     "execution_count": 25,
     "metadata": {},
     "output_type": "execute_result"
    }
   ],
   "source": [
    "str1 = 'machine learning'\n",
    "str1.capitalize()"
   ]
  },
  {
   "cell_type": "code",
   "execution_count": 26,
   "id": "a7d2197f",
   "metadata": {},
   "outputs": [
    {
     "data": {
      "text/plain": [
       "'machine learning'"
      ]
     },
     "execution_count": 26,
     "metadata": {},
     "output_type": "execute_result"
    }
   ],
   "source": [
    "str1"
   ]
  },
  {
   "cell_type": "code",
   "execution_count": 27,
   "id": "6ea59a56",
   "metadata": {},
   "outputs": [
    {
     "data": {
      "text/plain": [
       "'Machine learning'"
      ]
     },
     "execution_count": 27,
     "metadata": {},
     "output_type": "execute_result"
    }
   ],
   "source": [
    "str1 = 'MACHINE learning'\n",
    "str1.capitalize()"
   ]
  },
  {
   "cell_type": "code",
   "execution_count": 28,
   "id": "a8fcf0a0",
   "metadata": {},
   "outputs": [
    {
     "data": {
      "text/plain": [
       "'Machine learning'"
      ]
     },
     "execution_count": 28,
     "metadata": {},
     "output_type": "execute_result"
    }
   ],
   "source": [
    "str1 = 'MACHINE LEARNING'\n",
    "str1.capitalize()"
   ]
  },
  {
   "cell_type": "markdown",
   "id": "8d32df89",
   "metadata": {},
   "source": [
    "## 2. upper()"
   ]
  },
  {
   "cell_type": "code",
   "execution_count": null,
   "id": "95b3a976",
   "metadata": {},
   "outputs": [],
   "source": [
    "It will convert into upper case"
   ]
  },
  {
   "cell_type": "code",
   "execution_count": 29,
   "id": "556a7dcb",
   "metadata": {},
   "outputs": [
    {
     "data": {
      "text/plain": [
       "'MACHINE LEARNING'"
      ]
     },
     "execution_count": 29,
     "metadata": {},
     "output_type": "execute_result"
    }
   ],
   "source": [
    "str1 = 'machine learning'\n",
    "str1.upper()"
   ]
  },
  {
   "cell_type": "code",
   "execution_count": 30,
   "id": "6b386f97",
   "metadata": {},
   "outputs": [
    {
     "data": {
      "text/plain": [
       "'machine learning'"
      ]
     },
     "execution_count": 30,
     "metadata": {},
     "output_type": "execute_result"
    }
   ],
   "source": [
    "str1"
   ]
  },
  {
   "cell_type": "code",
   "execution_count": 31,
   "id": "cb6a2af1",
   "metadata": {},
   "outputs": [
    {
     "data": {
      "text/plain": [
       "'MACHINE LEARNING'"
      ]
     },
     "execution_count": 31,
     "metadata": {},
     "output_type": "execute_result"
    }
   ],
   "source": [
    "str1 = 'MACHINE learning'\n",
    "str2 = str1.upper()\n",
    "str2"
   ]
  },
  {
   "cell_type": "code",
   "execution_count": 32,
   "id": "b2dcd02d",
   "metadata": {},
   "outputs": [
    {
     "name": "stdout",
     "output_type": "stream",
     "text": [
      "Original string is: MACHINE learning\n",
      "Updated string is : MACHINE LEARNING\n"
     ]
    }
   ],
   "source": [
    "str1 = 'MACHINE learning'\n",
    "str2 = str1.upper()\n",
    "\n",
    "print('Original string is:',str1)\n",
    "print('Updated string is :',str2)"
   ]
  },
  {
   "cell_type": "code",
   "execution_count": 33,
   "id": "65ab296a",
   "metadata": {},
   "outputs": [
    {
     "name": "stdout",
     "output_type": "stream",
     "text": [
      "Original string is: MACHINE LEARNING\n",
      "Updated string is : MACHINE LEARNING\n"
     ]
    }
   ],
   "source": [
    "str1 = 'MACHINE LEARNING'\n",
    "str2 = str1.upper()\n",
    "\n",
    "print('Original string is:',str1)\n",
    "print('Updated string is :',str2)"
   ]
  },
  {
   "cell_type": "code",
   "execution_count": 34,
   "id": "979b3d05",
   "metadata": {},
   "outputs": [
    {
     "name": "stdout",
     "output_type": "stream",
     "text": [
      "Original string is: MACHINE LEARNING123\n",
      "Updated string is : MACHINE LEARNING123\n"
     ]
    }
   ],
   "source": [
    "str1 = 'MACHINE LEARNING123'\n",
    "str2 = str1.upper()\n",
    "\n",
    "print('Original string is:',str1)\n",
    "print('Updated string is :',str2)"
   ]
  },
  {
   "cell_type": "markdown",
   "id": "3684d38a",
   "metadata": {},
   "source": [
    "## 3. lower()"
   ]
  },
  {
   "cell_type": "code",
   "execution_count": 35,
   "id": "72129d50",
   "metadata": {},
   "outputs": [
    {
     "name": "stdout",
     "output_type": "stream",
     "text": [
      "Original string is: MACHINE LEARNING123\n",
      "Updated string is : machine learning123\n"
     ]
    }
   ],
   "source": [
    "str1 = 'MACHINE LEARNING123'\n",
    "str2 = str1.lower()\n",
    "\n",
    "print('Original string is:',str1)\n",
    "print('Updated string is :',str2)"
   ]
  },
  {
   "cell_type": "code",
   "execution_count": 36,
   "id": "49a4b244",
   "metadata": {},
   "outputs": [
    {
     "data": {
      "text/plain": [
       "'machine learning'"
      ]
     },
     "execution_count": 36,
     "metadata": {},
     "output_type": "execute_result"
    }
   ],
   "source": [
    "str1 = 'MaChIne learning'\n",
    "str1.lower()"
   ]
  },
  {
   "cell_type": "code",
   "execution_count": 37,
   "id": "c3a70047",
   "metadata": {},
   "outputs": [
    {
     "data": {
      "text/plain": [
       "'MACHINE LEARNING (ML) IS A TYPE OF ARTIFICIAL INTELLIGENCE (AI) THAT ALLOWS\\nSOFTWARE APPLICATIONS TO BECOME MORE ACCURATE AT PREDICTING OUTCOMES WITHOUT BEING EXPLICITLY PROGRAMMED TO DO SO'"
      ]
     },
     "execution_count": 37,
     "metadata": {},
     "output_type": "execute_result"
    }
   ],
   "source": [
    "str2 = '''Machine learning (ML) is a type of artificial intelligence (AI) that allows\n",
    "software applications to become more accurate at predicting outcomes without being explicitly programmed to do so'''\n",
    "str2.upper()"
   ]
  },
  {
   "cell_type": "code",
   "execution_count": 38,
   "id": "f67f7b3a",
   "metadata": {},
   "outputs": [
    {
     "data": {
      "text/plain": [
       "'machine learning (ml) is a type of artificial intelligence (ai) that allows\\nsoftware applications to become more accurate at predicting outcomes without being explicitly programmed to do so'"
      ]
     },
     "execution_count": 38,
     "metadata": {},
     "output_type": "execute_result"
    }
   ],
   "source": [
    "str2 = '''Machine learning (ML) is a type of artificial intelligence (AI) that allows\n",
    "software applications to become more accurate at predicting outcomes without being explicitly programmed to do so'''\n",
    "str2.lower()"
   ]
  },
  {
   "cell_type": "markdown",
   "id": "4e5f064d",
   "metadata": {},
   "source": [
    "## 4. title()"
   ]
  },
  {
   "cell_type": "code",
   "execution_count": null,
   "id": "eaafad2b",
   "metadata": {},
   "outputs": [],
   "source": [
    "It will convert string into title case (capitalize each word)\n",
    "title case >> 'virat kohli' >> 'Virat Kohli'"
   ]
  },
  {
   "cell_type": "code",
   "execution_count": 39,
   "id": "60e51340",
   "metadata": {},
   "outputs": [
    {
     "data": {
      "text/plain": [
       "'Virat Kohli'"
      ]
     },
     "execution_count": 39,
     "metadata": {},
     "output_type": "execute_result"
    }
   ],
   "source": [
    "str3 = 'virat kohli'\n",
    "str3.title()"
   ]
  },
  {
   "cell_type": "code",
   "execution_count": 40,
   "id": "a4f5245d",
   "metadata": {},
   "outputs": [
    {
     "data": {
      "text/plain": [
       "'United States Of America'"
      ]
     },
     "execution_count": 40,
     "metadata": {},
     "output_type": "execute_result"
    }
   ],
   "source": [
    "str4 = 'united states of america'\n",
    "str4.title()"
   ]
  },
  {
   "cell_type": "code",
   "execution_count": null,
   "id": "4a9cb957",
   "metadata": {},
   "outputs": [],
   "source": []
  },
  {
   "cell_type": "code",
   "execution_count": 41,
   "id": "0ccbefbc",
   "metadata": {},
   "outputs": [
    {
     "data": {
      "text/plain": [
       "False"
      ]
     },
     "execution_count": 41,
     "metadata": {},
     "output_type": "execute_result"
    }
   ],
   "source": [
    "pan_name = 'VIRAT KOHLI'\n",
    "adhar_card = 'Virat Kohli'\n",
    "pan_name == adhar_card"
   ]
  },
  {
   "cell_type": "code",
   "execution_count": 42,
   "id": "50f9a54a",
   "metadata": {},
   "outputs": [
    {
     "data": {
      "text/plain": [
       "False"
      ]
     },
     "execution_count": 42,
     "metadata": {},
     "output_type": "execute_result"
    }
   ],
   "source": [
    "s1 = 'python'\n",
    "s2 = 'class'\n",
    "s1 == s2"
   ]
  },
  {
   "cell_type": "code",
   "execution_count": 43,
   "id": "3b5576a5",
   "metadata": {},
   "outputs": [
    {
     "data": {
      "text/plain": [
       "True"
      ]
     },
     "execution_count": 43,
     "metadata": {},
     "output_type": "execute_result"
    }
   ],
   "source": [
    "s1 = 'python'\n",
    "s2 = 'python'\n",
    "s1 == s2"
   ]
  },
  {
   "cell_type": "code",
   "execution_count": 44,
   "id": "df5dc392",
   "metadata": {},
   "outputs": [
    {
     "data": {
      "text/plain": [
       "True"
      ]
     },
     "execution_count": 44,
     "metadata": {},
     "output_type": "execute_result"
    }
   ],
   "source": [
    "a = 10\n",
    "b = 10.0\n",
    "a == b"
   ]
  },
  {
   "cell_type": "code",
   "execution_count": 46,
   "id": "b58a6b79",
   "metadata": {},
   "outputs": [
    {
     "name": "stdout",
     "output_type": "stream",
     "text": [
      "PAN Name: virat kohli\n",
      "ADHAR Name: VIRAT KOHLI\n"
     ]
    },
    {
     "data": {
      "text/plain": [
       "False"
      ]
     },
     "execution_count": 46,
     "metadata": {},
     "output_type": "execute_result"
    }
   ],
   "source": [
    "pan_name = 'VIRAT KOHLI'\n",
    "pan_name = pan_name.lower()\n",
    "\n",
    "print('PAN Name:', pan_name)\n",
    "\n",
    "adhar_card = 'Virat Kohli'\n",
    "adhar_card = adhar_card.upper()\n",
    "\n",
    "print('ADHAR Name:', adhar_card)\n",
    "pan_name == adhar_card"
   ]
  },
  {
   "cell_type": "code",
   "execution_count": 47,
   "id": "b64229e5",
   "metadata": {},
   "outputs": [
    {
     "name": "stdout",
     "output_type": "stream",
     "text": [
      "PAN Name: VIRAT KOHLI\n",
      "ADHAR Name: VIRAT KOHLI\n"
     ]
    },
    {
     "data": {
      "text/plain": [
       "True"
      ]
     },
     "execution_count": 47,
     "metadata": {},
     "output_type": "execute_result"
    }
   ],
   "source": [
    "pan_name = 'VIRAT KOHLI'\n",
    "pan_name = pan_name.upper()\n",
    "\n",
    "print('PAN Name:', pan_name)\n",
    "\n",
    "adhar_card = 'Virat Kohli'\n",
    "adhar_card = adhar_card.upper()\n",
    "\n",
    "print('ADHAR Name:', adhar_card)\n",
    "pan_name == adhar_card"
   ]
  },
  {
   "cell_type": "code",
   "execution_count": 48,
   "id": "8d4a2f32",
   "metadata": {},
   "outputs": [
    {
     "name": "stdout",
     "output_type": "stream",
     "text": [
      "PAN Name: VIRAT KOHLI\n",
      "ADHAR Name: VIRAT KOHLI\n",
      "Both names are same\n"
     ]
    }
   ],
   "source": [
    "pan_name = 'VIRAT KOHLI'\n",
    "pan_name = pan_name.upper()\n",
    "\n",
    "print('PAN Name:', pan_name)\n",
    "\n",
    "adhar_card = 'Virat Kohli'\n",
    "adhar_card = adhar_card.upper()\n",
    "\n",
    "print('ADHAR Name:', adhar_card)\n",
    "\n",
    "if pan_name == adhar_card:\n",
    "    print('Both names are same')\n",
    "    \n",
    "else:\n",
    "    print('Both names are different')"
   ]
  },
  {
   "cell_type": "code",
   "execution_count": 49,
   "id": "ee58e153",
   "metadata": {},
   "outputs": [
    {
     "name": "stdout",
     "output_type": "stream",
     "text": [
      "PAN Name: virat kohli\n",
      "ADHAR Name: VIRAT KOHLI\n",
      "Both names are different\n"
     ]
    }
   ],
   "source": [
    "pan_name = 'VIRAT KOHLI'\n",
    "pan_name = pan_name.lower()\n",
    "\n",
    "print('PAN Name:', pan_name)\n",
    "\n",
    "adhar_card = 'Virat Kohli'\n",
    "adhar_card = adhar_card.upper()\n",
    "\n",
    "print('ADHAR Name:', adhar_card)\n",
    "\n",
    "if pan_name == adhar_card:\n",
    "    print('Both names are same')\n",
    "    \n",
    "else:\n",
    "    print('Both names are different')"
   ]
  },
  {
   "cell_type": "markdown",
   "id": "5797d8e6",
   "metadata": {},
   "source": [
    "## 5. swapcase()"
   ]
  },
  {
   "cell_type": "code",
   "execution_count": null,
   "id": "63cda800",
   "metadata": {},
   "outputs": [],
   "source": [
    "It will convert case of all char"
   ]
  },
  {
   "cell_type": "code",
   "execution_count": 50,
   "id": "74575b65",
   "metadata": {},
   "outputs": [
    {
     "data": {
      "text/plain": [
       "'pUNE'"
      ]
     },
     "execution_count": 50,
     "metadata": {},
     "output_type": "execute_result"
    }
   ],
   "source": [
    "str1 = 'Pune'\n",
    "str1.swapcase()"
   ]
  },
  {
   "cell_type": "code",
   "execution_count": 51,
   "id": "67735bfc",
   "metadata": {},
   "outputs": [
    {
     "data": {
      "text/plain": [
       "'veloCITY'"
      ]
     },
     "execution_count": 51,
     "metadata": {},
     "output_type": "execute_result"
    }
   ],
   "source": [
    "str1 = 'VELOcity'\n",
    "str1.swapcase()"
   ]
  },
  {
   "cell_type": "code",
   "execution_count": 52,
   "id": "a253698b",
   "metadata": {},
   "outputs": [
    {
     "data": {
      "text/plain": [
       "'veloCITY @#$'"
      ]
     },
     "execution_count": 52,
     "metadata": {},
     "output_type": "execute_result"
    }
   ],
   "source": [
    "str1 = 'VELOcity @#$'\n",
    "str1.swapcase()"
   ]
  },
  {
   "cell_type": "markdown",
   "id": "f304817b",
   "metadata": {},
   "source": [
    "## 6. lstrip()"
   ]
  },
  {
   "cell_type": "code",
   "execution_count": null,
   "id": "189e3a6f",
   "metadata": {},
   "outputs": [],
   "source": [
    "Remove all leading white spaces"
   ]
  },
  {
   "cell_type": "code",
   "execution_count": 53,
   "id": "35d88222",
   "metadata": {},
   "outputs": [
    {
     "data": {
      "text/plain": [
       "'python'"
      ]
     },
     "execution_count": 53,
     "metadata": {},
     "output_type": "execute_result"
    }
   ],
   "source": [
    "str2 = '   python'\n",
    "str2.lstrip()"
   ]
  },
  {
   "cell_type": "code",
   "execution_count": 54,
   "id": "4adafd6e",
   "metadata": {},
   "outputs": [
    {
     "data": {
      "text/plain": [
       "'python       '"
      ]
     },
     "execution_count": 54,
     "metadata": {},
     "output_type": "execute_result"
    }
   ],
   "source": [
    "str2 = '        python       '\n",
    "str2.lstrip()"
   ]
  },
  {
   "cell_type": "code",
   "execution_count": 55,
   "id": "f2474bc1",
   "metadata": {},
   "outputs": [
    {
     "data": {
      "text/plain": [
       "'12345    '"
      ]
     },
     "execution_count": 55,
     "metadata": {},
     "output_type": "execute_result"
    }
   ],
   "source": [
    "str3 = '   12345    '\n",
    "str3.lstrip()"
   ]
  },
  {
   "cell_type": "code",
   "execution_count": 56,
   "id": "b086e163",
   "metadata": {},
   "outputs": [
    {
     "data": {
      "text/plain": [
       "'12 345    '"
      ]
     },
     "execution_count": 56,
     "metadata": {},
     "output_type": "execute_result"
    }
   ],
   "source": [
    "str3 = '   12 345    '\n",
    "str3.lstrip()"
   ]
  },
  {
   "cell_type": "code",
   "execution_count": 57,
   "id": "5026e982",
   "metadata": {},
   "outputs": [
    {
     "data": {
      "text/plain": [
       "'12                                          345    '"
      ]
     },
     "execution_count": 57,
     "metadata": {},
     "output_type": "execute_result"
    }
   ],
   "source": [
    "str3 = '   12                                          345    '\n",
    "str3.lstrip()"
   ]
  },
  {
   "cell_type": "code",
   "execution_count": null,
   "id": "c021c5b0",
   "metadata": {},
   "outputs": [],
   "source": [
    "OCR >> Optical Character Recorgnition\n",
    "    >> It is used to convert images to text\n",
    "    \n",
    "    Pytesseract OCR\n",
    "    Google vision\n",
    "    Amazon textract"
   ]
  },
  {
   "cell_type": "markdown",
   "id": "ea128a9a",
   "metadata": {},
   "source": [
    "## 7. rstrip()"
   ]
  },
  {
   "cell_type": "code",
   "execution_count": null,
   "id": "e7ac21e8",
   "metadata": {},
   "outputs": [],
   "source": [
    "Remove all trailing white spaces"
   ]
  },
  {
   "cell_type": "code",
   "execution_count": 59,
   "id": "35aa46f9",
   "metadata": {},
   "outputs": [
    {
     "data": {
      "text/plain": [
       "'     PUNE'"
      ]
     },
     "execution_count": 59,
     "metadata": {},
     "output_type": "execute_result"
    }
   ],
   "source": [
    "str4 = '     PUNE     '\n",
    "str4.rstrip()"
   ]
  },
  {
   "cell_type": "code",
   "execution_count": 60,
   "id": "5e9d3585",
   "metadata": {},
   "outputs": [
    {
     "data": {
      "text/plain": [
       "'     PUNE            MUMBAI'"
      ]
     },
     "execution_count": 60,
     "metadata": {},
     "output_type": "execute_result"
    }
   ],
   "source": [
    "str4 = '     PUNE            MUMBAI       '\n",
    "str4.rstrip()"
   ]
  },
  {
   "cell_type": "code",
   "execution_count": 61,
   "id": "cfa9c5f2",
   "metadata": {},
   "outputs": [
    {
     "data": {
      "text/plain": [
       "'     PUNE            MUMBAI       ,'"
      ]
     },
     "execution_count": 61,
     "metadata": {},
     "output_type": "execute_result"
    }
   ],
   "source": [
    "str4 = '     PUNE            MUMBAI       ,'\n",
    "str4.rstrip()"
   ]
  },
  {
   "cell_type": "markdown",
   "id": "578b142e",
   "metadata": {},
   "source": [
    "## 8. strip()"
   ]
  },
  {
   "cell_type": "code",
   "execution_count": null,
   "id": "bdfa3ec3",
   "metadata": {},
   "outputs": [],
   "source": [
    "lstrip + rstrip >> strip"
   ]
  },
  {
   "cell_type": "code",
   "execution_count": 63,
   "id": "8638400e",
   "metadata": {},
   "outputs": [
    {
     "data": {
      "text/plain": [
       "'PUNE            MUMBAI'"
      ]
     },
     "execution_count": 63,
     "metadata": {},
     "output_type": "execute_result"
    }
   ],
   "source": [
    "str4 = '     PUNE            MUMBAI       '\n",
    "str4.strip()"
   ]
  },
  {
   "cell_type": "code",
   "execution_count": 64,
   "id": "e4035a13",
   "metadata": {},
   "outputs": [
    {
     "data": {
      "text/plain": [
       "'PUNE            MUMBAI'"
      ]
     },
     "execution_count": 64,
     "metadata": {},
     "output_type": "execute_result"
    }
   ],
   "source": [
    "str4 = '     PUNE            MUMBAI'\n",
    "str4.strip()"
   ]
  },
  {
   "cell_type": "code",
   "execution_count": 66,
   "id": "9066cfa4",
   "metadata": {},
   "outputs": [
    {
     "name": "stdout",
     "output_type": "stream",
     "text": [
      "String:        Machine Learning      \n",
      "String:        Machine Learning\n",
      "String: Machine Learning      \n",
      "String: Machine Learning\n"
     ]
    }
   ],
   "source": [
    "str1 = '       Machine Learning      '\n",
    "print('String:',str1)\n",
    "\n",
    "str2 = str1.rstrip()\n",
    "print('String:',str2)\n",
    "\n",
    "str3 = str1.lstrip()\n",
    "print('String:',str3)\n",
    "\n",
    "str4 = str1.strip()\n",
    "print('String:',str4)"
   ]
  },
  {
   "cell_type": "markdown",
   "id": "20b85290",
   "metadata": {},
   "source": [
    "## 9. replace()"
   ]
  },
  {
   "cell_type": "code",
   "execution_count": null,
   "id": "0e1cbff0",
   "metadata": {},
   "outputs": [],
   "source": [
    "str1.replace(old_str, new_str)"
   ]
  },
  {
   "cell_type": "code",
   "execution_count": 67,
   "id": "c9f4efa6",
   "metadata": {},
   "outputs": [
    {
     "data": {
      "text/plain": [
       "'Machine Learning and Data Science'"
      ]
     },
     "execution_count": 67,
     "metadata": {},
     "output_type": "execute_result"
    }
   ],
   "source": [
    "string = 'Python and Data Science'\n",
    "string.replace('Python', 'Machine Learning')"
   ]
  },
  {
   "cell_type": "code",
   "execution_count": 68,
   "id": "8b36fc77",
   "metadata": {},
   "outputs": [
    {
     "data": {
      "text/plain": [
       "'Python and Data Science'"
      ]
     },
     "execution_count": 68,
     "metadata": {},
     "output_type": "execute_result"
    }
   ],
   "source": [
    "string"
   ]
  },
  {
   "cell_type": "code",
   "execution_count": 69,
   "id": "b8fe36c1",
   "metadata": {},
   "outputs": [
    {
     "data": {
      "text/plain": [
       "'JAVA and Data Science'"
      ]
     },
     "execution_count": 69,
     "metadata": {},
     "output_type": "execute_result"
    }
   ],
   "source": [
    "string = 'Python and Data Science'\n",
    "string.replace('Python', 'JAVA')"
   ]
  },
  {
   "cell_type": "code",
   "execution_count": 70,
   "id": "cc0022f5",
   "metadata": {},
   "outputs": [
    {
     "data": {
      "text/plain": [
       "'JAVA and Data Science'"
      ]
     },
     "execution_count": 70,
     "metadata": {},
     "output_type": "execute_result"
    }
   ],
   "source": [
    "string = 'Python and Data Science'\n",
    "string = string.replace('Python', 'JAVA')\n",
    "string"
   ]
  },
  {
   "cell_type": "code",
   "execution_count": 71,
   "id": "ca21486a",
   "metadata": {},
   "outputs": [
    {
     "data": {
      "text/plain": [
       "'Python and Data Science'"
      ]
     },
     "execution_count": 71,
     "metadata": {},
     "output_type": "execute_result"
    }
   ],
   "source": [
    "string = 'Python and Data Science'\n",
    "string = string.replace('python', 'JAVA')\n",
    "string"
   ]
  },
  {
   "cell_type": "code",
   "execution_count": 72,
   "id": "b37b993b",
   "metadata": {},
   "outputs": [
    {
     "name": "stdout",
     "output_type": "stream",
     "text": [
      "PYTHON is a programming Language. PYTHON is used in Machine Learning. \n",
      "PYTHON is also used in Deep Learning\n"
     ]
    }
   ],
   "source": [
    "str1 = '''Python is a programming Language. Python is used in Machine Learning. \n",
    "Python is also used in Deep Learning'''\n",
    "\n",
    "str2 = str1.replace('Python', 'PYTHON')\n",
    "print(str2)"
   ]
  },
  {
   "cell_type": "code",
   "execution_count": 73,
   "id": "25f777e4",
   "metadata": {},
   "outputs": [
    {
     "name": "stdout",
     "output_type": "stream",
     "text": [
      "PYTHON is a programming Language. Python is used in Machine Learning. \n",
      "Python is also used in Deep Learning\n"
     ]
    }
   ],
   "source": [
    "str1 = '''Python is a programming Language. Python is used in Machine Learning. \n",
    "Python is also used in Deep Learning'''\n",
    "\n",
    "str2 = str1.replace('Python', 'PYTHON',1)\n",
    "print(str2)"
   ]
  },
  {
   "cell_type": "code",
   "execution_count": 75,
   "id": "6a9f4333",
   "metadata": {},
   "outputs": [
    {
     "name": "stdout",
     "output_type": "stream",
     "text": [
      "PYTHON is a programming Language. PYTHON is used in Machine Learning. \n",
      "Python is also used in Deep Learning\n"
     ]
    }
   ],
   "source": [
    "str1 = '''Python is a programming Language. Python is used in Machine Learning. \n",
    "Python is also used in Deep Learning'''\n",
    "\n",
    "str2 = str1.replace('Python', 'PYTHON',2)\n",
    "print(str2)"
   ]
  },
  {
   "cell_type": "code",
   "execution_count": 76,
   "id": "6e86c3ce",
   "metadata": {},
   "outputs": [
    {
     "name": "stdout",
     "output_type": "stream",
     "text": [
      "C is a programming Language. C is used in Machine Learning. \n",
      "C is also used in Deep Learning\n"
     ]
    }
   ],
   "source": [
    "str1 = '''Python is a programming Language. Python is used in Machine Learning. \n",
    "Python is also used in Deep Learning'''\n",
    "\n",
    "str2 = str1.replace('Python', 'C')\n",
    "print(str2)"
   ]
  },
  {
   "cell_type": "code",
   "execution_count": 77,
   "id": "491fea3f",
   "metadata": {},
   "outputs": [
    {
     "name": "stdout",
     "output_type": "stream",
     "text": [
      "Python is a Coding Language. Python is used in Machine Learning. \n",
      "Python is also used in Deep Learning\n"
     ]
    }
   ],
   "source": [
    "str1 = '''Python is a programming Language. Python is used in Machine Learning. \n",
    "Python is also used in Deep Learning'''\n",
    "\n",
    "str2 = str1.replace('programming', 'Coding')\n",
    "print(str2)"
   ]
  },
  {
   "cell_type": "code",
   "execution_count": 78,
   "id": "6d38af1a",
   "metadata": {},
   "outputs": [
    {
     "name": "stdout",
     "output_type": "stream",
     "text": [
      "Python is ** progr**mming L**ngu**ge. Python is used in M**chine Le**rning. \n",
      "Python is **lso used in Deep Le**rning\n"
     ]
    }
   ],
   "source": [
    "str1 = '''Python is a programming Language. Python is used in Machine Learning. \n",
    "Python is also used in Deep Learning'''\n",
    "\n",
    "str2 = str1.replace('a', '**')\n",
    "print(str2)"
   ]
  },
  {
   "cell_type": "code",
   "execution_count": 79,
   "id": "cfe4886c",
   "metadata": {},
   "outputs": [
    {
     "name": "stdout",
     "output_type": "stream",
     "text": [
      "Python++is++a++programming++Language.++Python++is++used++in++Machine++Learning.++\n",
      "Python++is++also++used++in++Deep++Learning\n"
     ]
    }
   ],
   "source": [
    "str1 = '''Python is a programming Language. Python is used in Machine Learning. \n",
    "Python is also used in Deep Learning'''\n",
    "\n",
    "str2 = str1.replace(' ', '++')\n",
    "print(str2)"
   ]
  },
  {
   "cell_type": "code",
   "execution_count": 80,
   "id": "2bbdfddf",
   "metadata": {},
   "outputs": [
    {
     "name": "stdout",
     "output_type": "stream",
     "text": [
      "Python     is     a     programming     Language.     Python     is     used     in     Machine     Learning.     \n",
      "Python     is     also     used     in     Deep     Learning\n"
     ]
    }
   ],
   "source": [
    "str1 = '''Python is a programming Language. Python is used in Machine Learning. \n",
    "Python is also used in Deep Learning'''\n",
    "\n",
    "str2 = str1.replace(' ', '     ')\n",
    "print(str2)"
   ]
  },
  {
   "cell_type": "code",
   "execution_count": 82,
   "id": "fee9d26a",
   "metadata": {},
   "outputs": [
    {
     "data": {
      "text/plain": [
       "3"
      ]
     },
     "execution_count": 82,
     "metadata": {},
     "output_type": "execute_result"
    }
   ],
   "source": [
    "str1.count('Python')"
   ]
  },
  {
   "cell_type": "code",
   "execution_count": 83,
   "id": "4c5c2d45",
   "metadata": {},
   "outputs": [
    {
     "data": {
      "text/plain": [
       "'JAVA and Data Science'"
      ]
     },
     "execution_count": 83,
     "metadata": {},
     "output_type": "execute_result"
    }
   ],
   "source": [
    "string = 'Python and Data Science'\n",
    "string.replace('Python', 'JAVA')"
   ]
  },
  {
   "cell_type": "code",
   "execution_count": 84,
   "id": "87c8ad3a",
   "metadata": {},
   "outputs": [
    {
     "data": {
      "text/plain": [
       "'Python and Data Science'"
      ]
     },
     "execution_count": 84,
     "metadata": {},
     "output_type": "execute_result"
    }
   ],
   "source": [
    "string"
   ]
  },
  {
   "cell_type": "code",
   "execution_count": 85,
   "id": "fa3837bb",
   "metadata": {},
   "outputs": [
    {
     "data": {
      "text/plain": [
       "'JAVA and Data Science'"
      ]
     },
     "execution_count": 85,
     "metadata": {},
     "output_type": "execute_result"
    }
   ],
   "source": [
    "string = 'Python and Data Science'\n",
    "a = string.replace('Python', 'JAVA')\n",
    "a"
   ]
  },
  {
   "cell_type": "code",
   "execution_count": null,
   "id": "de8383ab",
   "metadata": {},
   "outputs": [],
   "source": []
  }
 ],
 "metadata": {
  "kernelspec": {
   "display_name": "Python 3",
   "language": "python",
   "name": "python3"
  },
  "language_info": {
   "codemirror_mode": {
    "name": "ipython",
    "version": 3
   },
   "file_extension": ".py",
   "mimetype": "text/x-python",
   "name": "python",
   "nbconvert_exporter": "python",
   "pygments_lexer": "ipython3",
   "version": "3.8.8"
  }
 },
 "nbformat": 4,
 "nbformat_minor": 5
}
