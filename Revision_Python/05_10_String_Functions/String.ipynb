{
 "cells": [
  {
   "cell_type": "code",
   "execution_count": 2,
   "id": "da008d50",
   "metadata": {},
   "outputs": [
    {
     "name": "stdout",
     "output_type": "stream",
     "text": [
      "Char is: V\n",
      "Char is: e\n",
      "Char is: l\n",
      "Char is: o\n",
      "Char is: c\n",
      "Char is: i\n",
      "Char is: t\n",
      "Char is: y\n"
     ]
    }
   ],
   "source": [
    "str1 = 'Velocity'\n",
    "\n",
    "for char in str1:\n",
    "    print(f'Char is: {char}')"
   ]
  },
  {
   "cell_type": "code",
   "execution_count": 6,
   "id": "d075a907",
   "metadata": {},
   "outputs": [
    {
     "name": "stdout",
     "output_type": "stream",
     "text": [
      "Char is at index:0 is V\n",
      "Char is at index:1 is e\n",
      "Char is at index:2 is l\n",
      "Char is at index:3 is o\n",
      "Char is at index:4 is c\n",
      "Char is at index:5 is i\n",
      "Char is at index:6 is t\n",
      "Char is at index:7 is y\n"
     ]
    }
   ],
   "source": [
    "str1 = 'Velocity'\n",
    "\n",
    "count = 0\n",
    "for char in str1:\n",
    "    print(f'Char is at index:{count} is {char}')\n",
    "    count = count + 1"
   ]
  },
  {
   "cell_type": "code",
   "execution_count": 11,
   "id": "fee28cbe",
   "metadata": {},
   "outputs": [
    {
     "name": "stdout",
     "output_type": "stream",
     "text": [
      "Char is at index:0 is V\n",
      "1\n",
      "Char is at index:0 is e\n",
      "1\n",
      "Char is at index:0 is l\n",
      "1\n",
      "Char is at index:0 is o\n",
      "1\n",
      "Char is at index:0 is c\n",
      "1\n",
      "Char is at index:0 is i\n",
      "1\n",
      "Char is at index:0 is t\n",
      "1\n",
      "Char is at index:0 is y\n",
      "1\n"
     ]
    }
   ],
   "source": [
    "str1 = 'Velocity'\n",
    "\n",
    "\n",
    "for char in str1:\n",
    "    count = 0\n",
    "    print(f'Char is at index:{count} is {char}')\n",
    "    count = count + 1\n",
    "    print(count)"
   ]
  },
  {
   "cell_type": "code",
   "execution_count": 9,
   "id": "0e23e05e",
   "metadata": {},
   "outputs": [
    {
     "name": "stdout",
     "output_type": "stream",
     "text": [
      "Char is at index:0 is V\n",
      "Char is at index:1 is e\n",
      "Char is at index:2 is l\n",
      "Char is at index:3 is o\n",
      "Char is at index:4 is c\n",
      "Char is at index:5 is i\n",
      "Char is at index:6 is t\n",
      "Char is at index:7 is y\n"
     ]
    }
   ],
   "source": [
    "str1 = 'Velocity'\n",
    "\n",
    "count = 0\n",
    "for char in str1:\n",
    "    print(f'Char is at index:{count} is {char}')\n",
    "#     count = count + 1\n",
    "    count += 1"
   ]
  },
  {
   "cell_type": "code",
   "execution_count": 12,
   "id": "e14f548a",
   "metadata": {},
   "outputs": [
    {
     "name": "stdout",
     "output_type": "stream",
     "text": [
      "Char is at index:0 is V\n",
      "1\n",
      "Loop Executed\n",
      "Char is at index:1 is e\n",
      "2\n",
      "Loop Executed\n",
      "Char is at index:2 is l\n",
      "3\n",
      "Loop Executed\n",
      "Char is at index:3 is o\n",
      "4\n",
      "Loop Executed\n",
      "Char is at index:4 is c\n",
      "5\n",
      "Loop Executed\n",
      "Char is at index:5 is i\n",
      "6\n",
      "Loop Executed\n",
      "Char is at index:6 is t\n",
      "7\n",
      "Loop Executed\n",
      "Char is at index:7 is y\n",
      "8\n",
      "Loop Executed\n"
     ]
    }
   ],
   "source": [
    "str1 = 'Velocity'\n",
    "\n",
    "count = 0\n",
    "for char in str1:\n",
    "    print(f'Char is at index:{count} is {char}')\n",
    "#     count = count + 1\n",
    "    count += 1\n",
    "    print(count)\n",
    "    print('Loop Executed')"
   ]
  },
  {
   "cell_type": "code",
   "execution_count": 13,
   "id": "4d1f685d",
   "metadata": {},
   "outputs": [
    {
     "name": "stdout",
     "output_type": "stream",
     "text": [
      "Char is at index:0 is V\n",
      "1\n",
      "Char is at index:1 is e\n",
      "2\n",
      "Char is at index:2 is l\n",
      "3\n",
      "Char is at index:3 is o\n",
      "4\n",
      "Char is at index:4 is c\n",
      "5\n",
      "Char is at index:5 is i\n",
      "6\n",
      "Char is at index:6 is t\n",
      "7\n",
      "Char is at index:7 is y\n",
      "8\n",
      "Loop Executed\n"
     ]
    }
   ],
   "source": [
    "str1 = 'Velocity'\n",
    "\n",
    "count = 0\n",
    "for char in str1:\n",
    "    print(f'Char is at index:{count} is {char}')\n",
    "#     count = count + 1\n",
    "    count += 1\n",
    "    print(count)\n",
    "    \n",
    "print('Loop Executed')"
   ]
  },
  {
   "cell_type": "markdown",
   "id": "cf166f7f",
   "metadata": {},
   "source": [
    "## Enumerate Function"
   ]
  },
  {
   "cell_type": "code",
   "execution_count": 15,
   "id": "702a53d1",
   "metadata": {},
   "outputs": [
    {
     "name": "stdout",
     "output_type": "stream",
     "text": [
      "0 V\n",
      "1 e\n",
      "2 l\n",
      "3 o\n",
      "4 c\n",
      "5 i\n",
      "6 t\n",
      "7 y\n"
     ]
    }
   ],
   "source": [
    "str1 = 'Velocity'\n",
    "\n",
    "for index, value in enumerate(str1):\n",
    "    print(index,value)"
   ]
  },
  {
   "cell_type": "code",
   "execution_count": 17,
   "id": "42925228",
   "metadata": {},
   "outputs": [
    {
     "name": "stdout",
     "output_type": "stream",
     "text": [
      "Char is at index :0 is V\n",
      "0\n",
      "Char is at index :1 is e\n",
      "1\n",
      "Char is at index :2 is l\n",
      "2\n",
      "Char is at index :3 is o\n",
      "3\n",
      "Char is at index :4 is c\n",
      "4\n",
      "Char is at index :5 is i\n",
      "5\n",
      "Char is at index :6 is t\n",
      "6\n",
      "Char is at index :7 is y\n",
      "7\n"
     ]
    }
   ],
   "source": [
    "str1 = 'Velocity'\n",
    "\n",
    "for index, value in enumerate(str1):\n",
    "    print(f'Char is at index :{index} is {value}')\n",
    "    print(index)"
   ]
  },
  {
   "cell_type": "code",
   "execution_count": 18,
   "id": "222977d9",
   "metadata": {},
   "outputs": [
    {
     "name": "stdout",
     "output_type": "stream",
     "text": [
      "Char is at index :0 is V\n",
      "0\n",
      "Char is at index :1 is e\n",
      "1\n",
      "Char is at index :2 is l\n",
      "2\n",
      "Char is at index :3 is o\n",
      "3\n",
      "Char is at index :4 is c\n",
      "4\n",
      "Char is at index :5 is i\n",
      "5\n",
      "Char is at index :6 is t\n",
      "6\n",
      "Char is at index :7 is y\n",
      "7\n"
     ]
    }
   ],
   "source": [
    "str1 = 'Velocity'\n",
    "\n",
    "for i, v in enumerate(str1):\n",
    "    print(f'Char is at index :{i} is {v}')\n",
    "    print(i)"
   ]
  },
  {
   "cell_type": "code",
   "execution_count": 19,
   "id": "65ada2de",
   "metadata": {},
   "outputs": [
    {
     "name": "stdout",
     "output_type": "stream",
     "text": [
      "Char is at index :0 is P\n",
      "0\n",
      "Char is at index :1 is y\n",
      "1\n",
      "Char is at index :2 is t\n",
      "2\n",
      "Char is at index :3 is h\n",
      "3\n",
      "Char is at index :4 is o\n",
      "4\n",
      "Char is at index :5 is n\n",
      "5\n"
     ]
    }
   ],
   "source": [
    "str1 = 'Python'\n",
    "\n",
    "for i, v in enumerate(str1):\n",
    "    print(f'Char is at index :{i} is {v}')\n",
    "    print(i)"
   ]
  },
  {
   "cell_type": "code",
   "execution_count": 20,
   "id": "000ca97e",
   "metadata": {},
   "outputs": [
    {
     "ename": "NameError",
     "evalue": "name 'python' is not defined",
     "output_type": "error",
     "traceback": [
      "\u001b[1;31m---------------------------------------------------------------------------\u001b[0m",
      "\u001b[1;31mNameError\u001b[0m                                 Traceback (most recent call last)",
      "\u001b[1;32m<ipython-input-20-b45ecd0f5095>\u001b[0m in \u001b[0;36m<module>\u001b[1;34m\u001b[0m\n\u001b[1;32m----> 1\u001b[1;33m \u001b[1;32mfor\u001b[0m \u001b[0mi\u001b[0m \u001b[1;32min\u001b[0m \u001b[0mpython\u001b[0m\u001b[1;33m:\u001b[0m\u001b[1;33m\u001b[0m\u001b[1;33m\u001b[0m\u001b[0m\n\u001b[0m\u001b[0;32m      2\u001b[0m     \u001b[0mprint\u001b[0m\u001b[1;33m(\u001b[0m\u001b[0mi\u001b[0m\u001b[1;33m)\u001b[0m\u001b[1;33m\u001b[0m\u001b[1;33m\u001b[0m\u001b[0m\n",
      "\u001b[1;31mNameError\u001b[0m: name 'python' is not defined"
     ]
    }
   ],
   "source": [
    "for i in python:\n",
    "    print(i)"
   ]
  },
  {
   "cell_type": "code",
   "execution_count": 21,
   "id": "7b42e654",
   "metadata": {},
   "outputs": [
    {
     "name": "stdout",
     "output_type": "stream",
     "text": [
      "p\n",
      "y\n",
      "t\n",
      "h\n",
      "o\n",
      "n\n"
     ]
    }
   ],
   "source": [
    "python = 'python'\n",
    "for i in python:\n",
    "    print(i)"
   ]
  },
  {
   "cell_type": "code",
   "execution_count": 22,
   "id": "47aa49eb",
   "metadata": {},
   "outputs": [
    {
     "name": "stdout",
     "output_type": "stream",
     "text": [
      "p\n",
      "y\n",
      "t\n",
      "h\n",
      "o\n",
      "n\n"
     ]
    }
   ],
   "source": [
    "for i in 'python':\n",
    "    print(i)"
   ]
  },
  {
   "cell_type": "code",
   "execution_count": 23,
   "id": "058bbb44",
   "metadata": {},
   "outputs": [
    {
     "name": "stdout",
     "output_type": "stream",
     "text": [
      "p\n",
      "t\n",
      "o\n"
     ]
    }
   ],
   "source": [
    "a = 'python'\n",
    "for i in a[::2]:\n",
    "    print(i)"
   ]
  },
  {
   "cell_type": "code",
   "execution_count": 24,
   "id": "d7d812ed",
   "metadata": {},
   "outputs": [
    {
     "name": "stdout",
     "output_type": "stream",
     "text": [
      "n\n",
      "o\n",
      "h\n",
      "t\n",
      "y\n",
      "p\n"
     ]
    }
   ],
   "source": [
    "a = 'python'\n",
    "for i in a[::-1]:\n",
    "    print(i)"
   ]
  },
  {
   "cell_type": "code",
   "execution_count": 25,
   "id": "69c920d3",
   "metadata": {},
   "outputs": [
    {
     "name": "stdout",
     "output_type": "stream",
     "text": [
      "Char is at index :0 is n\n",
      "0\n",
      "Char is at index :1 is o\n",
      "1\n",
      "Char is at index :2 is h\n",
      "2\n",
      "Char is at index :3 is t\n",
      "3\n",
      "Char is at index :4 is y\n",
      "4\n",
      "Char is at index :5 is P\n",
      "5\n"
     ]
    }
   ],
   "source": [
    "str1 = 'Python'\n",
    "\n",
    "for i, v in enumerate(str1[::-1]):\n",
    "    print(f'Char is at index :{i} is {v}')\n",
    "    print(i)"
   ]
  },
  {
   "cell_type": "code",
   "execution_count": 28,
   "id": "1cbe2678",
   "metadata": {},
   "outputs": [
    {
     "name": "stdout",
     "output_type": "stream",
     "text": [
      "Char is at index:-1 is y\n",
      "Char is at index:-2 is t\n",
      "Char is at index:-3 is i\n",
      "Char is at index:-4 is c\n",
      "Char is at index:-5 is o\n",
      "Char is at index:-6 is l\n",
      "Char is at index:-7 is e\n",
      "Char is at index:-8 is V\n",
      "Loop Executed\n"
     ]
    }
   ],
   "source": [
    "str1 = 'Velocity'\n",
    "\n",
    "count = -1\n",
    "for char in str1[::-1]:\n",
    "    print(f'Char is at index:{count} is {char}')\n",
    "#     count = count + 1\n",
    "    count -=1\n",
    "#     print(count)\n",
    "    \n",
    "print('Loop Executed')"
   ]
  },
  {
   "cell_type": "code",
   "execution_count": 29,
   "id": "cf2482e2",
   "metadata": {},
   "outputs": [
    {
     "name": "stdout",
     "output_type": "stream",
     "text": [
      "Char is at index :5 is n\n",
      "5\n",
      "Char is at index :6 is o\n",
      "6\n",
      "Char is at index :7 is h\n",
      "7\n",
      "Char is at index :8 is t\n",
      "8\n",
      "Char is at index :9 is y\n",
      "9\n",
      "Char is at index :10 is P\n",
      "10\n"
     ]
    }
   ],
   "source": [
    "str1 = 'Python'\n",
    "\n",
    "for i, v in enumerate(str1[::-1],start=5):\n",
    "    print(f'Char is at index :{i} is {v}')\n",
    "    print(i)"
   ]
  },
  {
   "cell_type": "code",
   "execution_count": 34,
   "id": "7ee4d346",
   "metadata": {},
   "outputs": [
    {
     "name": "stdout",
     "output_type": "stream",
     "text": [
      "0 : 0\n",
      "1\n",
      "1 : 1\n",
      "2\n",
      "2 : 2\n",
      "3\n",
      "3 : 3\n",
      "4\n",
      "4 : 4\n",
      "5\n"
     ]
    }
   ],
   "source": [
    "index = 0\n",
    "for x in range(0,5):\n",
    "    print(index, ':',x)\n",
    "    index +=1\n",
    "    print(index)"
   ]
  },
  {
   "cell_type": "code",
   "execution_count": 35,
   "id": "40c2aacb",
   "metadata": {},
   "outputs": [
    {
     "name": "stdout",
     "output_type": "stream",
     "text": [
      "v\n",
      "e\n",
      "l\n",
      "o\n",
      "c\n",
      "o\n",
      "i\n",
      "t\n",
      "y\n"
     ]
    }
   ],
   "source": [
    "for var in 'velocoity':\n",
    "    print(var)"
   ]
  },
  {
   "cell_type": "code",
   "execution_count": 37,
   "id": "960739b4",
   "metadata": {},
   "outputs": [
    {
     "data": {
      "text/plain": [
       "True"
      ]
     },
     "execution_count": 37,
     "metadata": {},
     "output_type": "execute_result"
    }
   ],
   "source": [
    "'v' in 'velocoity'"
   ]
  },
  {
   "cell_type": "code",
   "execution_count": null,
   "id": "649d8cbe",
   "metadata": {},
   "outputs": [],
   "source": []
  },
  {
   "cell_type": "code",
   "execution_count": null,
   "id": "8bd89ec4",
   "metadata": {},
   "outputs": [],
   "source": []
  },
  {
   "cell_type": "code",
   "execution_count": null,
   "id": "a79f9634",
   "metadata": {},
   "outputs": [],
   "source": []
  },
  {
   "cell_type": "code",
   "execution_count": null,
   "id": "f9f1a2f7",
   "metadata": {},
   "outputs": [],
   "source": []
  },
  {
   "cell_type": "code",
   "execution_count": null,
   "id": "c02a9212",
   "metadata": {},
   "outputs": [],
   "source": []
  },
  {
   "cell_type": "code",
   "execution_count": null,
   "id": "3fa17d81",
   "metadata": {},
   "outputs": [],
   "source": []
  },
  {
   "cell_type": "code",
   "execution_count": null,
   "id": "e1ed9716",
   "metadata": {},
   "outputs": [],
   "source": []
  },
  {
   "cell_type": "code",
   "execution_count": null,
   "id": "045078fc",
   "metadata": {},
   "outputs": [],
   "source": []
  },
  {
   "cell_type": "code",
   "execution_count": null,
   "id": "6615650a",
   "metadata": {},
   "outputs": [],
   "source": []
  },
  {
   "cell_type": "code",
   "execution_count": null,
   "id": "1f3abb44",
   "metadata": {},
   "outputs": [],
   "source": []
  },
  {
   "cell_type": "code",
   "execution_count": null,
   "id": "b75589eb",
   "metadata": {},
   "outputs": [],
   "source": []
  },
  {
   "cell_type": "code",
   "execution_count": null,
   "id": "62d64cb7",
   "metadata": {},
   "outputs": [],
   "source": []
  },
  {
   "cell_type": "code",
   "execution_count": null,
   "id": "09fb5080",
   "metadata": {},
   "outputs": [],
   "source": []
  },
  {
   "cell_type": "code",
   "execution_count": null,
   "id": "8e447b94",
   "metadata": {},
   "outputs": [],
   "source": []
  },
  {
   "cell_type": "code",
   "execution_count": null,
   "id": "afa6496d",
   "metadata": {},
   "outputs": [],
   "source": []
  },
  {
   "cell_type": "code",
   "execution_count": null,
   "id": "9844eb2b",
   "metadata": {},
   "outputs": [],
   "source": []
  },
  {
   "cell_type": "code",
   "execution_count": null,
   "id": "64f5b584",
   "metadata": {},
   "outputs": [],
   "source": []
  },
  {
   "cell_type": "code",
   "execution_count": null,
   "id": "56c55dc9",
   "metadata": {},
   "outputs": [],
   "source": []
  },
  {
   "cell_type": "code",
   "execution_count": null,
   "id": "f0a6a487",
   "metadata": {},
   "outputs": [],
   "source": []
  },
  {
   "cell_type": "code",
   "execution_count": null,
   "id": "e6ee48f7",
   "metadata": {},
   "outputs": [],
   "source": []
  },
  {
   "cell_type": "code",
   "execution_count": null,
   "id": "053a7eee",
   "metadata": {},
   "outputs": [],
   "source": []
  },
  {
   "cell_type": "code",
   "execution_count": null,
   "id": "a51cb327",
   "metadata": {},
   "outputs": [],
   "source": []
  },
  {
   "cell_type": "code",
   "execution_count": null,
   "id": "ffe7d429",
   "metadata": {},
   "outputs": [],
   "source": []
  },
  {
   "cell_type": "code",
   "execution_count": null,
   "id": "f77aeced",
   "metadata": {},
   "outputs": [],
   "source": []
  },
  {
   "cell_type": "code",
   "execution_count": null,
   "id": "2fb0f653",
   "metadata": {},
   "outputs": [],
   "source": []
  },
  {
   "cell_type": "code",
   "execution_count": null,
   "id": "7f6ccc61",
   "metadata": {},
   "outputs": [],
   "source": []
  },
  {
   "cell_type": "code",
   "execution_count": null,
   "id": "b7833561",
   "metadata": {},
   "outputs": [],
   "source": []
  },
  {
   "cell_type": "code",
   "execution_count": null,
   "id": "a989fdf2",
   "metadata": {},
   "outputs": [],
   "source": []
  },
  {
   "cell_type": "code",
   "execution_count": null,
   "id": "6c06bae8",
   "metadata": {},
   "outputs": [],
   "source": []
  },
  {
   "cell_type": "code",
   "execution_count": null,
   "id": "d1a544b2",
   "metadata": {},
   "outputs": [],
   "source": []
  }
 ],
 "metadata": {
  "kernelspec": {
   "display_name": "Python 3",
   "language": "python",
   "name": "python3"
  },
  "language_info": {
   "codemirror_mode": {
    "name": "ipython",
    "version": 3
   },
   "file_extension": ".py",
   "mimetype": "text/x-python",
   "name": "python",
   "nbconvert_exporter": "python",
   "pygments_lexer": "ipython3",
   "version": "3.8.8"
  }
 },
 "nbformat": 4,
 "nbformat_minor": 5
}
