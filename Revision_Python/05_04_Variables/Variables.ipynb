{
 "cells": [
  {
   "cell_type": "markdown",
   "id": "aa63b00f",
   "metadata": {},
   "source": [
    "# Features of Python"
   ]
  },
  {
   "cell_type": "code",
   "execution_count": null,
   "id": "22cba663",
   "metadata": {},
   "outputs": [],
   "source": [
    "1. Programmer friendly Language(Easy to write, learn, read)\n",
    "2. Free and open source\n",
    "3. Simple to debug\n",
    "4. Vast library support\n",
    "5. Dynamically typed Language (do not need to specify data type)\n",
    "6. Object Oriented Programming Language (OOPs) , High level Programming\n",
    "7. Python is Interpreted Language(do not require prior compilation)"
   ]
  },
  {
   "cell_type": "code",
   "execution_count": 1,
   "id": "b810db7f",
   "metadata": {},
   "outputs": [
    {
     "ename": "NameError",
     "evalue": "name 'hi' is not defined",
     "output_type": "error",
     "traceback": [
      "\u001b[1;31m---------------------------------------------------------------------------\u001b[0m",
      "\u001b[1;31mNameError\u001b[0m                                 Traceback (most recent call last)",
      "\u001b[1;32m<ipython-input-1-99ce5e65f26d>\u001b[0m in \u001b[0;36m<module>\u001b[1;34m\u001b[0m\n\u001b[0;32m      1\u001b[0m \u001b[0ma\u001b[0m \u001b[1;33m=\u001b[0m \u001b[1;36m1\u001b[0m\u001b[1;33m\u001b[0m\u001b[1;33m\u001b[0m\u001b[0m\n\u001b[0;32m      2\u001b[0m \u001b[0mb\u001b[0m \u001b[1;33m=\u001b[0m \u001b[1;36m4\u001b[0m\u001b[1;33m\u001b[0m\u001b[1;33m\u001b[0m\u001b[0m\n\u001b[1;32m----> 3\u001b[1;33m \u001b[0mc\u001b[0m \u001b[1;33m=\u001b[0m \u001b[0mhi\u001b[0m\u001b[1;33m\u001b[0m\u001b[1;33m\u001b[0m\u001b[0m\n\u001b[0m\u001b[0;32m      4\u001b[0m \u001b[0md\u001b[0m \u001b[1;33m=\u001b[0m \u001b[1;36m8\u001b[0m\u001b[1;33m\u001b[0m\u001b[1;33m\u001b[0m\u001b[0m\n",
      "\u001b[1;31mNameError\u001b[0m: name 'hi' is not defined"
     ]
    }
   ],
   "source": [
    "a = 1\n",
    "b = 4\n",
    "c = hi\n",
    "d = 8"
   ]
  },
  {
   "cell_type": "code",
   "execution_count": 7,
   "id": "bde97412",
   "metadata": {},
   "outputs": [
    {
     "data": {
      "text/plain": [
       "4"
      ]
     },
     "execution_count": 7,
     "metadata": {},
     "output_type": "execute_result"
    }
   ],
   "source": [
    "b"
   ]
  },
  {
   "cell_type": "code",
   "execution_count": 8,
   "id": "33b9a3cd",
   "metadata": {},
   "outputs": [],
   "source": [
    "a = 1\n",
    "b = 4\n",
    "c = 'hi'\n",
    "d = 8"
   ]
  },
  {
   "cell_type": "code",
   "execution_count": 10,
   "id": "f7721601",
   "metadata": {},
   "outputs": [
    {
     "data": {
      "text/plain": [
       "8"
      ]
     },
     "execution_count": 10,
     "metadata": {},
     "output_type": "execute_result"
    }
   ],
   "source": [
    "d"
   ]
  },
  {
   "cell_type": "code",
   "execution_count": 13,
   "id": "f1c380c4",
   "metadata": {},
   "outputs": [
    {
     "ename": "NameError",
     "evalue": "name 'hi' is not defined",
     "output_type": "error",
     "traceback": [
      "\u001b[1;31m---------------------------------------------------------------------------\u001b[0m",
      "\u001b[1;31mNameError\u001b[0m                                 Traceback (most recent call last)",
      "\u001b[1;32m<ipython-input-13-50d5e67173d5>\u001b[0m in \u001b[0;36m<module>\u001b[1;34m\u001b[0m\n\u001b[1;32m----> 1\u001b[1;33m \u001b[0mc\u001b[0m \u001b[1;33m=\u001b[0m \u001b[0mhi\u001b[0m\u001b[1;33m\u001b[0m\u001b[1;33m\u001b[0m\u001b[0m\n\u001b[0m\u001b[0;32m      2\u001b[0m \u001b[0mr\u001b[0m \u001b[1;33m=\u001b[0m \u001b[1;36m8\u001b[0m\u001b[1;33m\u001b[0m\u001b[1;33m\u001b[0m\u001b[0m\n\u001b[0;32m      3\u001b[0m \u001b[0mt\u001b[0m \u001b[1;33m=\u001b[0m \u001b[1;36m1\u001b[0m\u001b[1;33m\u001b[0m\u001b[1;33m\u001b[0m\u001b[0m\n\u001b[0;32m      4\u001b[0m \u001b[0my\u001b[0m \u001b[1;33m=\u001b[0m \u001b[1;36m4\u001b[0m\u001b[1;33m\u001b[0m\u001b[1;33m\u001b[0m\u001b[0m\n",
      "\u001b[1;31mNameError\u001b[0m: name 'hi' is not defined"
     ]
    }
   ],
   "source": [
    "c = hi\n",
    "r = 8\n",
    "t = 1\n",
    "y = 4"
   ]
  },
  {
   "cell_type": "code",
   "execution_count": 16,
   "id": "f987f857",
   "metadata": {},
   "outputs": [
    {
     "ename": "NameError",
     "evalue": "name 'y' is not defined",
     "output_type": "error",
     "traceback": [
      "\u001b[1;31m---------------------------------------------------------------------------\u001b[0m",
      "\u001b[1;31mNameError\u001b[0m                                 Traceback (most recent call last)",
      "\u001b[1;32m<ipython-input-16-9063a9f0e032>\u001b[0m in \u001b[0;36m<module>\u001b[1;34m\u001b[0m\n\u001b[1;32m----> 1\u001b[1;33m \u001b[0my\u001b[0m\u001b[1;33m\u001b[0m\u001b[1;33m\u001b[0m\u001b[0m\n\u001b[0m",
      "\u001b[1;31mNameError\u001b[0m: name 'y' is not defined"
     ]
    }
   ],
   "source": [
    "y"
   ]
  },
  {
   "cell_type": "markdown",
   "id": "eb52e1c4",
   "metadata": {},
   "source": [
    "# Types of Variable"
   ]
  },
  {
   "cell_type": "code",
   "execution_count": null,
   "id": "7d4f9fef",
   "metadata": {},
   "outputs": [],
   "source": [
    "1. Global Variable\n",
    "2. Local Variable"
   ]
  },
  {
   "cell_type": "code",
   "execution_count": 23,
   "id": "ada4064c",
   "metadata": {},
   "outputs": [
    {
     "name": "stdout",
     "output_type": "stream",
     "text": [
      "value of a + x is: 600\n",
      "500\n"
     ]
    },
    {
     "ename": "NameError",
     "evalue": "name 'x' is not defined",
     "output_type": "error",
     "traceback": [
      "\u001b[1;31m---------------------------------------------------------------------------\u001b[0m",
      "\u001b[1;31mNameError\u001b[0m                                 Traceback (most recent call last)",
      "\u001b[1;32m<ipython-input-23-534a194822a0>\u001b[0m in \u001b[0;36m<module>\u001b[1;34m\u001b[0m\n\u001b[0;32m      9\u001b[0m \u001b[1;33m\u001b[0m\u001b[0m\n\u001b[0;32m     10\u001b[0m \u001b[0mprint\u001b[0m\u001b[1;33m(\u001b[0m\u001b[0ma\u001b[0m\u001b[1;33m)\u001b[0m\u001b[1;33m\u001b[0m\u001b[1;33m\u001b[0m\u001b[0m\n\u001b[1;32m---> 11\u001b[1;33m \u001b[0mprint\u001b[0m\u001b[1;33m(\u001b[0m\u001b[0mx\u001b[0m\u001b[1;33m)\u001b[0m\u001b[1;33m\u001b[0m\u001b[1;33m\u001b[0m\u001b[0m\n\u001b[0m",
      "\u001b[1;31mNameError\u001b[0m: name 'x' is not defined"
     ]
    }
   ],
   "source": [
    "a = 500 #global variable\n",
    "\n",
    "# User defined Function\n",
    "def my_fun(): #user define function\n",
    "    x = 100   # local var\n",
    "    print('value of a + x is:',a+x)\n",
    "    \n",
    "my_fun()  # calling the function\n",
    "\n",
    "print(a)\n",
    "print(x)"
   ]
  },
  {
   "cell_type": "code",
   "execution_count": 26,
   "id": "fa91f9a6",
   "metadata": {},
   "outputs": [
    {
     "name": "stdout",
     "output_type": "stream",
     "text": [
      "value of a + x is: 600\n",
      "500\n",
      "50\n"
     ]
    }
   ],
   "source": [
    "a = 500 #global variable\n",
    "x = 50 \n",
    "# User defined Function\n",
    "def my_fun(): #user define function\n",
    "    x = 100   # local var\n",
    "    print('value of a + x is:',a+x)\n",
    "    \n",
    "my_fun()  # calling the function\n",
    "\n",
    "print(a)\n",
    "print(x)"
   ]
  },
  {
   "cell_type": "code",
   "execution_count": 27,
   "id": "1086079a",
   "metadata": {},
   "outputs": [
    {
     "name": "stdout",
     "output_type": "stream",
     "text": [
      "value of a + x is: 550\n",
      "500\n",
      "50\n"
     ]
    }
   ],
   "source": [
    "a = 500 #global variable\n",
    "x = 50 \n",
    "# User defined Function\n",
    "def my_fun(): #user define function\n",
    "#     x = 100   # local var\n",
    "    print('value of a + x is:',a+x)\n",
    "    \n",
    "my_fun()  # calling the function\n",
    "\n",
    "print(a)\n",
    "print(x)"
   ]
  },
  {
   "cell_type": "code",
   "execution_count": 28,
   "id": "28c59b42",
   "metadata": {},
   "outputs": [
    {
     "name": "stdout",
     "output_type": "stream",
     "text": [
      "10\n",
      "20\n",
      "30\n"
     ]
    }
   ],
   "source": [
    "x = 10\n",
    "y = 20\n",
    "z = 30\n",
    "print(x)\n",
    "print(y)\n",
    "print(z)"
   ]
  },
  {
   "cell_type": "code",
   "execution_count": 29,
   "id": "5d421f3f",
   "metadata": {},
   "outputs": [
    {
     "name": "stdout",
     "output_type": "stream",
     "text": [
      "10 20 30\n"
     ]
    }
   ],
   "source": [
    "x = 10\n",
    "y = 20\n",
    "z = 30\n",
    "print(x,y,z)"
   ]
  },
  {
   "cell_type": "code",
   "execution_count": 31,
   "id": "a47d620b",
   "metadata": {},
   "outputs": [
    {
     "name": "stdout",
     "output_type": "stream",
     "text": [
      "10 \n",
      "\n",
      "20\n"
     ]
    }
   ],
   "source": [
    "x = 10\n",
    "y = 20\n",
    "z = 30\n",
    "print(x,'\\n')\n",
    "print(y)"
   ]
  },
  {
   "cell_type": "code",
   "execution_count": 32,
   "id": "1969907e",
   "metadata": {},
   "outputs": [
    {
     "name": "stdout",
     "output_type": "stream",
     "text": [
      "10 \n",
      "\n",
      "\n",
      "\n",
      "20\n"
     ]
    }
   ],
   "source": [
    "x = 10\n",
    "y = 20\n",
    "z = 30\n",
    "print(x,'\\n\\n\\n')\n",
    "print(y)"
   ]
  },
  {
   "cell_type": "code",
   "execution_count": 33,
   "id": "235c0838",
   "metadata": {},
   "outputs": [
    {
     "data": {
      "text/plain": [
       "(10, '\\n\\n')"
      ]
     },
     "execution_count": 33,
     "metadata": {},
     "output_type": "execute_result"
    }
   ],
   "source": [
    "x,'\\n\\n'"
   ]
  },
  {
   "cell_type": "code",
   "execution_count": 34,
   "id": "049857dc",
   "metadata": {},
   "outputs": [
    {
     "name": "stdout",
     "output_type": "stream",
     "text": [
      "10 \n",
      "\n",
      "\n"
     ]
    }
   ],
   "source": [
    "print(x,'\\n\\n')"
   ]
  },
  {
   "cell_type": "code",
   "execution_count": 36,
   "id": "e8bb5a80",
   "metadata": {},
   "outputs": [
    {
     "name": "stdout",
     "output_type": "stream",
     "text": [
      "a+x\n",
      "\n"
     ]
    }
   ],
   "source": [
    "print('a+x\\n')"
   ]
  },
  {
   "cell_type": "code",
   "execution_count": 38,
   "id": "dc75e323",
   "metadata": {},
   "outputs": [
    {
     "name": "stdout",
     "output_type": "stream",
     "text": [
      "10 \n",
      "\n",
      "\n",
      "\n",
      "\n",
      "\n",
      "20\n"
     ]
    }
   ],
   "source": [
    "x = 10\n",
    "y = 20\n",
    "z = 30\n",
    "print(x,'\\n\\n\\n')\n",
    "print()\n",
    "print()\n",
    "print(y)"
   ]
  },
  {
   "cell_type": "code",
   "execution_count": 40,
   "id": "2147821f",
   "metadata": {},
   "outputs": [
    {
     "name": "stdout",
     "output_type": "stream",
     "text": [
      "10 \n",
      "\n",
      "20 \t 20\n"
     ]
    }
   ],
   "source": [
    "x = 10\n",
    "y = 20\n",
    "z = 30\n",
    "print(x,'\\n')\n",
    "print(y,'\\t',y)"
   ]
  },
  {
   "cell_type": "code",
   "execution_count": 42,
   "id": "aea463ca",
   "metadata": {},
   "outputs": [
    {
     "name": "stdout",
     "output_type": "stream",
     "text": [
      "10 \n",
      "\n",
      "\t 20\n",
      "30\n"
     ]
    }
   ],
   "source": [
    "x = 10\n",
    "y = 20\n",
    "z = 30\n",
    "print(x,'\\n')\n",
    "print('\\t',y)\n",
    "print(z)"
   ]
  },
  {
   "cell_type": "code",
   "execution_count": 43,
   "id": "d9862967",
   "metadata": {},
   "outputs": [
    {
     "name": "stdout",
     "output_type": "stream",
     "text": [
      "10 \n",
      "\n",
      "\t 20 30\n"
     ]
    }
   ],
   "source": [
    "x = 10\n",
    "y = 20\n",
    "z = 30\n",
    "print(x,'\\n')\n",
    "print('\\t',y, end=' ')\n",
    "print(z)"
   ]
  },
  {
   "cell_type": "code",
   "execution_count": 44,
   "id": "938dfe22",
   "metadata": {},
   "outputs": [
    {
     "name": "stdout",
     "output_type": "stream",
     "text": [
      "10 \n",
      "\n",
      "\t 2030\n"
     ]
    }
   ],
   "source": [
    "x = 10\n",
    "y = 20\n",
    "z = 30\n",
    "print(x,'\\n')\n",
    "print('\\t',y, end='')\n",
    "print(z)"
   ]
  },
  {
   "cell_type": "code",
   "execution_count": 46,
   "id": "9ab03144",
   "metadata": {},
   "outputs": [
    {
     "name": "stdout",
     "output_type": "stream",
     "text": [
      "10 \n",
      "\n",
      "\t 2030 10\n"
     ]
    }
   ],
   "source": [
    "x = 10\n",
    "y = 20\n",
    "z = 30\n",
    "print(x,'\\n')\n",
    "print('\\t',y, end='')\n",
    "print(z, end = ' ')\n",
    "print(x)"
   ]
  },
  {
   "cell_type": "code",
   "execution_count": 49,
   "id": "37416b68",
   "metadata": {},
   "outputs": [
    {
     "name": "stdout",
     "output_type": "stream",
     "text": [
      "10hi20\n"
     ]
    }
   ],
   "source": [
    "x = 10\n",
    "y = 20\n",
    "z = 30\n",
    "print(x, end ='hi')\n",
    "print(y)"
   ]
  },
  {
   "cell_type": "code",
   "execution_count": 51,
   "id": "165a9e1a",
   "metadata": {},
   "outputs": [
    {
     "name": "stdout",
     "output_type": "stream",
     "text": [
      "10 hi 20\n"
     ]
    }
   ],
   "source": [
    "x = 10\n",
    "y = 20\n",
    "z = 30\n",
    "print(x, end =' hi ')\n",
    "print(y)"
   ]
  },
  {
   "cell_type": "code",
   "execution_count": 53,
   "id": "e9baa372",
   "metadata": {},
   "outputs": [
    {
     "name": "stdout",
     "output_type": "stream",
     "text": [
      "10\n",
      "20\n"
     ]
    }
   ],
   "source": [
    "x = 10\n",
    "y = 20\n",
    "z = 30\n",
    "print(x, end ='\\n')\n",
    "print(y)"
   ]
  },
  {
   "cell_type": "markdown",
   "id": "c1886c2d",
   "metadata": {},
   "source": [
    "# String Formatting"
   ]
  },
  {
   "cell_type": "markdown",
   "id": "3c6470e3",
   "metadata": {},
   "source": [
    "### f-string"
   ]
  },
  {
   "cell_type": "code",
   "execution_count": 55,
   "id": "5d12abaa",
   "metadata": {},
   "outputs": [
    {
     "name": "stdout",
     "output_type": "stream",
     "text": [
      "value of x , y , z is: 100 200 300\n"
     ]
    }
   ],
   "source": [
    "x = 100\n",
    "\n",
    "y = 200\n",
    "\n",
    "z = 300 \n",
    "\n",
    "print('value of x , y , z is:',x,y,z)"
   ]
  },
  {
   "cell_type": "code",
   "execution_count": 60,
   "id": "da2ee55f",
   "metadata": {},
   "outputs": [
    {
     "name": "stdout",
     "output_type": "stream",
     "text": [
      "x==100, y==200, z==300,x+y+z==600\n"
     ]
    }
   ],
   "source": [
    "x = 100\n",
    "\n",
    "y = 200\n",
    "\n",
    "z = 300 \n",
    "\n",
    "print(f'x=={x}, y=={y}, z=={z},x+y+z=={x+y+z}')"
   ]
  },
  {
   "cell_type": "code",
   "execution_count": 62,
   "id": "c2620068",
   "metadata": {},
   "outputs": [
    {
     "name": "stdout",
     "output_type": "stream",
     "text": [
      "x== 100 y== 200 zsdzfxgchjkljgfd 300\n"
     ]
    }
   ],
   "source": [
    "x = 100\n",
    "\n",
    "y = 200\n",
    "\n",
    "z = 300 \n",
    "\n",
    "print('x==',x,'y==',y,'z==',z)"
   ]
  },
  {
   "cell_type": "code",
   "execution_count": 65,
   "id": "909b0846",
   "metadata": {},
   "outputs": [
    {
     "data": {
      "text/plain": [
       "True"
      ]
     },
     "execution_count": 65,
     "metadata": {},
     "output_type": "execute_result"
    }
   ],
   "source": [
    "a=5\n",
    "b=5\n",
    "a=b\n",
    "a==b"
   ]
  },
  {
   "cell_type": "code",
   "execution_count": 66,
   "id": "a47a5762",
   "metadata": {},
   "outputs": [
    {
     "name": "stdout",
     "output_type": "stream",
     "text": [
      "x==300, y==200, z==100\n"
     ]
    }
   ],
   "source": [
    "x = 100\n",
    "\n",
    "y = 200\n",
    "\n",
    "z = 300 \n",
    "\n",
    "print(f'x=={z}, y=={y}, z=={x}')"
   ]
  },
  {
   "cell_type": "code",
   "execution_count": 69,
   "id": "674b07f6",
   "metadata": {},
   "outputs": [
    {
     "name": "stdout",
     "output_type": "stream",
     "text": [
      "x==600, y==200, z==100\n"
     ]
    }
   ],
   "source": [
    "x = 100\n",
    "\n",
    "y = 200\n",
    "\n",
    "z = 300 \n",
    "\n",
    "print(f'x=={z+z}, y=={y}, z=={x}')"
   ]
  },
  {
   "cell_type": "markdown",
   "id": "ea34de69",
   "metadata": {},
   "source": [
    "### .format"
   ]
  },
  {
   "cell_type": "code",
   "execution_count": 71,
   "id": "17f12e64",
   "metadata": {},
   "outputs": [
    {
     "name": "stdout",
     "output_type": "stream",
     "text": [
      "x==100 , y== , z==\n"
     ]
    }
   ],
   "source": [
    "x = 100\n",
    "\n",
    "y = 200\n",
    "\n",
    "z = 300 \n",
    "\n",
    "print('x=={} , y== , z=='.format(x))"
   ]
  },
  {
   "cell_type": "code",
   "execution_count": 72,
   "id": "d444af5a",
   "metadata": {},
   "outputs": [
    {
     "name": "stdout",
     "output_type": "stream",
     "text": [
      "x==100 , y== , z==200\n"
     ]
    }
   ],
   "source": [
    "x = 100\n",
    "\n",
    "y = 200\n",
    "\n",
    "z = 300 \n",
    "\n",
    "print('x=={} , y== , z=={}'.format(x,y))"
   ]
  },
  {
   "cell_type": "code",
   "execution_count": 74,
   "id": "d29cdc6c",
   "metadata": {},
   "outputs": [
    {
     "name": "stdout",
     "output_type": "stream",
     "text": [
      "x==100 , y==200 , z==300\n"
     ]
    }
   ],
   "source": [
    "x = 100\n",
    "\n",
    "y = 200\n",
    "\n",
    "z = 300 \n",
    "\n",
    "print('x=={} , y=={} , z=={}'.format(x,y,z))"
   ]
  },
  {
   "cell_type": "code",
   "execution_count": 75,
   "id": "fcacd807",
   "metadata": {},
   "outputs": [
    {
     "name": "stdout",
     "output_type": "stream",
     "text": [
      "x==100 , y==200 , z==300, x+y+z==600 \n"
     ]
    }
   ],
   "source": [
    "x = 100\n",
    "\n",
    "y = 200\n",
    "\n",
    "z = 300 \n",
    "\n",
    "print('x=={} , y=={} , z=={}, x+y+z=={} '.format(x,y,z,x+y+z))"
   ]
  },
  {
   "cell_type": "code",
   "execution_count": 76,
   "id": "67f27ef3",
   "metadata": {},
   "outputs": [
    {
     "name": "stdout",
     "output_type": "stream",
     "text": [
      "x==300 , y==600 , z==100, x+y+z==200 \n"
     ]
    }
   ],
   "source": [
    "x = 100\n",
    "\n",
    "y = 200\n",
    "\n",
    "z = 300 \n",
    "\n",
    "print('x=={} , y=={} , z=={}, x+y+z=={} '.format(z,x+y+z,x,y))"
   ]
  },
  {
   "cell_type": "code",
   "execution_count": 77,
   "id": "ff8461d2",
   "metadata": {},
   "outputs": [
    {
     "name": "stdout",
     "output_type": "stream",
     "text": [
      "x==300 , y==600 , z==100, x+y+z== \n"
     ]
    }
   ],
   "source": [
    "x = 100\n",
    "\n",
    "y = 200\n",
    "\n",
    "z = 300 \n",
    "\n",
    "print('x=={} , y=={} , z=={}, x+y+z== '.format(z,x+y+z,x,y))"
   ]
  },
  {
   "cell_type": "code",
   "execution_count": 79,
   "id": "6675b5fd",
   "metadata": {},
   "outputs": [
    {
     "name": "stdout",
     "output_type": "stream",
     "text": [
      "a==10\n"
     ]
    }
   ],
   "source": [
    "a = 10\n",
    "b = 5.5\n",
    "c = 'abc'\n",
    "print('a==%d'%a)     #%d >> for int"
   ]
  },
  {
   "cell_type": "code",
   "execution_count": 80,
   "id": "8e271dee",
   "metadata": {},
   "outputs": [
    {
     "ename": "TypeError",
     "evalue": "%d format: a number is required, not str",
     "output_type": "error",
     "traceback": [
      "\u001b[1;31m---------------------------------------------------------------------------\u001b[0m",
      "\u001b[1;31mTypeError\u001b[0m                                 Traceback (most recent call last)",
      "\u001b[1;32m<ipython-input-80-63f8e14e034c>\u001b[0m in \u001b[0;36m<module>\u001b[1;34m\u001b[0m\n\u001b[0;32m      2\u001b[0m \u001b[0mb\u001b[0m \u001b[1;33m=\u001b[0m \u001b[1;36m5.5\u001b[0m\u001b[1;33m\u001b[0m\u001b[1;33m\u001b[0m\u001b[0m\n\u001b[0;32m      3\u001b[0m \u001b[0mc\u001b[0m \u001b[1;33m=\u001b[0m \u001b[1;34m'abc'\u001b[0m\u001b[1;33m\u001b[0m\u001b[1;33m\u001b[0m\u001b[0m\n\u001b[1;32m----> 4\u001b[1;33m \u001b[0mprint\u001b[0m\u001b[1;33m(\u001b[0m\u001b[1;34m'a==%d'\u001b[0m\u001b[1;33m%\u001b[0m\u001b[0mc\u001b[0m\u001b[1;33m)\u001b[0m     \u001b[1;31m#%d >> for int\u001b[0m\u001b[1;33m\u001b[0m\u001b[1;33m\u001b[0m\u001b[0m\n\u001b[0m",
      "\u001b[1;31mTypeError\u001b[0m: %d format: a number is required, not str"
     ]
    }
   ],
   "source": [
    "a = 10\n",
    "b = 5.5\n",
    "c = 'abc'\n",
    "print('a==%d'%c)     #%d >> for int"
   ]
  },
  {
   "cell_type": "code",
   "execution_count": 81,
   "id": "8c5bc3e7",
   "metadata": {},
   "outputs": [
    {
     "name": "stdout",
     "output_type": "stream",
     "text": [
      "a==5\n"
     ]
    }
   ],
   "source": [
    "a = 10\n",
    "b = 5.5\n",
    "c = 'abc'\n",
    "print('a==%d'%b)     #%d >> for int"
   ]
  },
  {
   "cell_type": "code",
   "execution_count": 82,
   "id": "8594e3ed",
   "metadata": {},
   "outputs": [
    {
     "name": "stdout",
     "output_type": "stream",
     "text": [
      "b==5.500000\n"
     ]
    }
   ],
   "source": [
    "a = 10\n",
    "b = 5.5\n",
    "c = 'abc'\n",
    "print('b==%f'%b)     #%f >> for float"
   ]
  },
  {
   "cell_type": "code",
   "execution_count": 83,
   "id": "7c791a6c",
   "metadata": {},
   "outputs": [
    {
     "name": "stdout",
     "output_type": "stream",
     "text": [
      "b==10.000000\n"
     ]
    }
   ],
   "source": [
    "a = 10\n",
    "b = 5.5\n",
    "c = 'abc'\n",
    "print('b==%f'%a)     #%f >> for float"
   ]
  },
  {
   "cell_type": "code",
   "execution_count": 84,
   "id": "1527fd30",
   "metadata": {},
   "outputs": [
    {
     "name": "stdout",
     "output_type": "stream",
     "text": [
      "c==abc\n"
     ]
    }
   ],
   "source": [
    "a = 10\n",
    "b = 5.5\n",
    "c = 'abc'\n",
    "print('c==%s'%c)     #%s >> for str"
   ]
  },
  {
   "cell_type": "code",
   "execution_count": 85,
   "id": "1297e193",
   "metadata": {},
   "outputs": [
    {
     "name": "stdout",
     "output_type": "stream",
     "text": [
      "c==10\n"
     ]
    }
   ],
   "source": [
    "a = 10\n",
    "b = 5.5\n",
    "c = 'abc'\n",
    "print('c==%s'%a)     #%s >> for str"
   ]
  },
  {
   "cell_type": "code",
   "execution_count": 88,
   "id": "6ee2203b",
   "metadata": {},
   "outputs": [
    {
     "name": "stdout",
     "output_type": "stream",
     "text": [
      "c==10\n"
     ]
    }
   ],
   "source": [
    "a = 10\n",
    "b = 5.5\n",
    "c = 'abc'\n",
    "print('c==%s'%a)     #%s >> for str"
   ]
  },
  {
   "cell_type": "markdown",
   "id": "4583a828",
   "metadata": {},
   "source": [
    "## Multiple values to Multiple variable"
   ]
  },
  {
   "cell_type": "code",
   "execution_count": 89,
   "id": "73214f70",
   "metadata": {},
   "outputs": [
    {
     "name": "stdout",
     "output_type": "stream",
     "text": [
      "10 5 hi\n"
     ]
    }
   ],
   "source": [
    "a = 10\n",
    "b = 5\n",
    "c = 'hi'\n",
    "print(a,b,c)"
   ]
  },
  {
   "cell_type": "code",
   "execution_count": 90,
   "id": "0796ea76",
   "metadata": {},
   "outputs": [
    {
     "ename": "SyntaxError",
     "evalue": "cannot assign to literal (<ipython-input-90-3b8cd34716e4>, line 1)",
     "output_type": "error",
     "traceback": [
      "\u001b[1;36m  File \u001b[1;32m\"<ipython-input-90-3b8cd34716e4>\"\u001b[1;36m, line \u001b[1;32m1\u001b[0m\n\u001b[1;33m    a = 10, b = 5, c = 'hi'\u001b[0m\n\u001b[1;37m        ^\u001b[0m\n\u001b[1;31mSyntaxError\u001b[0m\u001b[1;31m:\u001b[0m cannot assign to literal\n"
     ]
    }
   ],
   "source": [
    "a = 10, b = 5, c = 'hi'\n",
    "print(a,b,c)"
   ]
  },
  {
   "cell_type": "code",
   "execution_count": 91,
   "id": "3cbe6e10",
   "metadata": {},
   "outputs": [
    {
     "name": "stdout",
     "output_type": "stream",
     "text": [
      "10 5 hi\n"
     ]
    }
   ],
   "source": [
    "a = 10; b = 5; c = 'hi'\n",
    "print(a,b,c)"
   ]
  },
  {
   "cell_type": "code",
   "execution_count": 92,
   "id": "c1ffabc1",
   "metadata": {},
   "outputs": [
    {
     "name": "stdout",
     "output_type": "stream",
     "text": [
      "10 5 c\n"
     ]
    }
   ],
   "source": [
    "a,b,c = 10,5,'c'\n",
    "print(a,b,c)"
   ]
  },
  {
   "cell_type": "markdown",
   "id": "7437292d",
   "metadata": {},
   "source": [
    "## Delete Variable"
   ]
  },
  {
   "cell_type": "code",
   "execution_count": 94,
   "id": "b4b888e9",
   "metadata": {},
   "outputs": [
    {
     "name": "stdout",
     "output_type": "stream",
     "text": [
      "Pune\n"
     ]
    },
    {
     "ename": "NameError",
     "evalue": "name 'str1' is not defined",
     "output_type": "error",
     "traceback": [
      "\u001b[1;31m---------------------------------------------------------------------------\u001b[0m",
      "\u001b[1;31mNameError\u001b[0m                                 Traceback (most recent call last)",
      "\u001b[1;32m<ipython-input-94-98f5984518c9>\u001b[0m in \u001b[0;36m<module>\u001b[1;34m\u001b[0m\n\u001b[0;32m      3\u001b[0m \u001b[1;33m\u001b[0m\u001b[0m\n\u001b[0;32m      4\u001b[0m \u001b[1;32mdel\u001b[0m \u001b[0mstr1\u001b[0m\u001b[1;33m\u001b[0m\u001b[1;33m\u001b[0m\u001b[0m\n\u001b[1;32m----> 5\u001b[1;33m \u001b[0mprint\u001b[0m\u001b[1;33m(\u001b[0m\u001b[0mstr1\u001b[0m\u001b[1;33m)\u001b[0m\u001b[1;33m\u001b[0m\u001b[1;33m\u001b[0m\u001b[0m\n\u001b[0m",
      "\u001b[1;31mNameError\u001b[0m: name 'str1' is not defined"
     ]
    }
   ],
   "source": [
    "str1 = 'Pune'\n",
    "print(str1)\n",
    "\n",
    "del str1\n",
    "print(str1)"
   ]
  },
  {
   "cell_type": "code",
   "execution_count": 95,
   "id": "d80ec49d",
   "metadata": {},
   "outputs": [
    {
     "name": "stdout",
     "output_type": "stream",
     "text": [
      "1\n"
     ]
    }
   ],
   "source": [
    "a = 1\n",
    "print(a)"
   ]
  },
  {
   "cell_type": "code",
   "execution_count": 96,
   "id": "e0fdb824",
   "metadata": {},
   "outputs": [
    {
     "ename": "NameError",
     "evalue": "name 'a' is not defined",
     "output_type": "error",
     "traceback": [
      "\u001b[1;31m---------------------------------------------------------------------------\u001b[0m",
      "\u001b[1;31mNameError\u001b[0m                                 Traceback (most recent call last)",
      "\u001b[1;32m<ipython-input-96-c342333e421e>\u001b[0m in \u001b[0;36m<module>\u001b[1;34m\u001b[0m\n\u001b[0;32m      1\u001b[0m \u001b[1;32mdel\u001b[0m \u001b[0ma\u001b[0m\u001b[1;33m\u001b[0m\u001b[1;33m\u001b[0m\u001b[0m\n\u001b[1;32m----> 2\u001b[1;33m \u001b[0mprint\u001b[0m\u001b[1;33m(\u001b[0m\u001b[0ma\u001b[0m\u001b[1;33m)\u001b[0m\u001b[1;33m\u001b[0m\u001b[1;33m\u001b[0m\u001b[0m\n\u001b[0m",
      "\u001b[1;31mNameError\u001b[0m: name 'a' is not defined"
     ]
    }
   ],
   "source": [
    "del a\n",
    "print(a)"
   ]
  },
  {
   "cell_type": "code",
   "execution_count": 104,
   "id": "c4e8ed6a",
   "metadata": {},
   "outputs": [
    {
     "name": "stdout",
     "output_type": "stream",
     "text": [
      "10\n"
     ]
    },
    {
     "ename": "NameError",
     "evalue": "name 'x' is not defined",
     "output_type": "error",
     "traceback": [
      "\u001b[1;31m---------------------------------------------------------------------------\u001b[0m",
      "\u001b[1;31mNameError\u001b[0m                                 Traceback (most recent call last)",
      "\u001b[1;32m<ipython-input-104-a759e3bfdfae>\u001b[0m in \u001b[0;36m<module>\u001b[1;34m\u001b[0m\n\u001b[0;32m      5\u001b[0m \u001b[0ma\u001b[0m\u001b[1;33m(\u001b[0m\u001b[1;33m)\u001b[0m\u001b[1;33m\u001b[0m\u001b[1;33m\u001b[0m\u001b[0m\n\u001b[0;32m      6\u001b[0m \u001b[1;32mdel\u001b[0m \u001b[0mx\u001b[0m\u001b[1;33m\u001b[0m\u001b[1;33m\u001b[0m\u001b[0m\n\u001b[1;32m----> 7\u001b[1;33m \u001b[0mprint\u001b[0m\u001b[1;33m(\u001b[0m\u001b[0mx\u001b[0m\u001b[1;33m)\u001b[0m\u001b[1;33m\u001b[0m\u001b[1;33m\u001b[0m\u001b[0m\n\u001b[0m",
      "\u001b[1;31mNameError\u001b[0m: name 'x' is not defined"
     ]
    }
   ],
   "source": [
    "x =10 \n",
    "def a():\n",
    "    print(x)\n",
    "    \n",
    "a()\n",
    "del x\n",
    "print(x)"
   ]
  },
  {
   "cell_type": "code",
   "execution_count": 105,
   "id": "40a72204",
   "metadata": {},
   "outputs": [
    {
     "name": "stdout",
     "output_type": "stream",
     "text": [
      "Python\n",
      "Data Science\n"
     ]
    }
   ],
   "source": [
    "print('Python')\n",
    "print('Data Science')"
   ]
  },
  {
   "cell_type": "code",
   "execution_count": 106,
   "id": "454bcd46",
   "metadata": {},
   "outputs": [
    {
     "name": "stdout",
     "output_type": "stream",
     "text": [
      "Python Data Science\n"
     ]
    }
   ],
   "source": [
    "print('Python',end = ' ')\n",
    "print('Data Science')"
   ]
  },
  {
   "cell_type": "code",
   "execution_count": 107,
   "id": "8e2c18eb",
   "metadata": {},
   "outputs": [
    {
     "name": "stdout",
     "output_type": "stream",
     "text": [
      "Python\n",
      "Data Science\n"
     ]
    }
   ],
   "source": [
    "print('Python',end = '\\n')\n",
    "print('Data Science')"
   ]
  },
  {
   "cell_type": "code",
   "execution_count": 108,
   "id": "50c42cc2",
   "metadata": {},
   "outputs": [
    {
     "name": "stdout",
     "output_type": "stream",
     "text": [
      "Python\n",
      "\n",
      "\n",
      "Data Science\n"
     ]
    }
   ],
   "source": [
    "print('Python',end = '\\n\\n\\n')\n",
    "print('Data Science')"
   ]
  },
  {
   "cell_type": "code",
   "execution_count": 109,
   "id": "bf54a378",
   "metadata": {},
   "outputs": [
    {
     "name": "stdout",
     "output_type": "stream",
     "text": [
      "Python\n",
      "\n",
      "\tData Science\n"
     ]
    }
   ],
   "source": [
    "print('Python',end = '\\n\\n\\t')\n",
    "print('Data Science')"
   ]
  },
  {
   "cell_type": "code",
   "execution_count": 110,
   "id": "a3b083d6",
   "metadata": {},
   "outputs": [
    {
     "name": "stdout",
     "output_type": "stream",
     "text": [
      "Python_Data Science\n"
     ]
    }
   ],
   "source": [
    "print('Python',end = '_')\n",
    "print('Data Science')"
   ]
  },
  {
   "cell_type": "code",
   "execution_count": 111,
   "id": "a7abdd1f",
   "metadata": {},
   "outputs": [
    {
     "name": "stdout",
     "output_type": "stream",
     "text": [
      "Python\n",
      "\n",
      "Data Science\n"
     ]
    }
   ],
   "source": [
    "print('Python\\n')\n",
    "print('Data Science')"
   ]
  },
  {
   "cell_type": "code",
   "execution_count": 112,
   "id": "522f7129",
   "metadata": {},
   "outputs": [
    {
     "name": "stdout",
     "output_type": "stream",
     "text": [
      "Python_Data Science_ML\n"
     ]
    }
   ],
   "source": [
    "print('Python',end = '_')\n",
    "print('Data Science',end ='_')\n",
    "print('ML')"
   ]
  },
  {
   "cell_type": "code",
   "execution_count": 113,
   "id": "e345bd54",
   "metadata": {},
   "outputs": [
    {
     "name": "stdout",
     "output_type": "stream",
     "text": [
      "Python\n",
      "_Data Science_ML\n"
     ]
    }
   ],
   "source": [
    "print('Python\\n',end = '_')\n",
    "print('Data Science',end ='_')\n",
    "print('ML')"
   ]
  },
  {
   "cell_type": "code",
   "execution_count": 114,
   "id": "d423ef2e",
   "metadata": {},
   "outputs": [
    {
     "data": {
      "text/plain": [
       "13"
      ]
     },
     "execution_count": 114,
     "metadata": {},
     "output_type": "execute_result"
    }
   ],
   "source": [
    "a =10\n",
    "b=3\n",
    "a+b"
   ]
  },
  {
   "cell_type": "code",
   "execution_count": 115,
   "id": "b20ca9ff",
   "metadata": {},
   "outputs": [
    {
     "data": {
      "text/plain": [
       "'103'"
      ]
     },
     "execution_count": 115,
     "metadata": {},
     "output_type": "execute_result"
    }
   ],
   "source": [
    "a ='10'\n",
    "b='3'\n",
    "a+b  # Concatination"
   ]
  },
  {
   "cell_type": "code",
   "execution_count": 117,
   "id": "80ee885d",
   "metadata": {},
   "outputs": [
    {
     "ename": "ValueError",
     "evalue": "too many values to unpack (expected 3)",
     "output_type": "error",
     "traceback": [
      "\u001b[1;31m---------------------------------------------------------------------------\u001b[0m",
      "\u001b[1;31mValueError\u001b[0m                                Traceback (most recent call last)",
      "\u001b[1;32m<ipython-input-117-e6e12dfe99e4>\u001b[0m in \u001b[0;36m<module>\u001b[1;34m\u001b[0m\n\u001b[1;32m----> 1\u001b[1;33m \u001b[0ma\u001b[0m\u001b[1;33m,\u001b[0m\u001b[0mb\u001b[0m\u001b[1;33m,\u001b[0m\u001b[0mc\u001b[0m \u001b[1;33m=\u001b[0m \u001b[1;36m1\u001b[0m\u001b[1;33m,\u001b[0m\u001b[1;36m2\u001b[0m\u001b[1;33m,\u001b[0m\u001b[1;36m3\u001b[0m\u001b[1;33m,\u001b[0m\u001b[1;36m4\u001b[0m\u001b[1;33m\u001b[0m\u001b[1;33m\u001b[0m\u001b[0m\n\u001b[0m",
      "\u001b[1;31mValueError\u001b[0m: too many values to unpack (expected 3)"
     ]
    }
   ],
   "source": [
    "a,b,c = 1,2,3,4"
   ]
  },
  {
   "cell_type": "code",
   "execution_count": 118,
   "id": "e7b71a0d",
   "metadata": {},
   "outputs": [
    {
     "ename": "ValueError",
     "evalue": "not enough values to unpack (expected 4, got 3)",
     "output_type": "error",
     "traceback": [
      "\u001b[1;31m---------------------------------------------------------------------------\u001b[0m",
      "\u001b[1;31mValueError\u001b[0m                                Traceback (most recent call last)",
      "\u001b[1;32m<ipython-input-118-65fd05daaa1f>\u001b[0m in \u001b[0;36m<module>\u001b[1;34m\u001b[0m\n\u001b[1;32m----> 1\u001b[1;33m \u001b[0ma\u001b[0m\u001b[1;33m,\u001b[0m\u001b[0mb\u001b[0m\u001b[1;33m,\u001b[0m\u001b[0mc\u001b[0m\u001b[1;33m,\u001b[0m\u001b[0md\u001b[0m \u001b[1;33m=\u001b[0m \u001b[1;36m1\u001b[0m\u001b[1;33m,\u001b[0m\u001b[1;36m2\u001b[0m\u001b[1;33m,\u001b[0m\u001b[1;36m3\u001b[0m\u001b[1;33m\u001b[0m\u001b[1;33m\u001b[0m\u001b[0m\n\u001b[0m",
      "\u001b[1;31mValueError\u001b[0m: not enough values to unpack (expected 4, got 3)"
     ]
    }
   ],
   "source": [
    "a,b,c,d = 1,2,3"
   ]
  },
  {
   "cell_type": "code",
   "execution_count": 119,
   "id": "f1d01c8c",
   "metadata": {},
   "outputs": [
    {
     "data": {
      "text/plain": [
       "list"
      ]
     },
     "execution_count": 119,
     "metadata": {},
     "output_type": "execute_result"
    }
   ],
   "source": [
    "a = [1,2,3]\n",
    "type(a)"
   ]
  },
  {
   "cell_type": "code",
   "execution_count": 120,
   "id": "a0f43879",
   "metadata": {},
   "outputs": [
    {
     "data": {
      "text/plain": [
       "tuple"
      ]
     },
     "execution_count": 120,
     "metadata": {},
     "output_type": "execute_result"
    }
   ],
   "source": [
    "a= (1,2,3)\n",
    "type(a)"
   ]
  },
  {
   "cell_type": "code",
   "execution_count": 121,
   "id": "815e7516",
   "metadata": {},
   "outputs": [
    {
     "data": {
      "text/plain": [
       "set"
      ]
     },
     "execution_count": 121,
     "metadata": {},
     "output_type": "execute_result"
    }
   ],
   "source": [
    "a= {1,2,3}\n",
    "type(a)"
   ]
  },
  {
   "cell_type": "markdown",
   "id": "5c030a48",
   "metadata": {},
   "source": [
    "##### Velocity"
   ]
  },
  {
   "cell_type": "markdown",
   "id": "824bb479",
   "metadata": {},
   "source": [
    "#### Velocity"
   ]
  },
  {
   "cell_type": "markdown",
   "id": "f0e6c046",
   "metadata": {},
   "source": [
    "# Velocity"
   ]
  },
  {
   "cell_type": "markdown",
   "id": "b9c849eb",
   "metadata": {},
   "source": [
    "## Velocity"
   ]
  },
  {
   "cell_type": "markdown",
   "id": "daf0aaa6",
   "metadata": {},
   "source": [
    "### Velocity"
   ]
  },
  {
   "cell_type": "code",
   "execution_count": null,
   "id": "8117f01d",
   "metadata": {},
   "outputs": [],
   "source": []
  }
 ],
 "metadata": {
  "kernelspec": {
   "display_name": "Python 3",
   "language": "python",
   "name": "python3"
  },
  "language_info": {
   "codemirror_mode": {
    "name": "ipython",
    "version": 3
   },
   "file_extension": ".py",
   "mimetype": "text/x-python",
   "name": "python",
   "nbconvert_exporter": "python",
   "pygments_lexer": "ipython3",
   "version": "3.8.8"
  }
 },
 "nbformat": 4,
 "nbformat_minor": 5
}
