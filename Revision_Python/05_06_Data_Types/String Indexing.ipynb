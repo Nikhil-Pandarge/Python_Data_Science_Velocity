{
 "cells": [
  {
   "cell_type": "markdown",
   "id": "dc349baf",
   "metadata": {},
   "source": [
    "# String Indexing"
   ]
  },
  {
   "cell_type": "code",
   "execution_count": null,
   "id": "21d13584",
   "metadata": {},
   "outputs": [],
   "source": [
    "Indexing will start from 0\n",
    "[] is used to access char from string"
   ]
  },
  {
   "cell_type": "code",
   "execution_count": 1,
   "id": "ff3b65ee",
   "metadata": {},
   "outputs": [
    {
     "data": {
      "text/plain": [
       "6"
      ]
     },
     "execution_count": 1,
     "metadata": {},
     "output_type": "execute_result"
    }
   ],
   "source": [
    "string = 'python'\n",
    "len(string)"
   ]
  },
  {
   "cell_type": "code",
   "execution_count": 8,
   "id": "b97eb46a",
   "metadata": {},
   "outputs": [
    {
     "ename": "IndexError",
     "evalue": "string index out of range",
     "output_type": "error",
     "traceback": [
      "\u001b[1;31m---------------------------------------------------------------------------\u001b[0m",
      "\u001b[1;31mIndexError\u001b[0m                                Traceback (most recent call last)",
      "\u001b[1;32m<ipython-input-8-9e430d95f1ee>\u001b[0m in \u001b[0;36m<module>\u001b[1;34m\u001b[0m\n\u001b[0;32m      5\u001b[0m \u001b[0mstring\u001b[0m\u001b[1;33m[\u001b[0m\u001b[1;36m4\u001b[0m\u001b[1;33m]\u001b[0m\u001b[1;33m\u001b[0m\u001b[1;33m\u001b[0m\u001b[0m\n\u001b[0;32m      6\u001b[0m \u001b[0mstring\u001b[0m\u001b[1;33m[\u001b[0m\u001b[1;36m5\u001b[0m\u001b[1;33m]\u001b[0m\u001b[1;33m\u001b[0m\u001b[1;33m\u001b[0m\u001b[0m\n\u001b[1;32m----> 7\u001b[1;33m \u001b[0mstring\u001b[0m\u001b[1;33m[\u001b[0m\u001b[1;36m6\u001b[0m\u001b[1;33m]\u001b[0m\u001b[1;33m\u001b[0m\u001b[1;33m\u001b[0m\u001b[0m\n\u001b[0m",
      "\u001b[1;31mIndexError\u001b[0m: string index out of range"
     ]
    }
   ],
   "source": [
    "string[0]  # 'p'\n",
    "string[1]  # 'y'\n",
    "string[2]  # 't'\n",
    "string[3]  # 'h'\n",
    "string[4]  # '0'\n",
    "string[5]  # 'n'\n",
    "string[6]  # string index out of range"
   ]
  },
  {
   "cell_type": "markdown",
   "id": "b0dc32ce",
   "metadata": {},
   "source": [
    "## Length of string"
   ]
  },
  {
   "cell_type": "code",
   "execution_count": 9,
   "id": "11e3c1ca",
   "metadata": {},
   "outputs": [
    {
     "data": {
      "text/plain": [
       "6"
      ]
     },
     "execution_count": 9,
     "metadata": {},
     "output_type": "execute_result"
    }
   ],
   "source": [
    "string = 'python'\n",
    "len(string)"
   ]
  },
  {
   "cell_type": "code",
   "execution_count": 10,
   "id": "661fe4b1",
   "metadata": {},
   "outputs": [
    {
     "data": {
      "text/plain": [
       "12"
      ]
     },
     "execution_count": 10,
     "metadata": {},
     "output_type": "execute_result"
    }
   ],
   "source": [
    "string = 'python class'\n",
    "len(string)"
   ]
  },
  {
   "cell_type": "code",
   "execution_count": 11,
   "id": "55b32fe6",
   "metadata": {},
   "outputs": [
    {
     "data": {
      "text/plain": [
       "' '"
      ]
     },
     "execution_count": 11,
     "metadata": {},
     "output_type": "execute_result"
    }
   ],
   "source": [
    "string[6]"
   ]
  },
  {
   "cell_type": "code",
   "execution_count": 12,
   "id": "93138ad7",
   "metadata": {},
   "outputs": [
    {
     "ename": "TypeError",
     "evalue": "'str' object is not callable",
     "output_type": "error",
     "traceback": [
      "\u001b[1;31m---------------------------------------------------------------------------\u001b[0m",
      "\u001b[1;31mTypeError\u001b[0m                                 Traceback (most recent call last)",
      "\u001b[1;32m<ipython-input-12-b19ba9c4fbd3>\u001b[0m in \u001b[0;36m<module>\u001b[1;34m\u001b[0m\n\u001b[1;32m----> 1\u001b[1;33m \u001b[0mstring\u001b[0m\u001b[1;33m(\u001b[0m\u001b[1;36m6\u001b[0m\u001b[1;33m)\u001b[0m\u001b[1;33m\u001b[0m\u001b[1;33m\u001b[0m\u001b[0m\n\u001b[0m",
      "\u001b[1;31mTypeError\u001b[0m: 'str' object is not callable"
     ]
    }
   ],
   "source": [
    "string(6)"
   ]
  },
  {
   "cell_type": "code",
   "execution_count": 13,
   "id": "907dee07",
   "metadata": {},
   "outputs": [
    {
     "ename": "IndexError",
     "evalue": "string index out of range",
     "output_type": "error",
     "traceback": [
      "\u001b[1;31m---------------------------------------------------------------------------\u001b[0m",
      "\u001b[1;31mIndexError\u001b[0m                                Traceback (most recent call last)",
      "\u001b[1;32m<ipython-input-13-49ebec86f303>\u001b[0m in \u001b[0;36m<module>\u001b[1;34m\u001b[0m\n\u001b[1;32m----> 1\u001b[1;33m \u001b[0mstring\u001b[0m\u001b[1;33m[\u001b[0m\u001b[1;36m12\u001b[0m\u001b[1;33m]\u001b[0m\u001b[1;33m\u001b[0m\u001b[1;33m\u001b[0m\u001b[0m\n\u001b[0m",
      "\u001b[1;31mIndexError\u001b[0m: string index out of range"
     ]
    }
   ],
   "source": [
    "string[12]"
   ]
  },
  {
   "cell_type": "code",
   "execution_count": null,
   "id": "55c7523e",
   "metadata": {},
   "outputs": [],
   "source": [
    "string = 'python class'\n",
    "len(string)"
   ]
  },
  {
   "cell_type": "code",
   "execution_count": 15,
   "id": "6d8a96e9",
   "metadata": {},
   "outputs": [
    {
     "data": {
      "text/plain": [
       "'s'"
      ]
     },
     "execution_count": 15,
     "metadata": {},
     "output_type": "execute_result"
    }
   ],
   "source": [
    "string[len(string)-1]"
   ]
  },
  {
   "cell_type": "code",
   "execution_count": null,
   "id": "2d593a42",
   "metadata": {},
   "outputs": [],
   "source": [
    "  p  y  t  h  o  n\n",
    "  0  1  2  3  4  5"
   ]
  },
  {
   "cell_type": "markdown",
   "id": "25098e12",
   "metadata": {},
   "source": [
    "## Negative Indexing"
   ]
  },
  {
   "cell_type": "code",
   "execution_count": null,
   "id": "8be2e1f8",
   "metadata": {},
   "outputs": [],
   "source": [
    "  p  y  t  h  o  n\n",
    "  0  1  2  3  4  5\n",
    " -6 -5 -4 -3 -2 -1"
   ]
  },
  {
   "cell_type": "code",
   "execution_count": 16,
   "id": "013dd094",
   "metadata": {},
   "outputs": [
    {
     "data": {
      "text/plain": [
       "'y'"
      ]
     },
     "execution_count": 16,
     "metadata": {},
     "output_type": "execute_result"
    }
   ],
   "source": [
    "string = 'Velocity'\n",
    "string[-1]"
   ]
  },
  {
   "cell_type": "code",
   "execution_count": 18,
   "id": "af6ac5ae",
   "metadata": {},
   "outputs": [
    {
     "data": {
      "text/plain": [
       "'V'"
      ]
     },
     "execution_count": 18,
     "metadata": {},
     "output_type": "execute_result"
    }
   ],
   "source": [
    "string[-8]"
   ]
  },
  {
   "cell_type": "code",
   "execution_count": 20,
   "id": "6be81f5b",
   "metadata": {},
   "outputs": [
    {
     "data": {
      "text/plain": [
       "'o'"
      ]
     },
     "execution_count": 20,
     "metadata": {},
     "output_type": "execute_result"
    }
   ],
   "source": [
    "string[3]\n",
    "string[-5]"
   ]
  },
  {
   "cell_type": "code",
   "execution_count": 21,
   "id": "55f9d549",
   "metadata": {},
   "outputs": [
    {
     "data": {
      "text/plain": [
       "16"
      ]
     },
     "execution_count": 21,
     "metadata": {},
     "output_type": "execute_result"
    }
   ],
   "source": [
    "str1 = 'Machine Learning'\n",
    "len(str1)"
   ]
  },
  {
   "cell_type": "code",
   "execution_count": 22,
   "id": "50156ff0",
   "metadata": {},
   "outputs": [
    {
     "data": {
      "text/plain": [
       "'g'"
      ]
     },
     "execution_count": 22,
     "metadata": {},
     "output_type": "execute_result"
    }
   ],
   "source": [
    "str1[15]"
   ]
  },
  {
   "cell_type": "code",
   "execution_count": 23,
   "id": "41b9a992",
   "metadata": {},
   "outputs": [
    {
     "data": {
      "text/plain": [
       "'g'"
      ]
     },
     "execution_count": 23,
     "metadata": {},
     "output_type": "execute_result"
    }
   ],
   "source": [
    "str1[-1]"
   ]
  },
  {
   "cell_type": "code",
   "execution_count": 25,
   "id": "d132444c",
   "metadata": {},
   "outputs": [
    {
     "data": {
      "text/plain": [
       "'e'"
      ]
     },
     "execution_count": 25,
     "metadata": {},
     "output_type": "execute_result"
    }
   ],
   "source": [
    "str1[6]\n",
    "str1[-10]"
   ]
  },
  {
   "cell_type": "code",
   "execution_count": 27,
   "id": "2941f05f",
   "metadata": {},
   "outputs": [
    {
     "data": {
      "text/plain": [
       "17"
      ]
     },
     "execution_count": 27,
     "metadata": {},
     "output_type": "execute_result"
    }
   ],
   "source": [
    "str1 = 'Machine \\tLearning'\n",
    "len(str1)"
   ]
  },
  {
   "cell_type": "code",
   "execution_count": 28,
   "id": "c08363b7",
   "metadata": {},
   "outputs": [
    {
     "data": {
      "text/plain": [
       "17"
      ]
     },
     "execution_count": 28,
     "metadata": {},
     "output_type": "execute_result"
    }
   ],
   "source": [
    "str1 = 'Machine \\nLearning'\n",
    "len(str1)"
   ]
  },
  {
   "cell_type": "code",
   "execution_count": 29,
   "id": "8430f579",
   "metadata": {},
   "outputs": [
    {
     "name": "stdout",
     "output_type": "stream",
     "text": [
      "Machine \n",
      "Learning\n"
     ]
    }
   ],
   "source": [
    "print(str1)"
   ]
  },
  {
   "cell_type": "code",
   "execution_count": 30,
   "id": "2e0181ae",
   "metadata": {},
   "outputs": [
    {
     "data": {
      "text/plain": [
       "'\\n'"
      ]
     },
     "execution_count": 30,
     "metadata": {},
     "output_type": "execute_result"
    }
   ],
   "source": [
    "str1[8]"
   ]
  },
  {
   "cell_type": "markdown",
   "id": "a32870d7",
   "metadata": {},
   "source": [
    "# Python Slicing"
   ]
  },
  {
   "cell_type": "code",
   "execution_count": null,
   "id": "d4c343d3",
   "metadata": {},
   "outputs": [],
   "source": [
    "string[start_index(include) : end_index(exclude)]      end_index(exclude) >> end_index-1\n",
    "\n",
    "start_index >> defaul value  is 0\n",
    "end_index >> len(string)-1"
   ]
  },
  {
   "cell_type": "code",
   "execution_count": 31,
   "id": "b31235fc",
   "metadata": {},
   "outputs": [
    {
     "data": {
      "text/plain": [
       "'Machin'"
      ]
     },
     "execution_count": 31,
     "metadata": {},
     "output_type": "execute_result"
    }
   ],
   "source": [
    "str1 = 'Machine Learning'\n",
    "str1[0:6]"
   ]
  },
  {
   "cell_type": "code",
   "execution_count": 32,
   "id": "10f8b3c9",
   "metadata": {},
   "outputs": [
    {
     "data": {
      "text/plain": [
       "'Machine'"
      ]
     },
     "execution_count": 32,
     "metadata": {},
     "output_type": "execute_result"
    }
   ],
   "source": [
    "str1 = 'Machine Learning'\n",
    "str1[0:7]"
   ]
  },
  {
   "cell_type": "code",
   "execution_count": 33,
   "id": "96637c69",
   "metadata": {},
   "outputs": [
    {
     "data": {
      "text/plain": [
       "'chin'"
      ]
     },
     "execution_count": 33,
     "metadata": {},
     "output_type": "execute_result"
    }
   ],
   "source": [
    "str1[2:6]  # 2,3,4,5"
   ]
  },
  {
   "cell_type": "code",
   "execution_count": 34,
   "id": "8bed59a6",
   "metadata": {},
   "outputs": [
    {
     "data": {
      "text/plain": [
       "'Mac'"
      ]
     },
     "execution_count": 34,
     "metadata": {},
     "output_type": "execute_result"
    }
   ],
   "source": [
    "str1[0:3]  # 0,1,2"
   ]
  },
  {
   "cell_type": "code",
   "execution_count": 35,
   "id": "9bd981da",
   "metadata": {},
   "outputs": [
    {
     "data": {
      "text/plain": [
       "'Mac'"
      ]
     },
     "execution_count": 35,
     "metadata": {},
     "output_type": "execute_result"
    }
   ],
   "source": [
    "str1[:3]   # 0,1,2"
   ]
  },
  {
   "cell_type": "code",
   "execution_count": 36,
   "id": "7d17e70b",
   "metadata": {},
   "outputs": [
    {
     "data": {
      "text/plain": [
       "'e Learning'"
      ]
     },
     "execution_count": 36,
     "metadata": {},
     "output_type": "execute_result"
    }
   ],
   "source": [
    "str1[6:]"
   ]
  },
  {
   "cell_type": "code",
   "execution_count": 37,
   "id": "20fdf547",
   "metadata": {},
   "outputs": [
    {
     "data": {
      "text/plain": [
       "'e Learning'"
      ]
     },
     "execution_count": 37,
     "metadata": {},
     "output_type": "execute_result"
    }
   ],
   "source": [
    "str1[6:20]"
   ]
  },
  {
   "cell_type": "code",
   "execution_count": 39,
   "id": "cbf2bec6",
   "metadata": {},
   "outputs": [
    {
     "data": {
      "text/plain": [
       "'e Learning'"
      ]
     },
     "execution_count": 39,
     "metadata": {},
     "output_type": "execute_result"
    }
   ],
   "source": [
    "str1[6:16]"
   ]
  },
  {
   "cell_type": "code",
   "execution_count": 40,
   "id": "9e07adef",
   "metadata": {},
   "outputs": [
    {
     "ename": "IndexError",
     "evalue": "string index out of range",
     "output_type": "error",
     "traceback": [
      "\u001b[1;31m---------------------------------------------------------------------------\u001b[0m",
      "\u001b[1;31mIndexError\u001b[0m                                Traceback (most recent call last)",
      "\u001b[1;32m<ipython-input-40-29972735e150>\u001b[0m in \u001b[0;36m<module>\u001b[1;34m\u001b[0m\n\u001b[1;32m----> 1\u001b[1;33m \u001b[0mstr1\u001b[0m\u001b[1;33m[\u001b[0m\u001b[1;36m16\u001b[0m\u001b[1;33m]\u001b[0m\u001b[1;33m\u001b[0m\u001b[1;33m\u001b[0m\u001b[0m\n\u001b[0m",
      "\u001b[1;31mIndexError\u001b[0m: string index out of range"
     ]
    }
   ],
   "source": [
    "str1[16]"
   ]
  },
  {
   "cell_type": "code",
   "execution_count": 41,
   "id": "16fcf895",
   "metadata": {},
   "outputs": [
    {
     "data": {
      "text/plain": [
       "'Machine Learning'"
      ]
     },
     "execution_count": 41,
     "metadata": {},
     "output_type": "execute_result"
    }
   ],
   "source": [
    "str1[:]"
   ]
  },
  {
   "cell_type": "code",
   "execution_count": 42,
   "id": "8c15238d",
   "metadata": {},
   "outputs": [
    {
     "data": {
      "text/plain": [
       "''"
      ]
     },
     "execution_count": 42,
     "metadata": {},
     "output_type": "execute_result"
    }
   ],
   "source": [
    "str2 = 'Machine Learning'\n",
    "str2[6:3]"
   ]
  },
  {
   "cell_type": "code",
   "execution_count": 47,
   "id": "49e6e910",
   "metadata": {},
   "outputs": [
    {
     "name": "stdout",
     "output_type": "stream",
     "text": [
      "Length of string is: 27\n"
     ]
    },
    {
     "data": {
      "text/plain": [
       "'ing'"
      ]
     },
     "execution_count": 47,
     "metadata": {},
     "output_type": "execute_result"
    }
   ],
   "source": [
    "string = 'Python and Machine Learning'\n",
    "\n",
    "print('Length of string is:', len(string))\n",
    "\n",
    "string[20:25]  #20,21,22,23,24\n",
    "string[24:27]  # 24,25,26\n",
    "string[24:28]"
   ]
  },
  {
   "cell_type": "code",
   "execution_count": 46,
   "id": "3cceff90",
   "metadata": {},
   "outputs": [
    {
     "data": {
      "text/plain": [
       "'g'"
      ]
     },
     "execution_count": 46,
     "metadata": {},
     "output_type": "execute_result"
    }
   ],
   "source": [
    "string[26]"
   ]
  },
  {
   "cell_type": "code",
   "execution_count": 48,
   "id": "8e8d2c2c",
   "metadata": {},
   "outputs": [
    {
     "data": {
      "text/plain": [
       "'Python and'"
      ]
     },
     "execution_count": 48,
     "metadata": {},
     "output_type": "execute_result"
    }
   ],
   "source": [
    "string[:10]"
   ]
  },
  {
   "cell_type": "code",
   "execution_count": 49,
   "id": "8412499f",
   "metadata": {},
   "outputs": [
    {
     "data": {
      "text/plain": [
       "' Machine Learning'"
      ]
     },
     "execution_count": 49,
     "metadata": {},
     "output_type": "execute_result"
    }
   ],
   "source": [
    "string[10:]"
   ]
  },
  {
   "cell_type": "code",
   "execution_count": 50,
   "id": "caa499ff",
   "metadata": {},
   "outputs": [
    {
     "data": {
      "text/plain": [
       "'Python and Machine Learning'"
      ]
     },
     "execution_count": 50,
     "metadata": {},
     "output_type": "execute_result"
    }
   ],
   "source": [
    "string[:]"
   ]
  },
  {
   "cell_type": "code",
   "execution_count": 51,
   "id": "dad22dad",
   "metadata": {},
   "outputs": [
    {
     "data": {
      "text/plain": [
       "'Python and Machine Learning'"
      ]
     },
     "execution_count": 51,
     "metadata": {},
     "output_type": "execute_result"
    }
   ],
   "source": [
    "string"
   ]
  },
  {
   "cell_type": "code",
   "execution_count": null,
   "id": "c7c87866",
   "metadata": {},
   "outputs": [],
   "source": []
  },
  {
   "cell_type": "code",
   "execution_count": null,
   "id": "5cab6b36",
   "metadata": {},
   "outputs": [],
   "source": []
  },
  {
   "cell_type": "code",
   "execution_count": null,
   "id": "9487a765",
   "metadata": {},
   "outputs": [],
   "source": []
  },
  {
   "cell_type": "code",
   "execution_count": null,
   "id": "b5b357ea",
   "metadata": {},
   "outputs": [],
   "source": []
  },
  {
   "cell_type": "code",
   "execution_count": null,
   "id": "47602611",
   "metadata": {},
   "outputs": [],
   "source": []
  },
  {
   "cell_type": "code",
   "execution_count": null,
   "id": "2801ec14",
   "metadata": {},
   "outputs": [],
   "source": []
  },
  {
   "cell_type": "code",
   "execution_count": null,
   "id": "d426a10a",
   "metadata": {},
   "outputs": [],
   "source": []
  },
  {
   "cell_type": "code",
   "execution_count": null,
   "id": "bcdcba2e",
   "metadata": {},
   "outputs": [],
   "source": []
  },
  {
   "cell_type": "code",
   "execution_count": null,
   "id": "df8b6fa5",
   "metadata": {},
   "outputs": [],
   "source": []
  },
  {
   "cell_type": "code",
   "execution_count": null,
   "id": "54ccee9a",
   "metadata": {},
   "outputs": [],
   "source": []
  },
  {
   "cell_type": "code",
   "execution_count": null,
   "id": "bc2328ba",
   "metadata": {},
   "outputs": [],
   "source": []
  }
 ],
 "metadata": {
  "kernelspec": {
   "display_name": "Python 3",
   "language": "python",
   "name": "python3"
  },
  "language_info": {
   "codemirror_mode": {
    "name": "ipython",
    "version": 3
   },
   "file_extension": ".py",
   "mimetype": "text/x-python",
   "name": "python",
   "nbconvert_exporter": "python",
   "pygments_lexer": "ipython3",
   "version": "3.8.8"
  }
 },
 "nbformat": 4,
 "nbformat_minor": 5
}
