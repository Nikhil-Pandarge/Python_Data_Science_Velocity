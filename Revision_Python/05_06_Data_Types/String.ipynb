{
 "cells": [
  {
   "cell_type": "markdown",
   "id": "dc5dbc40",
   "metadata": {},
   "source": [
    "## String"
   ]
  },
  {
   "cell_type": "code",
   "execution_count": 2,
   "id": "513da01d",
   "metadata": {},
   "outputs": [],
   "source": [
    "String is a collection of characters surrounded by qoutes, single or double qoutes, Triple qoutes"
   ]
  },
  {
   "cell_type": "code",
   "execution_count": null,
   "id": "5a2aaf44",
   "metadata": {},
   "outputs": [],
   "source": [
    "'hi' >> single qoutes\n",
    "\"hi\" >> double qoutes\n",
    "'''hi''' >> triple qoutes\n",
    "\"\"\"hi\"\"\" >>"
   ]
  },
  {
   "cell_type": "code",
   "execution_count": null,
   "id": "8265c9b2",
   "metadata": {},
   "outputs": [],
   "source": [
    "''hi''"
   ]
  },
  {
   "cell_type": "code",
   "execution_count": 3,
   "id": "fed8f61c",
   "metadata": {},
   "outputs": [
    {
     "name": "stdout",
     "output_type": "stream",
     "text": [
      "String is a collection of characters surrounded by qoutes\n",
      ", single or double qoutes, Triple qoutes\n"
     ]
    }
   ],
   "source": [
    "a = '''String is a collection of characters surrounded by qoutes\n",
    ", single or double qoutes, Triple qoutes'''\n",
    "print(a)"
   ]
  },
  {
   "cell_type": "code",
   "execution_count": 4,
   "id": "4f575023",
   "metadata": {},
   "outputs": [
    {
     "name": "stdout",
     "output_type": "stream",
     "text": [
      "Hello World\n"
     ]
    }
   ],
   "source": [
    "'''String is a collection of characters surrounded by qoutes\n",
    ", single or double qoutes, Triple qoutes'''\n",
    "\n",
    "\n",
    "print('Hello World')"
   ]
  },
  {
   "cell_type": "code",
   "execution_count": 5,
   "id": "124f48ce",
   "metadata": {},
   "outputs": [
    {
     "name": "stdout",
     "output_type": "stream",
     "text": [
      "Hello World\n"
     ]
    },
    {
     "data": {
      "text/plain": [
       "'String is a collection of characters surrounded by qoutes\\n, single or double qoutes, Triple qoutes'"
      ]
     },
     "execution_count": 5,
     "metadata": {},
     "output_type": "execute_result"
    }
   ],
   "source": [
    " print('Hello World')\n",
    "'''String is a collection of characters surrounded by qoutes\n",
    ", single or double qoutes, Triple qoutes'''\n",
    "\n",
    "\n"
   ]
  },
  {
   "cell_type": "code",
   "execution_count": 6,
   "id": "a6dda8f1",
   "metadata": {},
   "outputs": [
    {
     "data": {
      "text/plain": [
       "'Python and Data Science'"
      ]
     },
     "execution_count": 6,
     "metadata": {},
     "output_type": "execute_result"
    }
   ],
   "source": [
    "s1 = 'Python and Data Science'\n",
    "s1"
   ]
  },
  {
   "cell_type": "code",
   "execution_count": 7,
   "id": "d74b6cb5",
   "metadata": {},
   "outputs": [
    {
     "ename": "SyntaxError",
     "evalue": "EOL while scanning string literal (<ipython-input-7-0006be55d0d0>, line 1)",
     "output_type": "error",
     "traceback": [
      "\u001b[1;36m  File \u001b[1;32m\"<ipython-input-7-0006be55d0d0>\"\u001b[1;36m, line \u001b[1;32m1\u001b[0m\n\u001b[1;33m    s1 = 'Python and Data Science\u001b[0m\n\u001b[1;37m                                 ^\u001b[0m\n\u001b[1;31mSyntaxError\u001b[0m\u001b[1;31m:\u001b[0m EOL while scanning string literal\n"
     ]
    }
   ],
   "source": [
    "s1 = 'Python and Data Science\n",
    "s1"
   ]
  },
  {
   "cell_type": "code",
   "execution_count": 8,
   "id": "1ed700eb",
   "metadata": {},
   "outputs": [
    {
     "data": {
      "text/plain": [
       "'Python and Data Science'"
      ]
     },
     "execution_count": 8,
     "metadata": {},
     "output_type": "execute_result"
    }
   ],
   "source": [
    "s1 = \"Python and Data Science\"\n",
    "s1"
   ]
  },
  {
   "cell_type": "code",
   "execution_count": 9,
   "id": "b47c4097",
   "metadata": {},
   "outputs": [
    {
     "ename": "SyntaxError",
     "evalue": "invalid syntax (<ipython-input-9-4f2cf6f74b7d>, line 1)",
     "output_type": "error",
     "traceback": [
      "\u001b[1;36m  File \u001b[1;32m\"<ipython-input-9-4f2cf6f74b7d>\"\u001b[1;36m, line \u001b[1;32m1\u001b[0m\n\u001b[1;33m    s1 = ''Python and Data Science''\u001b[0m\n\u001b[1;37m           ^\u001b[0m\n\u001b[1;31mSyntaxError\u001b[0m\u001b[1;31m:\u001b[0m invalid syntax\n"
     ]
    }
   ],
   "source": [
    "s1 = ''Python and Data Science''\n",
    "s1"
   ]
  },
  {
   "cell_type": "code",
   "execution_count": 10,
   "id": "2e274562",
   "metadata": {},
   "outputs": [
    {
     "data": {
      "text/plain": [
       "'Python and Data Science'"
      ]
     },
     "execution_count": 10,
     "metadata": {},
     "output_type": "execute_result"
    }
   ],
   "source": [
    "s1 = '''Python and Data Science'''\n",
    "s1"
   ]
  },
  {
   "cell_type": "code",
   "execution_count": 11,
   "id": "9f7b36f4",
   "metadata": {},
   "outputs": [
    {
     "ename": "SyntaxError",
     "evalue": "EOL while scanning string literal (<ipython-input-11-71addbf1358c>, line 1)",
     "output_type": "error",
     "traceback": [
      "\u001b[1;36m  File \u001b[1;32m\"<ipython-input-11-71addbf1358c>\"\u001b[1;36m, line \u001b[1;32m1\u001b[0m\n\u001b[1;33m    s1 = 'Python and\u001b[0m\n\u001b[1;37m                     ^\u001b[0m\n\u001b[1;31mSyntaxError\u001b[0m\u001b[1;31m:\u001b[0m EOL while scanning string literal\n"
     ]
    }
   ],
   "source": [
    "s1 = 'Python and \n",
    "Data Science'\n",
    "s1"
   ]
  },
  {
   "cell_type": "code",
   "execution_count": 12,
   "id": "690e2864",
   "metadata": {},
   "outputs": [
    {
     "data": {
      "text/plain": [
       "'Python and \\nData Science'"
      ]
     },
     "execution_count": 12,
     "metadata": {},
     "output_type": "execute_result"
    }
   ],
   "source": [
    "s1 = '''Python and \n",
    "Data Science'''\n",
    "s1"
   ]
  },
  {
   "cell_type": "code",
   "execution_count": 13,
   "id": "79d62d8f",
   "metadata": {},
   "outputs": [
    {
     "name": "stdout",
     "output_type": "stream",
     "text": [
      "Python and \n",
      "Data Science\n"
     ]
    }
   ],
   "source": [
    "s1 = '''Python and \n",
    "Data Science'''\n",
    "print(s1)"
   ]
  },
  {
   "cell_type": "code",
   "execution_count": 14,
   "id": "d3812935",
   "metadata": {},
   "outputs": [
    {
     "ename": "SyntaxError",
     "evalue": "invalid syntax (<ipython-input-14-521763a72f15>, line 1)",
     "output_type": "error",
     "traceback": [
      "\u001b[1;36m  File \u001b[1;32m\"<ipython-input-14-521763a72f15>\"\u001b[1;36m, line \u001b[1;32m1\u001b[0m\n\u001b[1;33m    str1 = 'python's class'\u001b[0m\n\u001b[1;37m                   ^\u001b[0m\n\u001b[1;31mSyntaxError\u001b[0m\u001b[1;31m:\u001b[0m invalid syntax\n"
     ]
    }
   ],
   "source": [
    "str1 = 'python's class'\n",
    "str1"
   ]
  },
  {
   "cell_type": "code",
   "execution_count": 15,
   "id": "aa7c19b5",
   "metadata": {},
   "outputs": [
    {
     "data": {
      "text/plain": [
       "'python\"s class'"
      ]
     },
     "execution_count": 15,
     "metadata": {},
     "output_type": "execute_result"
    }
   ],
   "source": [
    "str1 = 'python\"s class'\n",
    "str1"
   ]
  },
  {
   "cell_type": "code",
   "execution_count": 16,
   "id": "0206a949",
   "metadata": {},
   "outputs": [
    {
     "data": {
      "text/plain": [
       "\"python's class\""
      ]
     },
     "execution_count": 16,
     "metadata": {},
     "output_type": "execute_result"
    }
   ],
   "source": [
    "str1 = \"python's class\"\n",
    "str1"
   ]
  },
  {
   "cell_type": "code",
   "execution_count": 18,
   "id": "4aa0baff",
   "metadata": {},
   "outputs": [
    {
     "data": {
      "text/plain": [
       "'We are learing \"Python\" and Machine Learning'"
      ]
     },
     "execution_count": 18,
     "metadata": {},
     "output_type": "execute_result"
    }
   ],
   "source": [
    "str1 = 'We are learing \"Python\" and Machine Learning'\n",
    "str1"
   ]
  },
  {
   "cell_type": "code",
   "execution_count": 19,
   "id": "70b7753b",
   "metadata": {},
   "outputs": [
    {
     "data": {
      "text/plain": [
       "'We are learing \"Python\" and \\nMachine Learning'"
      ]
     },
     "execution_count": 19,
     "metadata": {},
     "output_type": "execute_result"
    }
   ],
   "source": [
    "str1 = '''We are learing \"Python\" and \n",
    "Machine Learning'''\n",
    "str1"
   ]
  },
  {
   "cell_type": "code",
   "execution_count": 20,
   "id": "93e54222",
   "metadata": {},
   "outputs": [
    {
     "data": {
      "text/plain": [
       "\"We are learing 'Python' and \\nMachine Learning\""
      ]
     },
     "execution_count": 20,
     "metadata": {},
     "output_type": "execute_result"
    }
   ],
   "source": [
    "str1 = '''We are learing 'Python' and \n",
    "Machine Learning'''\n",
    "str1"
   ]
  },
  {
   "cell_type": "code",
   "execution_count": 21,
   "id": "097b610a",
   "metadata": {},
   "outputs": [
    {
     "name": "stdout",
     "output_type": "stream",
     "text": [
      "We are learing 'Python' and \n",
      "Machine Learning\n"
     ]
    }
   ],
   "source": [
    "print(str1)"
   ]
  },
  {
   "cell_type": "markdown",
   "id": "d1cab1da",
   "metadata": {},
   "source": [
    "## Escape char"
   ]
  },
  {
   "cell_type": "code",
   "execution_count": 22,
   "id": "589b78b3",
   "metadata": {},
   "outputs": [
    {
     "ename": "SyntaxError",
     "evalue": "invalid syntax (<ipython-input-22-007ac35d6a88>, line 1)",
     "output_type": "error",
     "traceback": [
      "\u001b[1;36m  File \u001b[1;32m\"<ipython-input-22-007ac35d6a88>\"\u001b[1;36m, line \u001b[1;32m1\u001b[0m\n\u001b[1;33m    str1 = 'We are learing 'Python' and Machine Learning'\u001b[0m\n\u001b[1;37m                            ^\u001b[0m\n\u001b[1;31mSyntaxError\u001b[0m\u001b[1;31m:\u001b[0m invalid syntax\n"
     ]
    }
   ],
   "source": [
    "str1 = 'We are learing 'Python' and Machine Learning'\n",
    "str1"
   ]
  },
  {
   "cell_type": "code",
   "execution_count": 23,
   "id": "a0ea3965",
   "metadata": {},
   "outputs": [
    {
     "data": {
      "text/plain": [
       "\"We are learing 'Python' and Machine Learning\""
      ]
     },
     "execution_count": 23,
     "metadata": {},
     "output_type": "execute_result"
    }
   ],
   "source": [
    "str1 = 'We are learing \\'Python\\' and Machine Learning'\n",
    "str1"
   ]
  },
  {
   "cell_type": "code",
   "execution_count": 24,
   "id": "a32d4feb",
   "metadata": {},
   "outputs": [
    {
     "name": "stdout",
     "output_type": "stream",
     "text": [
      "Vel'oc'ity\n"
     ]
    }
   ],
   "source": [
    "a = 'Vel\\'oc\\'ity'\n",
    "print(a)"
   ]
  },
  {
   "cell_type": "code",
   "execution_count": 25,
   "id": "b3d27f01",
   "metadata": {},
   "outputs": [
    {
     "name": "stdout",
     "output_type": "stream",
     "text": [
      "Python's class\n"
     ]
    }
   ],
   "source": [
    "a = 'Python\\'s class'\n",
    "print(a)"
   ]
  },
  {
   "cell_type": "code",
   "execution_count": 26,
   "id": "399c3686",
   "metadata": {},
   "outputs": [
    {
     "name": "stdout",
     "output_type": "stream",
     "text": [
      "Python\"s class\n"
     ]
    }
   ],
   "source": [
    "a = \"Python\\\"s class\"\n",
    "print(a)"
   ]
  },
  {
   "cell_type": "markdown",
   "id": "71a8aa32",
   "metadata": {},
   "source": [
    "### \\n >> new line"
   ]
  },
  {
   "cell_type": "code",
   "execution_count": 27,
   "id": "eac51e28",
   "metadata": {},
   "outputs": [
    {
     "name": "stdout",
     "output_type": "stream",
     "text": [
      "Machine learning is a study of computer alogrithms\n"
     ]
    }
   ],
   "source": [
    "machine_learning = 'Machine learning is a study of computer alogrithms'\n",
    "print(machine_learning)"
   ]
  },
  {
   "cell_type": "code",
   "execution_count": 28,
   "id": "aaa011b5",
   "metadata": {},
   "outputs": [
    {
     "name": "stdout",
     "output_type": "stream",
     "text": [
      "Machine learning is a \n",
      "study of computer alogrithms\n"
     ]
    }
   ],
   "source": [
    "machine_learning = 'Machine learning is a \\nstudy of computer alogrithms'\n",
    "print(machine_learning)"
   ]
  },
  {
   "cell_type": "code",
   "execution_count": 29,
   "id": "8f2822e0",
   "metadata": {},
   "outputs": [
    {
     "name": "stdout",
     "output_type": "stream",
     "text": [
      "Machine learning is a \n",
      "study of \n",
      "computer alogrithms\n"
     ]
    }
   ],
   "source": [
    "machine_learning = 'Machine learning is a \\nstudy of \\ncomputer alogrithms'\n",
    "print(machine_learning)"
   ]
  },
  {
   "cell_type": "code",
   "execution_count": 30,
   "id": "aa7635ec",
   "metadata": {},
   "outputs": [
    {
     "data": {
      "text/plain": [
       "'Machine learning is a \\nstudy of \\ncomputer alogrithms'"
      ]
     },
     "execution_count": 30,
     "metadata": {},
     "output_type": "execute_result"
    }
   ],
   "source": [
    "machine_learning"
   ]
  },
  {
   "cell_type": "markdown",
   "id": "e36c1f53",
   "metadata": {},
   "source": [
    "## \\ >> backslash"
   ]
  },
  {
   "cell_type": "code",
   "execution_count": null,
   "id": "a8a1e93b",
   "metadata": {},
   "outputs": [],
   "source": [
    "# when we are working with path   G:\\Velocity 30 Apr 22\\05_06_Data_Types"
   ]
  },
  {
   "cell_type": "code",
   "execution_count": 31,
   "id": "db00b8e9",
   "metadata": {},
   "outputs": [
    {
     "ename": "SyntaxError",
     "evalue": "invalid syntax (<ipython-input-31-46f0315f4c00>, line 1)",
     "output_type": "error",
     "traceback": [
      "\u001b[1;36m  File \u001b[1;32m\"<ipython-input-31-46f0315f4c00>\"\u001b[1;36m, line \u001b[1;32m1\u001b[0m\n\u001b[1;33m    str1 = G:\\Velocity 30 Apr 22\\05_06_Data_Types\u001b[0m\n\u001b[1;37m            ^\u001b[0m\n\u001b[1;31mSyntaxError\u001b[0m\u001b[1;31m:\u001b[0m invalid syntax\n"
     ]
    }
   ],
   "source": [
    "str1 = G:\\Velocity 30 Apr 22\\05_06_Data_Types\n",
    "str1"
   ]
  },
  {
   "cell_type": "code",
   "execution_count": 33,
   "id": "b0cb5528",
   "metadata": {},
   "outputs": [
    {
     "name": "stdout",
     "output_type": "stream",
     "text": [
      "G:\\Velocity 30 Apr 22\u0005_06_Data_Types\n"
     ]
    }
   ],
   "source": [
    "str1 = 'G:\\Velocity 30 Apr 22\\05_06_Data_Types'\n",
    "print(str1)"
   ]
  },
  {
   "cell_type": "code",
   "execution_count": 34,
   "id": "246fc7d5",
   "metadata": {},
   "outputs": [
    {
     "name": "stdout",
     "output_type": "stream",
     "text": [
      "G:\\Velocity 30 Apr 22\\05_06_Data_Types\n"
     ]
    }
   ],
   "source": [
    "# windows OS\n",
    "str1 = 'G:\\\\Velocity 30 Apr 22\\\\05_06_Data_Types'\n",
    "print(str1)"
   ]
  },
  {
   "cell_type": "code",
   "execution_count": 35,
   "id": "daf14129",
   "metadata": {},
   "outputs": [
    {
     "name": "stdout",
     "output_type": "stream",
     "text": [
      "G:/Velocity 30 Apr 22/05_06_Data_Types\n"
     ]
    }
   ],
   "source": [
    "# Linux >> UButu\n",
    "str1 = 'G:/Velocity 30 Apr 22/05_06_Data_Types'\n",
    "print(str1)"
   ]
  },
  {
   "cell_type": "code",
   "execution_count": 37,
   "id": "1db8ef48",
   "metadata": {},
   "outputs": [
    {
     "name": "stdout",
     "output_type": "stream",
     "text": [
      "G:\\Velocity 30 Apr 22\\05_06_Data_Types\n"
     ]
    }
   ],
   "source": [
    "# raw string >> paths/directory\n",
    "str1 = r'G:\\Velocity 30 Apr 22\\05_06_Data_Types'\n",
    "print(str1)"
   ]
  },
  {
   "cell_type": "code",
   "execution_count": 38,
   "id": "8e4f33c3",
   "metadata": {},
   "outputs": [
    {
     "name": "stdout",
     "output_type": "stream",
     "text": [
      "G:\\Velocity 30 Apr 22\u0005_06_Data_Types\\Type Casting.ipynb\n"
     ]
    }
   ],
   "source": [
    "file_path ='G:\\Velocity 30 Apr 22\\05_06_Data_Types\\Type Casting.ipynb'\n",
    "print(file_path)"
   ]
  },
  {
   "cell_type": "code",
   "execution_count": 39,
   "id": "5223e1da",
   "metadata": {},
   "outputs": [
    {
     "name": "stdout",
     "output_type": "stream",
     "text": [
      "G:\\Velocity 30 Apr 22\\05_06_Data_Types\\Type Casting.ipynb\n"
     ]
    }
   ],
   "source": [
    "file_path ='G:\\\\Velocity 30 Apr 22\\\\05_06_Data_Types\\\\Type Casting.ipynb'\n",
    "print(file_path)"
   ]
  },
  {
   "cell_type": "code",
   "execution_count": 40,
   "id": "ccbe57ce",
   "metadata": {},
   "outputs": [
    {
     "name": "stdout",
     "output_type": "stream",
     "text": [
      "G:\\Velocity 30 Apr 22\\05_06_Data_Types\\Type Casting.ipynb\n"
     ]
    }
   ],
   "source": [
    "file_path =r'G:\\Velocity 30 Apr 22\\05_06_Data_Types\\Type Casting.ipynb'\n",
    "print(file_path)"
   ]
  },
  {
   "cell_type": "code",
   "execution_count": 41,
   "id": "c3f84d93",
   "metadata": {},
   "outputs": [
    {
     "data": {
      "text/plain": [
       "str"
      ]
     },
     "execution_count": 41,
     "metadata": {},
     "output_type": "execute_result"
    }
   ],
   "source": [
    "type(file_path)"
   ]
  },
  {
   "cell_type": "markdown",
   "id": "b1b0c764",
   "metadata": {},
   "source": [
    "## \\t >> tab"
   ]
  },
  {
   "cell_type": "code",
   "execution_count": 42,
   "id": "545e0f1c",
   "metadata": {},
   "outputs": [
    {
     "name": "stdout",
     "output_type": "stream",
     "text": [
      "pythonclass\n"
     ]
    }
   ],
   "source": [
    "string = 'pythonclass'\n",
    "print(string)"
   ]
  },
  {
   "cell_type": "code",
   "execution_count": 43,
   "id": "38341649",
   "metadata": {},
   "outputs": [
    {
     "name": "stdout",
     "output_type": "stream",
     "text": [
      "python\tclass\n"
     ]
    }
   ],
   "source": [
    "string = 'python\\tclass'\n",
    "print(string)"
   ]
  },
  {
   "cell_type": "code",
   "execution_count": 44,
   "id": "1b903b1e",
   "metadata": {},
   "outputs": [
    {
     "name": "stdout",
     "output_type": "stream",
     "text": [
      "python\tand\t machine\t learing\tclass\n"
     ]
    }
   ],
   "source": [
    "string = 'python\\tand\\t machine\\t learing\\tclass'\n",
    "print(string)"
   ]
  },
  {
   "cell_type": "code",
   "execution_count": 45,
   "id": "0db35800",
   "metadata": {},
   "outputs": [
    {
     "name": "stdout",
     "output_type": "stream",
     "text": [
      "python\n",
      "\tand\n",
      "\t machine\n",
      "\t learing\n",
      "\tclass\n"
     ]
    }
   ],
   "source": [
    "string = '''python\n",
    "\\tand\n",
    "\\t machine\n",
    "\\t learing\n",
    "\\tclass'''\n",
    "print(string)"
   ]
  },
  {
   "cell_type": "code",
   "execution_count": null,
   "id": "ff7091f8",
   "metadata": {},
   "outputs": [],
   "source": [
    "if a >b:\n",
    "    hi \n",
    "    bye"
   ]
  },
  {
   "cell_type": "code",
   "execution_count": 46,
   "id": "5c6000d0",
   "metadata": {},
   "outputs": [
    {
     "name": "stdout",
     "output_type": "stream",
     "text": [
      "python\n",
      "\tand\n",
      "\tmachine\n",
      "\tlearing\n",
      "\tclass\n"
     ]
    }
   ],
   "source": [
    "string = '''python\n",
    "\\tand\n",
    "\\tmachine\n",
    "\\tlearing\n",
    "\\tclass'''\n",
    "print(string)"
   ]
  },
  {
   "cell_type": "code",
   "execution_count": null,
   "id": "57bb387d",
   "metadata": {},
   "outputs": [],
   "source": []
  },
  {
   "cell_type": "code",
   "execution_count": null,
   "id": "45269d28",
   "metadata": {},
   "outputs": [],
   "source": []
  },
  {
   "cell_type": "code",
   "execution_count": null,
   "id": "2874afa4",
   "metadata": {},
   "outputs": [],
   "source": []
  },
  {
   "cell_type": "code",
   "execution_count": null,
   "id": "02e7f813",
   "metadata": {},
   "outputs": [],
   "source": []
  },
  {
   "cell_type": "code",
   "execution_count": null,
   "id": "74333848",
   "metadata": {},
   "outputs": [],
   "source": []
  },
  {
   "cell_type": "code",
   "execution_count": null,
   "id": "e777b1db",
   "metadata": {},
   "outputs": [],
   "source": []
  },
  {
   "cell_type": "code",
   "execution_count": null,
   "id": "0645c2aa",
   "metadata": {},
   "outputs": [],
   "source": []
  },
  {
   "cell_type": "code",
   "execution_count": null,
   "id": "6bf89ae7",
   "metadata": {},
   "outputs": [],
   "source": []
  },
  {
   "cell_type": "code",
   "execution_count": null,
   "id": "44ed9b9a",
   "metadata": {},
   "outputs": [],
   "source": []
  },
  {
   "cell_type": "code",
   "execution_count": null,
   "id": "632f73e2",
   "metadata": {},
   "outputs": [],
   "source": []
  },
  {
   "cell_type": "code",
   "execution_count": null,
   "id": "4ce6a8f7",
   "metadata": {},
   "outputs": [],
   "source": []
  },
  {
   "cell_type": "code",
   "execution_count": null,
   "id": "66497f8d",
   "metadata": {},
   "outputs": [],
   "source": []
  },
  {
   "cell_type": "code",
   "execution_count": null,
   "id": "14f29937",
   "metadata": {},
   "outputs": [],
   "source": []
  },
  {
   "cell_type": "code",
   "execution_count": null,
   "id": "7859cac3",
   "metadata": {},
   "outputs": [],
   "source": []
  },
  {
   "cell_type": "code",
   "execution_count": null,
   "id": "466ca025",
   "metadata": {},
   "outputs": [],
   "source": []
  },
  {
   "cell_type": "code",
   "execution_count": null,
   "id": "5e8f2512",
   "metadata": {},
   "outputs": [],
   "source": []
  },
  {
   "cell_type": "code",
   "execution_count": null,
   "id": "c3cc5ced",
   "metadata": {},
   "outputs": [],
   "source": []
  },
  {
   "cell_type": "code",
   "execution_count": null,
   "id": "8d8c7af8",
   "metadata": {},
   "outputs": [],
   "source": []
  },
  {
   "cell_type": "code",
   "execution_count": null,
   "id": "12168312",
   "metadata": {},
   "outputs": [],
   "source": []
  },
  {
   "cell_type": "code",
   "execution_count": null,
   "id": "146bc103",
   "metadata": {},
   "outputs": [],
   "source": []
  },
  {
   "cell_type": "code",
   "execution_count": null,
   "id": "ec9c17af",
   "metadata": {},
   "outputs": [],
   "source": []
  },
  {
   "cell_type": "code",
   "execution_count": null,
   "id": "cfbbf2b5",
   "metadata": {},
   "outputs": [],
   "source": []
  },
  {
   "cell_type": "code",
   "execution_count": null,
   "id": "7e737cf9",
   "metadata": {},
   "outputs": [],
   "source": []
  }
 ],
 "metadata": {
  "kernelspec": {
   "display_name": "Python 3",
   "language": "python",
   "name": "python3"
  },
  "language_info": {
   "codemirror_mode": {
    "name": "ipython",
    "version": 3
   },
   "file_extension": ".py",
   "mimetype": "text/x-python",
   "name": "python",
   "nbconvert_exporter": "python",
   "pygments_lexer": "ipython3",
   "version": "3.8.8"
  }
 },
 "nbformat": 4,
 "nbformat_minor": 5
}
