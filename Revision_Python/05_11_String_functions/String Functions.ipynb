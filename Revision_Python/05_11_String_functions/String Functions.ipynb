{
 "cells": [
  {
   "cell_type": "markdown",
   "id": "1dd5bbdd",
   "metadata": {},
   "source": [
    "# String Functions "
   ]
  },
  {
   "cell_type": "code",
   "execution_count": 1,
   "id": "089f8cd7",
   "metadata": {},
   "outputs": [
    {
     "name": "stdout",
     "output_type": "stream",
     "text": [
      "D t  sc  nc   s An Int rd sc pl n ry f  ld th t  s s sc  nt f c m th ds,\n",
      "pr c ss s,  lg r thms  nd syst ms t  Extr ct kn wl dg   nd  ns ghts fr m n  sy,\n",
      "str ct r d  nd  nstr ct r d d t ,  nd  pply kn wl dg   nd Act  n bl   ns ghts fr m\n",
      "d t   cr ss A br  d r ng   f  ppl c t  n d m  ns.\n"
     ]
    }
   ],
   "source": [
    "str1 = '''Data science is An Interdisciplinary field that uses scientific methods,\n",
    "processes, algorithms and systems to Extract knowledge and insights from noisy,\n",
    "structured and unstructured data, and apply knowledge and Actionable insights from\n",
    "data across A broad range of application domains.'''\n",
    "# a,e,i,o,u\n",
    "str2=str1.replace('a',' ').replace('e',' ').replace('i',' ').replace('o',' ').replace('u',' ')\n",
    "print(str2)"
   ]
  },
  {
   "cell_type": "code",
   "execution_count": 2,
   "id": "e3e3286d",
   "metadata": {},
   "outputs": [
    {
     "name": "stdout",
     "output_type": "stream",
     "text": [
      "DataaeiouscienceaeiouisaeiouAnaeiouInterdisciplinaryaeioufieldaeiouthataeiouusesaeiouscientificaeioumethods,\n",
      "processes,aeioualgorithmsaeiouandaeiousystemsaeioutoaeiouExtractaeiouknowledgeaeiouandaeiouinsightsaeioufromaeiounoisy,\n",
      "structuredaeiouandaeiouunstructuredaeioudata,aeiouandaeiouapplyaeiouknowledgeaeiouandaeiouActionableaeiouinsightsaeioufrom\n",
      "dataaeiouacrossaeiouAaeioubroadaeiourangeaeiouofaeiouapplicationaeioudomains.\n"
     ]
    }
   ],
   "source": [
    "str2 = str1.replace(' ', 'aeiou')\n",
    "print(str2)"
   ]
  },
  {
   "cell_type": "code",
   "execution_count": 3,
   "id": "60e4ba80",
   "metadata": {},
   "outputs": [
    {
     "data": {
      "text/plain": [
       "'Data science is An Interdisciplinary field that ses scientific methods,\\nprocesses, algorithms and systems to Extract knowledge and insights from noisy,\\nstrctred and nstrctred data, and apply knowledge and Actionable insights from\\ndata across A broad range of application domains.'"
      ]
     },
     "execution_count": 3,
     "metadata": {},
     "output_type": "execute_result"
    }
   ],
   "source": [
    "str1 = '''Data science is An Interdisciplinary field that uses scientific methods,\n",
    "processes, algorithms and systems to Extract knowledge and insights from noisy,\n",
    "structured and unstructured data, and apply knowledge and Actionable insights from\n",
    "data across A broad range of application domains.'''\n",
    "str1.replace('a', \"\")\n",
    "str1.replace('e', \"\")\n",
    "str1.replace('i', \"\")\n",
    "str1.replace('o', \"\")\n",
    "str1.replace('u', \"\")"
   ]
  },
  {
   "cell_type": "code",
   "execution_count": 7,
   "id": "f52074d9",
   "metadata": {},
   "outputs": [
    {
     "name": "stdout",
     "output_type": "stream",
     "text": [
      "Data science is An Interdisciplinary field that uses scientific methods,\n",
      "processes, algorithms and systems to Extract knowledge and insights from noisy,\n",
      "structured and unstructured data, and apply knowledge and Actionable insights from\n",
      "data across A broad range of application domains.\n"
     ]
    }
   ],
   "source": [
    "str1 = '''Data science is An Interdisciplinary field that uses scientific methods,\n",
    "processes, algorithms and systems to Extract knowledge and insights from noisy,\n",
    "structured and unstructured data, and apply knowledge and Actionable insights from\n",
    "data across A broad range of application domains.'''\n",
    "x=\"a,e,i,o,u\"\n",
    "str2=str1.replace(\"a,e,i,o,u\",\" \")\n",
    "print(str2)"
   ]
  },
  {
   "cell_type": "code",
   "execution_count": 8,
   "id": "484fd27e",
   "metadata": {},
   "outputs": [
    {
     "data": {
      "text/plain": [
       "'Data science is An Interdisciplinary field that uses scientific methods,\\nprocesses, algorithms and systems to Extract knowledge and insights from noisy,\\nstructured and unstructured data, and apply knowledge and Actionable insights from\\ndata across A broad range of application domains.'"
      ]
     },
     "execution_count": 8,
     "metadata": {},
     "output_type": "execute_result"
    }
   ],
   "source": [
    "str1 = '''Data science is An Interdisciplinary field that uses scientific methods,\n",
    "processes, algorithms and systems to Extract knowledge and insights from noisy,\n",
    "structured and unstructured data, and apply knowledge and Actionable insights from\n",
    "data across A broad range of application domains.'''\n",
    "\n",
    "str2 = str1.replace('a,e,i,o,u', ' ')\n",
    "str2"
   ]
  },
  {
   "cell_type": "code",
   "execution_count": 13,
   "id": "e692d70b",
   "metadata": {},
   "outputs": [
    {
     "data": {
      "text/plain": [
       "'Data science is An Interdisciplinary field that uses scientific methods,\\nprocesses, algorithms and systems to Extract knowledge and insights from noisy,\\nstructured and unstructured data, and apply knowledge and Actionable insights from\\ndata across A broad range of application domains.D t  science is An Interdisciplin ry field th t uses scientific methods,\\nprocesses,  lgorithms  nd systems to Extr ct knowledge  nd insights from noisy,\\nstructured  nd unstructured d t ,  nd  pply knowledge  nd Action ble insights from\\nd t   cross A bro d r nge of  pplic tion dom ins.Data sci nc  is An Int rdisciplinary fi ld that us s sci ntific m thods,\\nproc ss s, algorithms and syst ms to Extract knowl dg  and insights from noisy,\\nstructur d and unstructur d data, and apply knowl dg  and Actionabl  insights from\\ndata across A broad rang  of application domains.Data sc ence  s An Interd sc pl nary f eld that uses sc ent f c methods,\\nprocesses, algor thms and systems to Extract knowledge and  ns ghts from no sy,\\nstructured and unstructured data, and apply knowledge and Act onable  ns ghts from\\ndata across A broad range of appl cat on doma ns.Data science is An Interdisciplinary field that uses scientific meth ds,\\npr cesses, alg rithms and systems t  Extract kn wledge and insights fr m n isy,\\nstructured and unstructured data, and apply kn wledge and Acti nable insights fr m\\ndata acr ss A br ad range  f applicati n d mains.Data science is An Interdisciplinary field that  ses scientific methods,\\nprocesses, algorithms and systems to Extract knowledge and insights from noisy,\\nstr ct red and  nstr ct red data, and apply knowledge and Actionable insights from\\ndata across A broad range of application domains.'"
      ]
     },
     "execution_count": 13,
     "metadata": {},
     "output_type": "execute_result"
    }
   ],
   "source": [
    "str1 = '''Data science is An Interdisciplinary field that uses scientific methods,\n",
    "processes, algorithms and systems to Extract knowledge and insights from noisy,\n",
    "structured and unstructured data, and apply knowledge and Actionable insights from\n",
    "data across A broad range of application domains.'''\n",
    "str2=str1.replace('a',' ')\n",
    "str3=str1.replace('e',' ')\n",
    "str4=str1.replace('i',' ')\n",
    "str5=str1.replace('o',' ')\n",
    "str6=str1.replace('u',' ')\n",
    "str_Final=str1 + str2+ str3+str4+str5+str6\n",
    "str_Final"
   ]
  },
  {
   "cell_type": "code",
   "execution_count": 14,
   "id": "08960d70",
   "metadata": {},
   "outputs": [
    {
     "name": "stdout",
     "output_type": "stream",
     "text": [
      "Data scence s An Interdscplnary feld that uses scentfc methods,\n",
      "processes, algorthms and systems to Extract knowledge and nsghts from nosy,\n",
      "structured and unstructured data, and apply knowledge and Actonable nsghts from\n",
      "data across A broad range of applcaton domans.\n"
     ]
    }
   ],
   "source": [
    "str1 = '''Data science is An Interdisciplinary field that uses scientific methods,\n",
    "processes, algorithms and systems to Extract knowledge and insights from noisy,\n",
    "structured and unstructured data, and apply knowledge and Actionable insights from\n",
    "data across A broad range of application domains.'''\n",
    "\n",
    "v = 'aeiouAEIOU'\n",
    "\n",
    "for i in str1:\n",
    "    if i in v:\n",
    "        str2=str1.replace(i,'')\n",
    "print(str2)"
   ]
  },
  {
   "cell_type": "code",
   "execution_count": 15,
   "id": "0aa301b6",
   "metadata": {},
   "outputs": [
    {
     "name": "stdout",
     "output_type": "stream",
     "text": [
      "D t  science is An Interdisciplin ry field th t uses scientific methods,\n",
      "processes,  lgorithms  nd systems to Extr ct knowledge  nd insights from noisy,\n",
      "structured  nd unstructured d t ,  nd  pply knowledge  nd Action ble insights from\n",
      "d t   cross A bro d r nge of  pplic tion dom ins.\n",
      "D t  science is An Interdisciplin ry field th t uses scientific methods,\n",
      "processes,  lgorithms  nd systems to Extr ct knowledge  nd insights from noisy,\n",
      "structured  nd unstructured d t ,  nd  pply knowledge  nd Action ble insights from\n",
      "d t   cross A bro d r nge of  pplic tion dom ins.\n",
      "Data sc ence  s An Interd sc pl nary f eld that uses sc ent f c methods,\n",
      "processes, algor thms and systems to Extract knowledge and  ns ghts from no sy,\n",
      "structured and unstructured data, and apply knowledge and Act onable  ns ghts from\n",
      "data across A broad range of appl cat on doma ns.\n",
      "Data sci nc  is An Int rdisciplinary fi ld that us s sci ntific m thods,\n",
      "proc ss s, algorithms and syst ms to Extract knowl dg  and insights from noisy,\n",
      "structur d and unstructur d data, and apply knowl dg  and Actionabl  insights from\n",
      "data across A broad rang  of application domains.\n",
      "Data sci nc  is An Int rdisciplinary fi ld that us s sci ntific m thods,\n",
      "proc ss s, algorithms and syst ms to Extract knowl dg  and insights from noisy,\n",
      "structur d and unstructur d data, and apply knowl dg  and Actionabl  insights from\n",
      "data across A broad rang  of application domains.\n",
      "Data sc ence  s An Interd sc pl nary f eld that uses sc ent f c methods,\n",
      "processes, algor thms and systems to Extract knowledge and  ns ghts from no sy,\n",
      "structured and unstructured data, and apply knowledge and Act onable  ns ghts from\n",
      "data across A broad range of appl cat on doma ns.\n",
      "Data science is  n Interdisciplinary field that uses scientific methods,\n",
      "processes, algorithms and systems to Extract knowledge and insights from noisy,\n",
      "structured and unstructured data, and apply knowledge and  ctionable insights from\n",
      "data across   broad range of application domains.\n",
      "Data science is An  nterdisciplinary field that uses scientific methods,\n",
      "processes, algorithms and systems to Extract knowledge and insights from noisy,\n",
      "structured and unstructured data, and apply knowledge and Actionable insights from\n",
      "data across A broad range of application domains.\n",
      "Data sci nc  is An Int rdisciplinary fi ld that us s sci ntific m thods,\n",
      "proc ss s, algorithms and syst ms to Extract knowl dg  and insights from noisy,\n",
      "structur d and unstructur d data, and apply knowl dg  and Actionabl  insights from\n",
      "data across A broad rang  of application domains.\n",
      "Data sc ence  s An Interd sc pl nary f eld that uses sc ent f c methods,\n",
      "processes, algor thms and systems to Extract knowledge and  ns ghts from no sy,\n",
      "structured and unstructured data, and apply knowledge and Act onable  ns ghts from\n",
      "data across A broad range of appl cat on doma ns.\n",
      "Data sc ence  s An Interd sc pl nary f eld that uses sc ent f c methods,\n",
      "processes, algor thms and systems to Extract knowledge and  ns ghts from no sy,\n",
      "structured and unstructured data, and apply knowledge and Act onable  ns ghts from\n",
      "data across A broad range of appl cat on doma ns.\n",
      "Data sc ence  s An Interd sc pl nary f eld that uses sc ent f c methods,\n",
      "processes, algor thms and systems to Extract knowledge and  ns ghts from no sy,\n",
      "structured and unstructured data, and apply knowledge and Act onable  ns ghts from\n",
      "data across A broad range of appl cat on doma ns.\n",
      "D t  science is An Interdisciplin ry field th t uses scientific methods,\n",
      "processes,  lgorithms  nd systems to Extr ct knowledge  nd insights from noisy,\n",
      "structured  nd unstructured d t ,  nd  pply knowledge  nd Action ble insights from\n",
      "d t   cross A bro d r nge of  pplic tion dom ins.\n",
      "Data sc ence  s An Interd sc pl nary f eld that uses sc ent f c methods,\n",
      "processes, algor thms and systems to Extract knowledge and  ns ghts from no sy,\n",
      "structured and unstructured data, and apply knowledge and Act onable  ns ghts from\n",
      "data across A broad range of appl cat on doma ns.\n",
      "Data sci nc  is An Int rdisciplinary fi ld that us s sci ntific m thods,\n",
      "proc ss s, algorithms and syst ms to Extract knowl dg  and insights from noisy,\n",
      "structur d and unstructur d data, and apply knowl dg  and Actionabl  insights from\n",
      "data across A broad rang  of application domains.\n",
      "D t  science is An Interdisciplin ry field th t uses scientific methods,\n",
      "processes,  lgorithms  nd systems to Extr ct knowledge  nd insights from noisy,\n",
      "structured  nd unstructured d t ,  nd  pply knowledge  nd Action ble insights from\n",
      "d t   cross A bro d r nge of  pplic tion dom ins.\n",
      "Data science is An Interdisciplinary field that  ses scientific methods,\n",
      "processes, algorithms and systems to Extract knowledge and insights from noisy,\n",
      "str ct red and  nstr ct red data, and apply knowledge and Actionable insights from\n",
      "data across A broad range of application domains.\n",
      "Data sci nc  is An Int rdisciplinary fi ld that us s sci ntific m thods,\n",
      "proc ss s, algorithms and syst ms to Extract knowl dg  and insights from noisy,\n",
      "structur d and unstructur d data, and apply knowl dg  and Actionabl  insights from\n",
      "data across A broad rang  of application domains.\n",
      "Data sc ence  s An Interd sc pl nary f eld that uses sc ent f c methods,\n",
      "processes, algor thms and systems to Extract knowledge and  ns ghts from no sy,\n",
      "structured and unstructured data, and apply knowledge and Act onable  ns ghts from\n",
      "data across A broad range of appl cat on doma ns.\n",
      "Data sci nc  is An Int rdisciplinary fi ld that us s sci ntific m thods,\n",
      "proc ss s, algorithms and syst ms to Extract knowl dg  and insights from noisy,\n",
      "structur d and unstructur d data, and apply knowl dg  and Actionabl  insights from\n",
      "data across A broad rang  of application domains.\n",
      "Data sc ence  s An Interd sc pl nary f eld that uses sc ent f c methods,\n",
      "processes, algor thms and systems to Extract knowledge and  ns ghts from no sy,\n",
      "structured and unstructured data, and apply knowledge and Act onable  ns ghts from\n",
      "data across A broad range of appl cat on doma ns.\n",
      "Data sc ence  s An Interd sc pl nary f eld that uses sc ent f c methods,\n",
      "processes, algor thms and systems to Extract knowledge and  ns ghts from no sy,\n",
      "structured and unstructured data, and apply knowledge and Act onable  ns ghts from\n",
      "data across A broad range of appl cat on doma ns.\n",
      "Data sci nc  is An Int rdisciplinary fi ld that us s sci ntific m thods,\n",
      "proc ss s, algorithms and syst ms to Extract knowl dg  and insights from noisy,\n",
      "structur d and unstructur d data, and apply knowl dg  and Actionabl  insights from\n",
      "data across A broad rang  of application domains.\n",
      "Data science is An Interdisciplinary field that uses scientific meth ds,\n",
      "pr cesses, alg rithms and systems t  Extract kn wledge and insights fr m n isy,\n",
      "structured and unstructured data, and apply kn wledge and Acti nable insights fr m\n",
      "data acr ss A br ad range  f applicati n d mains.\n",
      "Data science is An Interdisciplinary field that uses scientific meth ds,\n",
      "pr cesses, alg rithms and systems t  Extract kn wledge and insights fr m n isy,\n",
      "structured and unstructured data, and apply kn wledge and Acti nable insights fr m\n",
      "data acr ss A br ad range  f applicati n d mains.\n",
      "Data sci nc  is An Int rdisciplinary fi ld that us s sci ntific m thods,\n",
      "proc ss s, algorithms and syst ms to Extract knowl dg  and insights from noisy,\n",
      "structur d and unstructur d data, and apply knowl dg  and Actionabl  insights from\n",
      "data across A broad rang  of application domains.\n",
      "Data sci nc  is An Int rdisciplinary fi ld that us s sci ntific m thods,\n",
      "proc ss s, algorithms and syst ms to Extract knowl dg  and insights from noisy,\n",
      "structur d and unstructur d data, and apply knowl dg  and Actionabl  insights from\n",
      "data across A broad rang  of application domains.\n",
      "D t  science is An Interdisciplin ry field th t uses scientific methods,\n",
      "processes,  lgorithms  nd systems to Extr ct knowledge  nd insights from noisy,\n",
      "structured  nd unstructured d t ,  nd  pply knowledge  nd Action ble insights from\n",
      "d t   cross A bro d r nge of  pplic tion dom ins.\n",
      "Data science is An Interdisciplinary field that uses scientific meth ds,\n",
      "pr cesses, alg rithms and systems t  Extract kn wledge and insights fr m n isy,\n",
      "structured and unstructured data, and apply kn wledge and Acti nable insights fr m\n",
      "data acr ss A br ad range  f applicati n d mains.\n",
      "Data sc ence  s An Interd sc pl nary f eld that uses sc ent f c methods,\n",
      "processes, algor thms and systems to Extract knowledge and  ns ghts from no sy,\n",
      "structured and unstructured data, and apply knowledge and Act onable  ns ghts from\n",
      "data across A broad range of appl cat on doma ns.\n",
      "D t  science is An Interdisciplin ry field th t uses scientific methods,\n",
      "processes,  lgorithms  nd systems to Extr ct knowledge  nd insights from noisy,\n",
      "structured  nd unstructured d t ,  nd  pply knowledge  nd Action ble insights from\n",
      "d t   cross A bro d r nge of  pplic tion dom ins.\n",
      "Data sci nc  is An Int rdisciplinary fi ld that us s sci ntific m thods,\n",
      "proc ss s, algorithms and syst ms to Extract knowl dg  and insights from noisy,\n",
      "structur d and unstructur d data, and apply knowl dg  and Actionabl  insights from\n",
      "data across A broad rang  of application domains.\n",
      "Data science is An Interdisciplinary field that uses scientific meth ds,\n",
      "pr cesses, alg rithms and systems t  Extract kn wledge and insights fr m n isy,\n",
      "structured and unstructured data, and apply kn wledge and Acti nable insights fr m\n",
      "data acr ss A br ad range  f applicati n d mains.\n",
      "Data science is An Interdisciplinary field that uses scientific methods,\n",
      "processes, algorithms and systems to  xtract knowledge and insights from noisy,\n",
      "structured and unstructured data, and apply knowledge and Actionable insights from\n",
      "data across A broad range of application domains.\n",
      "D t  science is An Interdisciplin ry field th t uses scientific methods,\n",
      "processes,  lgorithms  nd systems to Extr ct knowledge  nd insights from noisy,\n",
      "structured  nd unstructured d t ,  nd  pply knowledge  nd Action ble insights from\n",
      "d t   cross A bro d r nge of  pplic tion dom ins.\n",
      "Data science is An Interdisciplinary field that uses scientific meth ds,\n",
      "pr cesses, alg rithms and systems t  Extract kn wledge and insights fr m n isy,\n",
      "structured and unstructured data, and apply kn wledge and Acti nable insights fr m\n",
      "data acr ss A br ad range  f applicati n d mains.\n",
      "Data sci nc  is An Int rdisciplinary fi ld that us s sci ntific m thods,\n",
      "proc ss s, algorithms and syst ms to Extract knowl dg  and insights from noisy,\n",
      "structur d and unstructur d data, and apply knowl dg  and Actionabl  insights from\n",
      "data across A broad rang  of application domains.\n",
      "Data sci nc  is An Int rdisciplinary fi ld that us s sci ntific m thods,\n",
      "proc ss s, algorithms and syst ms to Extract knowl dg  and insights from noisy,\n",
      "structur d and unstructur d data, and apply knowl dg  and Actionabl  insights from\n",
      "data across A broad rang  of application domains.\n",
      "D t  science is An Interdisciplin ry field th t uses scientific methods,\n",
      "processes,  lgorithms  nd systems to Extr ct knowledge  nd insights from noisy,\n",
      "structured  nd unstructured d t ,  nd  pply knowledge  nd Action ble insights from\n",
      "d t   cross A bro d r nge of  pplic tion dom ins.\n",
      "Data sc ence  s An Interd sc pl nary f eld that uses sc ent f c methods,\n",
      "processes, algor thms and systems to Extract knowledge and  ns ghts from no sy,\n",
      "structured and unstructured data, and apply knowledge and Act onable  ns ghts from\n",
      "data across A broad range of appl cat on doma ns.\n",
      "Data sc ence  s An Interd sc pl nary f eld that uses sc ent f c methods,\n",
      "processes, algor thms and systems to Extract knowledge and  ns ghts from no sy,\n",
      "structured and unstructured data, and apply knowledge and Act onable  ns ghts from\n",
      "data across A broad range of appl cat on doma ns.\n",
      "Data science is An Interdisciplinary field that uses scientific meth ds,\n",
      "pr cesses, alg rithms and systems t  Extract kn wledge and insights fr m n isy,\n",
      "structured and unstructured data, and apply kn wledge and Acti nable insights fr m\n",
      "data acr ss A br ad range  f applicati n d mains.\n",
      "Data science is An Interdisciplinary field that uses scientific meth ds,\n",
      "pr cesses, alg rithms and systems t  Extract kn wledge and insights fr m n isy,\n",
      "structured and unstructured data, and apply kn wledge and Acti nable insights fr m\n",
      "data acr ss A br ad range  f applicati n d mains.\n",
      "Data sc ence  s An Interd sc pl nary f eld that uses sc ent f c methods,\n",
      "processes, algor thms and systems to Extract knowledge and  ns ghts from no sy,\n",
      "structured and unstructured data, and apply knowledge and Act onable  ns ghts from\n",
      "data across A broad range of appl cat on doma ns.\n",
      "Data science is An Interdisciplinary field that  ses scientific methods,\n",
      "processes, algorithms and systems to Extract knowledge and insights from noisy,\n",
      "str ct red and  nstr ct red data, and apply knowledge and Actionable insights from\n",
      "data across A broad range of application domains.\n",
      "Data science is An Interdisciplinary field that  ses scientific methods,\n",
      "processes, algorithms and systems to Extract knowledge and insights from noisy,\n",
      "str ct red and  nstr ct red data, and apply knowledge and Actionable insights from\n",
      "data across A broad range of application domains.\n",
      "Data sci nc  is An Int rdisciplinary fi ld that us s sci ntific m thods,\n",
      "proc ss s, algorithms and syst ms to Extract knowl dg  and insights from noisy,\n",
      "structur d and unstructur d data, and apply knowl dg  and Actionabl  insights from\n",
      "data across A broad rang  of application domains.\n",
      "D t  science is An Interdisciplin ry field th t uses scientific methods,\n",
      "processes,  lgorithms  nd systems to Extr ct knowledge  nd insights from noisy,\n",
      "structured  nd unstructured d t ,  nd  pply knowledge  nd Action ble insights from\n",
      "d t   cross A bro d r nge of  pplic tion dom ins.\n",
      "Data science is An Interdisciplinary field that  ses scientific methods,\n",
      "processes, algorithms and systems to Extract knowledge and insights from noisy,\n",
      "str ct red and  nstr ct red data, and apply knowledge and Actionable insights from\n",
      "data across A broad range of application domains.\n",
      "Data science is An Interdisciplinary field that  ses scientific methods,\n",
      "processes, algorithms and systems to Extract knowledge and insights from noisy,\n",
      "str ct red and  nstr ct red data, and apply knowledge and Actionable insights from\n",
      "data across A broad range of application domains.\n",
      "Data science is An Interdisciplinary field that  ses scientific methods,\n",
      "processes, algorithms and systems to Extract knowledge and insights from noisy,\n",
      "str ct red and  nstr ct red data, and apply knowledge and Actionable insights from\n",
      "data across A broad range of application domains.\n",
      "Data sci nc  is An Int rdisciplinary fi ld that us s sci ntific m thods,\n",
      "proc ss s, algorithms and syst ms to Extract knowl dg  and insights from noisy,\n",
      "structur d and unstructur d data, and apply knowl dg  and Actionabl  insights from\n",
      "data across A broad rang  of application domains.\n",
      "D t  science is An Interdisciplin ry field th t uses scientific methods,\n",
      "processes,  lgorithms  nd systems to Extr ct knowledge  nd insights from noisy,\n",
      "structured  nd unstructured d t ,  nd  pply knowledge  nd Action ble insights from\n",
      "d t   cross A bro d r nge of  pplic tion dom ins.\n",
      "D t  science is An Interdisciplin ry field th t uses scientific methods,\n",
      "processes,  lgorithms  nd systems to Extr ct knowledge  nd insights from noisy,\n",
      "structured  nd unstructured d t ,  nd  pply knowledge  nd Action ble insights from\n",
      "d t   cross A bro d r nge of  pplic tion dom ins.\n",
      "D t  science is An Interdisciplin ry field th t uses scientific methods,\n",
      "processes,  lgorithms  nd systems to Extr ct knowledge  nd insights from noisy,\n",
      "structured  nd unstructured d t ,  nd  pply knowledge  nd Action ble insights from\n",
      "d t   cross A bro d r nge of  pplic tion dom ins.\n",
      "D t  science is An Interdisciplin ry field th t uses scientific methods,\n",
      "processes,  lgorithms  nd systems to Extr ct knowledge  nd insights from noisy,\n",
      "structured  nd unstructured d t ,  nd  pply knowledge  nd Action ble insights from\n",
      "d t   cross A bro d r nge of  pplic tion dom ins.\n",
      "Data science is An Interdisciplinary field that uses scientific meth ds,\n",
      "pr cesses, alg rithms and systems t  Extract kn wledge and insights fr m n isy,\n",
      "structured and unstructured data, and apply kn wledge and Acti nable insights fr m\n",
      "data acr ss A br ad range  f applicati n d mains.\n",
      "Data sci nc  is An Int rdisciplinary fi ld that us s sci ntific m thods,\n",
      "proc ss s, algorithms and syst ms to Extract knowl dg  and insights from noisy,\n",
      "structur d and unstructur d data, and apply knowl dg  and Actionabl  insights from\n",
      "data across A broad rang  of application domains.\n",
      "Data sci nc  is An Int rdisciplinary fi ld that us s sci ntific m thods,\n",
      "proc ss s, algorithms and syst ms to Extract knowl dg  and insights from noisy,\n",
      "structur d and unstructur d data, and apply knowl dg  and Actionabl  insights from\n",
      "data across A broad rang  of application domains.\n",
      "D t  science is An Interdisciplin ry field th t uses scientific methods,\n",
      "processes,  lgorithms  nd systems to Extr ct knowledge  nd insights from noisy,\n",
      "structured  nd unstructured d t ,  nd  pply knowledge  nd Action ble insights from\n",
      "d t   cross A bro d r nge of  pplic tion dom ins.\n",
      "Data science is  n Interdisciplinary field that uses scientific methods,\n",
      "processes, algorithms and systems to Extract knowledge and insights from noisy,\n",
      "structured and unstructured data, and apply knowledge and  ctionable insights from\n",
      "data across   broad range of application domains.\n",
      "Data sc ence  s An Interd sc pl nary f eld that uses sc ent f c methods,\n",
      "processes, algor thms and systems to Extract knowledge and  ns ghts from no sy,\n",
      "structured and unstructured data, and apply knowledge and Act onable  ns ghts from\n",
      "data across A broad range of appl cat on doma ns.\n",
      "Data science is An Interdisciplinary field that uses scientific meth ds,\n",
      "pr cesses, alg rithms and systems t  Extract kn wledge and insights fr m n isy,\n",
      "structured and unstructured data, and apply kn wledge and Acti nable insights fr m\n",
      "data acr ss A br ad range  f applicati n d mains.\n",
      "D t  science is An Interdisciplin ry field th t uses scientific methods,\n",
      "processes,  lgorithms  nd systems to Extr ct knowledge  nd insights from noisy,\n",
      "structured  nd unstructured d t ,  nd  pply knowledge  nd Action ble insights from\n",
      "d t   cross A bro d r nge of  pplic tion dom ins.\n",
      "Data sci nc  is An Int rdisciplinary fi ld that us s sci ntific m thods,\n",
      "proc ss s, algorithms and syst ms to Extract knowl dg  and insights from noisy,\n",
      "structur d and unstructur d data, and apply knowl dg  and Actionabl  insights from\n",
      "data across A broad rang  of application domains.\n",
      "Data sc ence  s An Interd sc pl nary f eld that uses sc ent f c methods,\n",
      "processes, algor thms and systems to Extract knowledge and  ns ghts from no sy,\n",
      "structured and unstructured data, and apply knowledge and Act onable  ns ghts from\n",
      "data across A broad range of appl cat on doma ns.\n",
      "Data sc ence  s An Interd sc pl nary f eld that uses sc ent f c methods,\n",
      "processes, algor thms and systems to Extract knowledge and  ns ghts from no sy,\n",
      "structured and unstructured data, and apply knowledge and Act onable  ns ghts from\n",
      "data across A broad range of appl cat on doma ns.\n",
      "Data science is An Interdisciplinary field that uses scientific meth ds,\n",
      "pr cesses, alg rithms and systems t  Extract kn wledge and insights fr m n isy,\n",
      "structured and unstructured data, and apply kn wledge and Acti nable insights fr m\n",
      "data acr ss A br ad range  f applicati n d mains.\n",
      "D t  science is An Interdisciplin ry field th t uses scientific methods,\n",
      "processes,  lgorithms  nd systems to Extr ct knowledge  nd insights from noisy,\n",
      "structured  nd unstructured d t ,  nd  pply knowledge  nd Action ble insights from\n",
      "d t   cross A bro d r nge of  pplic tion dom ins.\n",
      "D t  science is An Interdisciplin ry field th t uses scientific methods,\n",
      "processes,  lgorithms  nd systems to Extr ct knowledge  nd insights from noisy,\n",
      "structured  nd unstructured d t ,  nd  pply knowledge  nd Action ble insights from\n",
      "d t   cross A bro d r nge of  pplic tion dom ins.\n",
      "D t  science is An Interdisciplin ry field th t uses scientific methods,\n",
      "processes,  lgorithms  nd systems to Extr ct knowledge  nd insights from noisy,\n",
      "structured  nd unstructured d t ,  nd  pply knowledge  nd Action ble insights from\n",
      "d t   cross A bro d r nge of  pplic tion dom ins.\n",
      "Data science is An Interdisciplinary field that uses scientific meth ds,\n",
      "pr cesses, alg rithms and systems t  Extract kn wledge and insights fr m n isy,\n",
      "structured and unstructured data, and apply kn wledge and Acti nable insights fr m\n",
      "data acr ss A br ad range  f applicati n d mains.\n",
      "Data science is  n Interdisciplinary field that uses scientific methods,\n",
      "processes, algorithms and systems to Extract knowledge and insights from noisy,\n",
      "structured and unstructured data, and apply knowledge and  ctionable insights from\n",
      "data across   broad range of application domains.\n",
      "Data science is An Interdisciplinary field that uses scientific meth ds,\n",
      "pr cesses, alg rithms and systems t  Extract kn wledge and insights fr m n isy,\n",
      "structured and unstructured data, and apply kn wledge and Acti nable insights fr m\n",
      "data acr ss A br ad range  f applicati n d mains.\n",
      "D t  science is An Interdisciplin ry field th t uses scientific methods,\n",
      "processes,  lgorithms  nd systems to Extr ct knowledge  nd insights from noisy,\n",
      "structured  nd unstructured d t ,  nd  pply knowledge  nd Action ble insights from\n",
      "d t   cross A bro d r nge of  pplic tion dom ins.\n",
      "D t  science is An Interdisciplin ry field th t uses scientific methods,\n",
      "processes,  lgorithms  nd systems to Extr ct knowledge  nd insights from noisy,\n",
      "structured  nd unstructured d t ,  nd  pply knowledge  nd Action ble insights from\n",
      "d t   cross A bro d r nge of  pplic tion dom ins.\n",
      "Data sci nc  is An Int rdisciplinary fi ld that us s sci ntific m thods,\n",
      "proc ss s, algorithms and syst ms to Extract knowl dg  and insights from noisy,\n",
      "structur d and unstructur d data, and apply knowl dg  and Actionabl  insights from\n",
      "data across A broad rang  of application domains.\n",
      "Data science is An Interdisciplinary field that uses scientific meth ds,\n",
      "pr cesses, alg rithms and systems t  Extract kn wledge and insights fr m n isy,\n",
      "structured and unstructured data, and apply kn wledge and Acti nable insights fr m\n",
      "data acr ss A br ad range  f applicati n d mains.\n",
      "D t  science is An Interdisciplin ry field th t uses scientific methods,\n",
      "processes,  lgorithms  nd systems to Extr ct knowledge  nd insights from noisy,\n",
      "structured  nd unstructured d t ,  nd  pply knowledge  nd Action ble insights from\n",
      "d t   cross A bro d r nge of  pplic tion dom ins.\n",
      "Data sc ence  s An Interd sc pl nary f eld that uses sc ent f c methods,\n",
      "processes, algor thms and systems to Extract knowledge and  ns ghts from no sy,\n",
      "structured and unstructured data, and apply knowledge and Act onable  ns ghts from\n",
      "data across A broad range of appl cat on doma ns.\n",
      "D t  science is An Interdisciplin ry field th t uses scientific methods,\n",
      "processes,  lgorithms  nd systems to Extr ct knowledge  nd insights from noisy,\n",
      "structured  nd unstructured d t ,  nd  pply knowledge  nd Action ble insights from\n",
      "d t   cross A bro d r nge of  pplic tion dom ins.\n",
      "Data sc ence  s An Interd sc pl nary f eld that uses sc ent f c methods,\n",
      "processes, algor thms and systems to Extract knowledge and  ns ghts from no sy,\n",
      "structured and unstructured data, and apply knowledge and Act onable  ns ghts from\n",
      "data across A broad range of appl cat on doma ns.\n",
      "Data science is An Interdisciplinary field that uses scientific meth ds,\n",
      "pr cesses, alg rithms and systems t  Extract kn wledge and insights fr m n isy,\n",
      "structured and unstructured data, and apply kn wledge and Acti nable insights fr m\n",
      "data acr ss A br ad range  f applicati n d mains.\n",
      "Data science is An Interdisciplinary field that uses scientific meth ds,\n",
      "pr cesses, alg rithms and systems t  Extract kn wledge and insights fr m n isy,\n",
      "structured and unstructured data, and apply kn wledge and Acti nable insights fr m\n",
      "data acr ss A br ad range  f applicati n d mains.\n",
      "D t  science is An Interdisciplin ry field th t uses scientific methods,\n",
      "processes,  lgorithms  nd systems to Extr ct knowledge  nd insights from noisy,\n",
      "structured  nd unstructured d t ,  nd  pply knowledge  nd Action ble insights from\n",
      "d t   cross A bro d r nge of  pplic tion dom ins.\n",
      "Data sc ence  s An Interd sc pl nary f eld that uses sc ent f c methods,\n",
      "processes, algor thms and systems to Extract knowledge and  ns ghts from no sy,\n",
      "structured and unstructured data, and apply knowledge and Act onable  ns ghts from\n",
      "data across A broad range of appl cat on doma ns.\n"
     ]
    }
   ],
   "source": [
    "index='aeiouAEIOU'\n",
    "\n",
    "for i in str1:\n",
    "    if i in index:\n",
    "        str2=str1.replace(i,' ')\n",
    "        print(str2)"
   ]
  },
  {
   "cell_type": "code",
   "execution_count": 11,
   "id": "af398668",
   "metadata": {},
   "outputs": [
    {
     "name": "stdout",
     "output_type": "stream",
     "text": [
      "dt scnc s n ntrdscplnry fld tht ss scntfc mthds,\n",
      "prcsss, lgrthms nd systms t xtrct knwldg nd nsghts frm nsy,\n",
      "strctrd nd nstrctrd dt, nd pply knwldg nd ctnbl nsghts frm\n",
      "dt crss  brd rng f pplctn dmns.\n"
     ]
    }
   ],
   "source": [
    "str1 = '''Data science is An Interdisciplinary field that uses scientific methods,\n",
    "processes, algorithms and systems to Extract knowledge and insights from noisy,\n",
    "structured and unstructured data, and apply knowledge and Actionable insights from\n",
    "data across A broad range of application domains.'''\n",
    "\n",
    "string = str1.lower()\n",
    "str2 = string.replace('a', \"\")\n",
    "str3 = str2.replace('e', \"\")\n",
    "str4 = str3.replace('i', \"\")\n",
    "str5 = str4.replace('o', \"\")\n",
    "str6 = str5.replace('u', \"\")\n",
    "\n",
    "print(str6)"
   ]
  },
  {
   "cell_type": "code",
   "execution_count": 17,
   "id": "f177c469",
   "metadata": {},
   "outputs": [
    {
     "name": "stdout",
     "output_type": "stream",
     "text": [
      "d t  sc  nc   s  n  nt rd sc pl n ry f  ld th t  s s sc  nt f c m th ds,\n",
      "pr c ss s,  lg r thms  nd syst ms t   xtr ct kn wl dg   nd  ns ghts fr m n  sy,\n",
      "str ct r d  nd  nstr ct r d d t ,  nd  pply kn wl dg   nd  ct  n bl   ns ghts fr m\n",
      "d t   cr ss   br  d r ng   f  ppl c t  n d m  ns.\n"
     ]
    }
   ],
   "source": [
    "str1 = '''Data science is An Interdisciplinary field that uses scientific methods,\n",
    "processes, algorithms and systems to Extract knowledge and insights from noisy,\n",
    "structured and unstructured data, and apply knowledge and Actionable insights from\n",
    "data across A broad range of application domains.'''\n",
    "\n",
    "ds = str1.lower()\n",
    "str2=ds.replace('a',' ').replace('e',' ').replace('i',' ').replace('o',' ').replace('u',' ')\n",
    "print(str2)"
   ]
  },
  {
   "cell_type": "code",
   "execution_count": 18,
   "id": "94abbd60",
   "metadata": {},
   "outputs": [
    {
     "name": "stdout",
     "output_type": "stream",
     "text": [
      "d t  sc  nc   s  n  nt rd sc pl n ry f  ld th t  s s sc  nt f c m th ds,\n",
      "pr c ss s,  lg r thms  nd syst ms t   xtr ct kn wl dg   nd  ns ghts fr m n  sy,\n",
      "str ct r d  nd  nstr ct r d d t ,  nd  pply kn wl dg   nd  ct  n bl   ns ghts fr m\n",
      "d t   cr ss   br  d r ng   f  ppl c t  n d m  ns.\n"
     ]
    }
   ],
   "source": [
    "str1 = '''Data science is An Interdisciplinary field that uses scientific methods,\n",
    "processes, algorithms and systems to Extract knowledge and insights from noisy,\n",
    "structured and unstructured data, and apply knowledge and Actionable insights from\n",
    "data across A broad range of application domains.'''\n",
    "\n",
    "str2=str1.lower().replace('a',' ').replace('e',' ').replace('i',' ').replace('o',' ').replace('u',' ')\n",
    "print(str2)"
   ]
  },
  {
   "cell_type": "markdown",
   "id": "98f0c6e3",
   "metadata": {},
   "source": [
    "## 10. Count()"
   ]
  },
  {
   "cell_type": "code",
   "execution_count": null,
   "id": "cd03bf53",
   "metadata": {},
   "outputs": [],
   "source": [
    "string.count(substring, start_index , end_index)"
   ]
  },
  {
   "cell_type": "code",
   "execution_count": 19,
   "id": "fdce153e",
   "metadata": {},
   "outputs": [
    {
     "data": {
      "text/plain": [
       "1"
      ]
     },
     "execution_count": 19,
     "metadata": {},
     "output_type": "execute_result"
    }
   ],
   "source": [
    "str1 = 'Python is a programming Language'\n",
    "str1.count('P')"
   ]
  },
  {
   "cell_type": "code",
   "execution_count": 20,
   "id": "974db9cc",
   "metadata": {},
   "outputs": [
    {
     "data": {
      "text/plain": [
       "2"
      ]
     },
     "execution_count": 20,
     "metadata": {},
     "output_type": "execute_result"
    }
   ],
   "source": [
    "str1 = 'python is a programming Language'\n",
    "str1.count('p')"
   ]
  },
  {
   "cell_type": "code",
   "execution_count": 21,
   "id": "981eec5d",
   "metadata": {},
   "outputs": [
    {
     "data": {
      "text/plain": [
       "4"
      ]
     },
     "execution_count": 21,
     "metadata": {},
     "output_type": "execute_result"
    }
   ],
   "source": [
    "str1 = 'python is a programming Language'\n",
    "str1.count(' ')"
   ]
  },
  {
   "cell_type": "code",
   "execution_count": 22,
   "id": "80ad367a",
   "metadata": {},
   "outputs": [
    {
     "data": {
      "text/plain": [
       "4"
      ]
     },
     "execution_count": 22,
     "metadata": {},
     "output_type": "execute_result"
    }
   ],
   "source": [
    "str1 = 'python is a programming Language'\n",
    "str1.count('a')"
   ]
  },
  {
   "cell_type": "code",
   "execution_count": 23,
   "id": "05f4f785",
   "metadata": {},
   "outputs": [
    {
     "data": {
      "text/plain": [
       "1"
      ]
     },
     "execution_count": 23,
     "metadata": {},
     "output_type": "execute_result"
    }
   ],
   "source": [
    "str1 = 'python is a programming Language'\n",
    "str1.count('python')"
   ]
  },
  {
   "cell_type": "code",
   "execution_count": 25,
   "id": "e381eccb",
   "metadata": {},
   "outputs": [
    {
     "data": {
      "text/plain": [
       "0"
      ]
     },
     "execution_count": 25,
     "metadata": {},
     "output_type": "execute_result"
    }
   ],
   "source": [
    "str1 = 'Python is a programming Language'\n",
    "str1.count('python')"
   ]
  },
  {
   "cell_type": "code",
   "execution_count": 26,
   "id": "86006318",
   "metadata": {},
   "outputs": [
    {
     "data": {
      "text/plain": [
       "0"
      ]
     },
     "execution_count": 26,
     "metadata": {},
     "output_type": "execute_result"
    }
   ],
   "source": [
    "str1 = 'Python is a programming Language. Python is used for Data Science'\n",
    "str1.count('python')"
   ]
  },
  {
   "cell_type": "code",
   "execution_count": 27,
   "id": "305ed4b4",
   "metadata": {},
   "outputs": [
    {
     "data": {
      "text/plain": [
       "2"
      ]
     },
     "execution_count": 27,
     "metadata": {},
     "output_type": "execute_result"
    }
   ],
   "source": [
    "str1 = 'Python is a programming Language. Python is used for Data Science'\n",
    "str1.count('Python')"
   ]
  },
  {
   "cell_type": "code",
   "execution_count": 29,
   "id": "f70e99fc",
   "metadata": {},
   "outputs": [
    {
     "data": {
      "text/plain": [
       "3"
      ]
     },
     "execution_count": 29,
     "metadata": {},
     "output_type": "execute_result"
    }
   ],
   "source": [
    "str1 = 'Python is a programming Language. Python is used for Data Science'\n",
    "str1 = str1.lower()\n",
    "str1.count('p')"
   ]
  },
  {
   "cell_type": "code",
   "execution_count": 30,
   "id": "aaa90588",
   "metadata": {},
   "outputs": [
    {
     "data": {
      "text/plain": [
       "3"
      ]
     },
     "execution_count": 30,
     "metadata": {},
     "output_type": "execute_result"
    }
   ],
   "source": [
    "str1 = 'Python is a programming Language. Python is used for Data Science'\n",
    "str1.lower().count('p')"
   ]
  },
  {
   "cell_type": "code",
   "execution_count": 31,
   "id": "b0554a6a",
   "metadata": {},
   "outputs": [
    {
     "data": {
      "text/plain": [
       "'Python is a programming Language. Python is used for Data Science'"
      ]
     },
     "execution_count": 31,
     "metadata": {},
     "output_type": "execute_result"
    }
   ],
   "source": [
    "str1"
   ]
  },
  {
   "cell_type": "code",
   "execution_count": 32,
   "id": "bf0b7ad7",
   "metadata": {},
   "outputs": [
    {
     "data": {
      "text/plain": [
       "2"
      ]
     },
     "execution_count": 32,
     "metadata": {},
     "output_type": "execute_result"
    }
   ],
   "source": [
    "str1 = 'Python is a programming Language. Python is used for Data Science'\n",
    "str1.count('P')"
   ]
  },
  {
   "cell_type": "code",
   "execution_count": 34,
   "id": "9dce5b4b",
   "metadata": {},
   "outputs": [
    {
     "data": {
      "text/plain": [
       "3"
      ]
     },
     "execution_count": 34,
     "metadata": {},
     "output_type": "execute_result"
    }
   ],
   "source": [
    "str1 = 'Python is a programming Language. Python is used for Data Science'\n",
    "str1.upper().count('P')"
   ]
  },
  {
   "cell_type": "code",
   "execution_count": 36,
   "id": "a6de7359",
   "metadata": {},
   "outputs": [
    {
     "data": {
      "text/plain": [
       "1"
      ]
     },
     "execution_count": 36,
     "metadata": {},
     "output_type": "execute_result"
    }
   ],
   "source": [
    "str1 = 'Python is a programming Language. Python is used for Data Science'\n",
    "str1[4:24]\n",
    "str1.count('p',4,24)  #str1[4:24]"
   ]
  },
  {
   "cell_type": "code",
   "execution_count": 39,
   "id": "4d07c011",
   "metadata": {},
   "outputs": [
    {
     "data": {
      "text/plain": [
       "1"
      ]
     },
     "execution_count": 39,
     "metadata": {},
     "output_type": "execute_result"
    }
   ],
   "source": [
    "str1 = 'Python is a programming Language. Python is used for Data Science'\n",
    "str1.count('P',25,70)#str1[25:70]"
   ]
  },
  {
   "cell_type": "code",
   "execution_count": 41,
   "id": "9e8cb7e2",
   "metadata": {},
   "outputs": [
    {
     "data": {
      "text/plain": [
       "2"
      ]
     },
     "execution_count": 41,
     "metadata": {},
     "output_type": "execute_result"
    }
   ],
   "source": [
    "str1 = 'Python is a programming Language. Python is used for Data Science'\n",
    "str1.lower().count('p',4) # str1[4:]"
   ]
  },
  {
   "cell_type": "code",
   "execution_count": 43,
   "id": "d4833a5b",
   "metadata": {},
   "outputs": [
    {
     "data": {
      "text/plain": [
       "3"
      ]
     },
     "execution_count": 43,
     "metadata": {},
     "output_type": "execute_result"
    }
   ],
   "source": [
    "str1 = 'Python is a programming Language. Python is used for Data Science'\n",
    "str1.lower().count('p',0,50) # str1[0:50]"
   ]
  },
  {
   "cell_type": "code",
   "execution_count": 44,
   "id": "b895fbc4",
   "metadata": {},
   "outputs": [
    {
     "data": {
      "text/plain": [
       "0"
      ]
     },
     "execution_count": 44,
     "metadata": {},
     "output_type": "execute_result"
    }
   ],
   "source": [
    "str1 = 'Python is a programming Language. Python is used for Data Science'\n",
    "str1.lower().count('p',-1,-50) "
   ]
  },
  {
   "cell_type": "code",
   "execution_count": 46,
   "id": "5398b5b9",
   "metadata": {},
   "outputs": [
    {
     "data": {
      "text/plain": [
       "'ecneicS ataD rof desu si nohtyP .egaugnaL gnimmar'"
      ]
     },
     "execution_count": 46,
     "metadata": {},
     "output_type": "execute_result"
    }
   ],
   "source": [
    "str1[-1:-50:-1]"
   ]
  },
  {
   "cell_type": "code",
   "execution_count": 48,
   "id": "55583b38",
   "metadata": {},
   "outputs": [
    {
     "data": {
      "text/plain": [
       "3"
      ]
     },
     "execution_count": 48,
     "metadata": {},
     "output_type": "execute_result"
    }
   ],
   "source": [
    "str1 = 'Python is a programming Language. Python is used for Data Science ppp'\n",
    "str1.lower().count('p',-50,-1) "
   ]
  },
  {
   "cell_type": "code",
   "execution_count": 49,
   "id": "f21245bb",
   "metadata": {},
   "outputs": [
    {
     "data": {
      "text/plain": [
       "4"
      ]
     },
     "execution_count": 49,
     "metadata": {},
     "output_type": "execute_result"
    }
   ],
   "source": [
    "str1 = 'Python is a programming Language. Python is used for Data Science ppp'\n",
    "str1.lower().count('p',-50) "
   ]
  },
  {
   "cell_type": "markdown",
   "id": "a96b98b0",
   "metadata": {},
   "source": [
    "## 11. index()"
   ]
  },
  {
   "cell_type": "code",
   "execution_count": null,
   "id": "2d2cc3b6",
   "metadata": {},
   "outputs": [],
   "source": [
    "string.index(substring)"
   ]
  },
  {
   "cell_type": "code",
   "execution_count": 50,
   "id": "9bffbf8a",
   "metadata": {},
   "outputs": [
    {
     "data": {
      "text/plain": [
       "24"
      ]
     },
     "execution_count": 50,
     "metadata": {},
     "output_type": "execute_result"
    }
   ],
   "source": [
    "str1 = 'Python is a programming Language. Python is used for Data Science ppp'\n",
    "str1.index('L')"
   ]
  },
  {
   "cell_type": "code",
   "execution_count": 51,
   "id": "f59123a0",
   "metadata": {},
   "outputs": [
    {
     "data": {
      "text/plain": [
       "'L'"
      ]
     },
     "execution_count": 51,
     "metadata": {},
     "output_type": "execute_result"
    }
   ],
   "source": [
    "str1[24]"
   ]
  },
  {
   "cell_type": "code",
   "execution_count": 52,
   "id": "b01b03cf",
   "metadata": {},
   "outputs": [
    {
     "data": {
      "text/plain": [
       "0"
      ]
     },
     "execution_count": 52,
     "metadata": {},
     "output_type": "execute_result"
    }
   ],
   "source": [
    "str1 = 'Python is a programming Language. Python is used for Data Science ppp'\n",
    "str1.index('Python')"
   ]
  },
  {
   "cell_type": "code",
   "execution_count": 53,
   "id": "5aad7241",
   "metadata": {},
   "outputs": [
    {
     "data": {
      "text/plain": [
       "34"
      ]
     },
     "execution_count": 53,
     "metadata": {},
     "output_type": "execute_result"
    }
   ],
   "source": [
    "str1 = 'Python is a programming Language. python is used for Data Science ppp'\n",
    "str1.index('python')"
   ]
  },
  {
   "cell_type": "code",
   "execution_count": 54,
   "id": "e78e6279",
   "metadata": {},
   "outputs": [
    {
     "data": {
      "text/plain": [
       "'p'"
      ]
     },
     "execution_count": 54,
     "metadata": {},
     "output_type": "execute_result"
    }
   ],
   "source": [
    "str1[34]"
   ]
  },
  {
   "cell_type": "code",
   "execution_count": 55,
   "id": "b79fd201",
   "metadata": {},
   "outputs": [
    {
     "data": {
      "text/plain": [
       "5"
      ]
     },
     "execution_count": 55,
     "metadata": {},
     "output_type": "execute_result"
    }
   ],
   "source": [
    "str1 = 'python'\n",
    "str1.index('n')"
   ]
  },
  {
   "cell_type": "code",
   "execution_count": 56,
   "id": "dff0adeb",
   "metadata": {},
   "outputs": [
    {
     "data": {
      "text/plain": [
       "2"
      ]
     },
     "execution_count": 56,
     "metadata": {},
     "output_type": "execute_result"
    }
   ],
   "source": [
    "str1 = 'python'\n",
    "str1.index('t')"
   ]
  },
  {
   "cell_type": "code",
   "execution_count": 57,
   "id": "4c3038bb",
   "metadata": {},
   "outputs": [
    {
     "data": {
      "text/plain": [
       "6"
      ]
     },
     "execution_count": 57,
     "metadata": {},
     "output_type": "execute_result"
    }
   ],
   "source": [
    "str1 = 'python class'\n",
    "str1.index(' ')"
   ]
  },
  {
   "cell_type": "code",
   "execution_count": 58,
   "id": "9c3b23e2",
   "metadata": {},
   "outputs": [
    {
     "data": {
      "text/plain": [
       "0"
      ]
     },
     "execution_count": 58,
     "metadata": {},
     "output_type": "execute_result"
    }
   ],
   "source": [
    "str1 = 'Python is a programming Language. python is used for Data Science ppp'\n",
    "str1.index('Python')"
   ]
  },
  {
   "cell_type": "code",
   "execution_count": 59,
   "id": "046ea7f9",
   "metadata": {},
   "outputs": [
    {
     "ename": "ValueError",
     "evalue": "substring not found",
     "output_type": "error",
     "traceback": [
      "\u001b[1;31m---------------------------------------------------------------------------\u001b[0m",
      "\u001b[1;31mValueError\u001b[0m                                Traceback (most recent call last)",
      "\u001b[1;32m<ipython-input-59-b067e62c321c>\u001b[0m in \u001b[0;36m<module>\u001b[1;34m\u001b[0m\n\u001b[0;32m      1\u001b[0m \u001b[0mstr1\u001b[0m \u001b[1;33m=\u001b[0m \u001b[1;34m'Python is a programming Language. python is used for Data Science ppp'\u001b[0m\u001b[1;33m\u001b[0m\u001b[1;33m\u001b[0m\u001b[0m\n\u001b[1;32m----> 2\u001b[1;33m \u001b[0mstr1\u001b[0m\u001b[1;33m.\u001b[0m\u001b[0mindex\u001b[0m\u001b[1;33m(\u001b[0m\u001b[1;34m'JAVA'\u001b[0m\u001b[1;33m)\u001b[0m\u001b[1;33m\u001b[0m\u001b[1;33m\u001b[0m\u001b[0m\n\u001b[0m",
      "\u001b[1;31mValueError\u001b[0m: substring not found"
     ]
    }
   ],
   "source": [
    "str1 = 'Python is a programming Language. python is used for Data Science ppp'\n",
    "str1.index('JAVA')"
   ]
  },
  {
   "cell_type": "code",
   "execution_count": 61,
   "id": "f618f3c7",
   "metadata": {},
   "outputs": [
    {
     "data": {
      "text/plain": [
       "34"
      ]
     },
     "execution_count": 61,
     "metadata": {},
     "output_type": "execute_result"
    }
   ],
   "source": [
    "str1 = 'Python is a programming Language. pythonnnn is used for Data Science ppp'\n",
    "str1.index('python')"
   ]
  },
  {
   "cell_type": "code",
   "execution_count": 63,
   "id": "018b6c09",
   "metadata": {},
   "outputs": [
    {
     "data": {
      "text/plain": [
       "34"
      ]
     },
     "execution_count": 63,
     "metadata": {},
     "output_type": "execute_result"
    }
   ],
   "source": [
    "str1 = 'python is a programming Language. pythonnnn is used for Data Science ppp'\n",
    "str1.index('python',10,50)"
   ]
  },
  {
   "cell_type": "code",
   "execution_count": 64,
   "id": "d457d9af",
   "metadata": {},
   "outputs": [
    {
     "data": {
      "text/plain": [
       "0"
      ]
     },
     "execution_count": 64,
     "metadata": {},
     "output_type": "execute_result"
    }
   ],
   "source": [
    "str1 = 'python is a programming Language. pythonnnn is used for Data Science ppp'\n",
    "str1.index('python',0,50)"
   ]
  },
  {
   "cell_type": "code",
   "execution_count": 65,
   "id": "4c0eadf9",
   "metadata": {},
   "outputs": [
    {
     "data": {
      "text/plain": [
       "34"
      ]
     },
     "execution_count": 65,
     "metadata": {},
     "output_type": "execute_result"
    }
   ],
   "source": [
    "str1 = 'python is a programming Language. pythonnnn is used for Data Science ppp'\n",
    "str1.index('python',1,50)"
   ]
  },
  {
   "cell_type": "code",
   "execution_count": 66,
   "id": "134aba00",
   "metadata": {},
   "outputs": [
    {
     "ename": "ValueError",
     "evalue": "substring not found",
     "output_type": "error",
     "traceback": [
      "\u001b[1;31m---------------------------------------------------------------------------\u001b[0m",
      "\u001b[1;31mValueError\u001b[0m                                Traceback (most recent call last)",
      "\u001b[1;32m<ipython-input-66-be5c27bcc9ba>\u001b[0m in \u001b[0;36m<module>\u001b[1;34m\u001b[0m\n\u001b[0;32m      1\u001b[0m \u001b[0mstr1\u001b[0m \u001b[1;33m=\u001b[0m \u001b[1;34m'python is a programming Language. pythonnnn is used for Data Science ppp'\u001b[0m\u001b[1;33m\u001b[0m\u001b[1;33m\u001b[0m\u001b[0m\n\u001b[1;32m----> 2\u001b[1;33m \u001b[0mstr1\u001b[0m\u001b[1;33m.\u001b[0m\u001b[0mindex\u001b[0m\u001b[1;33m(\u001b[0m\u001b[1;34m'Java'\u001b[0m\u001b[1;33m)\u001b[0m\u001b[1;33m\u001b[0m\u001b[1;33m\u001b[0m\u001b[0m\n\u001b[0m",
      "\u001b[1;31mValueError\u001b[0m: substring not found"
     ]
    }
   ],
   "source": [
    "str1 = 'python is a programming Language. pythonnnn is used for Data Science ppp'\n",
    "str1.index('Java')"
   ]
  },
  {
   "cell_type": "markdown",
   "id": "57abaff9",
   "metadata": {},
   "source": [
    "## 12. find()"
   ]
  },
  {
   "cell_type": "code",
   "execution_count": 67,
   "id": "77c4617d",
   "metadata": {},
   "outputs": [
    {
     "data": {
      "text/plain": [
       "2"
      ]
     },
     "execution_count": 67,
     "metadata": {},
     "output_type": "execute_result"
    }
   ],
   "source": [
    "string = 'python'\n",
    "string.index('t')"
   ]
  },
  {
   "cell_type": "code",
   "execution_count": 68,
   "id": "ebe412f3",
   "metadata": {},
   "outputs": [
    {
     "ename": "ValueError",
     "evalue": "substring not found",
     "output_type": "error",
     "traceback": [
      "\u001b[1;31m---------------------------------------------------------------------------\u001b[0m",
      "\u001b[1;31mValueError\u001b[0m                                Traceback (most recent call last)",
      "\u001b[1;32m<ipython-input-68-2fccc27f1f5e>\u001b[0m in \u001b[0;36m<module>\u001b[1;34m\u001b[0m\n\u001b[0;32m      1\u001b[0m \u001b[0mstring\u001b[0m \u001b[1;33m=\u001b[0m \u001b[1;34m'PYTHON'\u001b[0m\u001b[1;33m\u001b[0m\u001b[1;33m\u001b[0m\u001b[0m\n\u001b[1;32m----> 2\u001b[1;33m \u001b[0mstring\u001b[0m\u001b[1;33m.\u001b[0m\u001b[0mindex\u001b[0m\u001b[1;33m(\u001b[0m\u001b[1;34m't'\u001b[0m\u001b[1;33m)\u001b[0m\u001b[1;33m\u001b[0m\u001b[1;33m\u001b[0m\u001b[0m\n\u001b[0m",
      "\u001b[1;31mValueError\u001b[0m: substring not found"
     ]
    }
   ],
   "source": [
    "string = 'PYTHON'\n",
    "string.index('t')"
   ]
  },
  {
   "cell_type": "code",
   "execution_count": 69,
   "id": "f5589cf6",
   "metadata": {},
   "outputs": [
    {
     "data": {
      "text/plain": [
       "-1"
      ]
     },
     "execution_count": 69,
     "metadata": {},
     "output_type": "execute_result"
    }
   ],
   "source": [
    "string = 'PYTHON'\n",
    "string.find('t')"
   ]
  },
  {
   "cell_type": "code",
   "execution_count": 70,
   "id": "c690d507",
   "metadata": {},
   "outputs": [
    {
     "data": {
      "text/plain": [
       "2"
      ]
     },
     "execution_count": 70,
     "metadata": {},
     "output_type": "execute_result"
    }
   ],
   "source": [
    "string = 'PYTHON'\n",
    "string.find('T')"
   ]
  },
  {
   "cell_type": "code",
   "execution_count": 71,
   "id": "9392b988",
   "metadata": {},
   "outputs": [
    {
     "data": {
      "text/plain": [
       "2"
      ]
     },
     "execution_count": 71,
     "metadata": {},
     "output_type": "execute_result"
    }
   ],
   "source": [
    "string = 'PYTTTTTHON'\n",
    "string.index('T')"
   ]
  },
  {
   "cell_type": "code",
   "execution_count": 75,
   "id": "5d2a5a2b",
   "metadata": {},
   "outputs": [
    {
     "name": "stdout",
     "output_type": "stream",
     "text": [
      "Index : -1\n",
      "Subsring is not present in given string\n"
     ]
    }
   ],
   "source": [
    "str1 = 'Python'\n",
    "index = str1.find('p')\n",
    "print('Index :', index)\n",
    "\n",
    "if index == -1:\n",
    "    print('Subsring is not present in given string')\n",
    "    \n",
    "else:\n",
    "    print('Substring is present')"
   ]
  },
  {
   "cell_type": "code",
   "execution_count": 76,
   "id": "c836d598",
   "metadata": {},
   "outputs": [
    {
     "name": "stdout",
     "output_type": "stream",
     "text": [
      "Index : 0\n",
      "Substring is present\n"
     ]
    }
   ],
   "source": [
    "str1 = 'Python'\n",
    "index = str1.find('P')\n",
    "print('Index :', index)\n",
    "\n",
    "if index == -1:\n",
    "    print('Subsring is not present in given string')\n",
    "    \n",
    "else:\n",
    "    print('Substring is present')"
   ]
  },
  {
   "cell_type": "code",
   "execution_count": 77,
   "id": "d3fba613",
   "metadata": {},
   "outputs": [
    {
     "name": "stdout",
     "output_type": "stream",
     "text": [
      "Index : 10\n",
      "prgramming is present at 10th index\n"
     ]
    }
   ],
   "source": [
    "str1 = 'Python is prgramming language'\n",
    "sub_string = 'prgramming'\n",
    "index = str1.find(sub_string)\n",
    "print('Index :', index)\n",
    "\n",
    "if index == -1:\n",
    "    print(f'{sub_string} is not present in given string')\n",
    "    \n",
    "else:\n",
    "    print(f'{sub_string} is present at {index}th index')"
   ]
  },
  {
   "cell_type": "code",
   "execution_count": 78,
   "id": "fc518524",
   "metadata": {},
   "outputs": [
    {
     "name": "stdout",
     "output_type": "stream",
     "text": [
      "Index : -1\n",
      "Prgramming is not present in given string\n"
     ]
    }
   ],
   "source": [
    "str1 = 'Python is prgramming language'\n",
    "sub_string = 'Prgramming'\n",
    "index = str1.find(sub_string)\n",
    "print('Index :', index)\n",
    "\n",
    "if index == -1:\n",
    "    print(f'{sub_string} is not present in given string')\n",
    "    \n",
    "else:\n",
    "    print(f'{sub_string} is present at {index}th index')"
   ]
  },
  {
   "cell_type": "markdown",
   "id": "70ef95d6",
   "metadata": {},
   "source": [
    "## 13. split()"
   ]
  },
  {
   "cell_type": "code",
   "execution_count": null,
   "id": "54f88e6d",
   "metadata": {},
   "outputs": [],
   "source": [
    "string to list"
   ]
  },
  {
   "cell_type": "code",
   "execution_count": 79,
   "id": "f71b9604",
   "metadata": {},
   "outputs": [
    {
     "data": {
      "text/plain": [
       "['Python', 'is', 'programming', 'language']"
      ]
     },
     "execution_count": 79,
     "metadata": {},
     "output_type": "execute_result"
    }
   ],
   "source": [
    "string = 'Python is programming language'\n",
    "string.split()"
   ]
  },
  {
   "cell_type": "code",
   "execution_count": 80,
   "id": "454a8023",
   "metadata": {},
   "outputs": [
    {
     "name": "stdout",
     "output_type": "stream",
     "text": [
      "<class 'str'>\n",
      "<class 'list'>\n"
     ]
    }
   ],
   "source": [
    "string = 'Python is programming language'\n",
    "print(type(string))\n",
    "string_list = string.split()\n",
    "print(type(string_list))"
   ]
  },
  {
   "cell_type": "code",
   "execution_count": 81,
   "id": "b89390a7",
   "metadata": {},
   "outputs": [
    {
     "data": {
      "text/plain": [
       "['Python', 'is', 'programming', 'language']"
      ]
     },
     "execution_count": 81,
     "metadata": {},
     "output_type": "execute_result"
    }
   ],
   "source": [
    "string = 'Python is programming language'\n",
    "string.split(' ')"
   ]
  },
  {
   "cell_type": "code",
   "execution_count": 83,
   "id": "78f08f03",
   "metadata": {},
   "outputs": [
    {
     "data": {
      "text/plain": [
       "['Python is', 'programming language']"
      ]
     },
     "execution_count": 83,
     "metadata": {},
     "output_type": "execute_result"
    }
   ],
   "source": [
    "string = 'Python is  programming language'\n",
    "string.split('  ')"
   ]
  },
  {
   "cell_type": "code",
   "execution_count": 84,
   "id": "4a9419b2",
   "metadata": {},
   "outputs": [
    {
     "data": {
      "text/plain": [
       "['Python ', '  programming language']"
      ]
     },
     "execution_count": 84,
     "metadata": {},
     "output_type": "execute_result"
    }
   ],
   "source": [
    "string = 'Python is  programming language'\n",
    "string.split('is')"
   ]
  },
  {
   "cell_type": "code",
   "execution_count": 85,
   "id": "89b58977",
   "metadata": {},
   "outputs": [
    {
     "data": {
      "text/plain": [
       "['Python is  progr', 'mming l', 'ngu', 'ge']"
      ]
     },
     "execution_count": 85,
     "metadata": {},
     "output_type": "execute_result"
    }
   ],
   "source": [
    "string = 'Python is  programming language'\n",
    "string.split('a')"
   ]
  },
  {
   "cell_type": "code",
   "execution_count": 86,
   "id": "8a6d6f73",
   "metadata": {},
   "outputs": [
    {
     "data": {
      "text/plain": [
       "['Python is  progr', 'mming l', 'ngu', 'ge', '']"
      ]
     },
     "execution_count": 86,
     "metadata": {},
     "output_type": "execute_result"
    }
   ],
   "source": [
    "string = 'Python is  programming languagea'\n",
    "string.split('a')"
   ]
  },
  {
   "cell_type": "code",
   "execution_count": 88,
   "id": "7dbcdc03",
   "metadata": {},
   "outputs": [
    {
     "name": "stdout",
     "output_type": "stream",
     "text": [
      "['Data', 'science', 'is', 'An', 'Interdisciplinary', 'field', 'that', 'uses', 'scientific', 'methods,', 'processes,', 'algorithms', 'and', 'systems', 'to', 'Extract', 'knowledge', 'and', 'insights', 'from', 'noisy,', 'structured', 'and', 'unstructured', 'data,', 'and', 'apply', 'knowledge', 'and', 'Actionable', 'insights', 'from', 'data', 'across', 'A', 'broad', 'range', 'of', 'application', 'domains.'] 40\n"
     ]
    }
   ],
   "source": [
    "ds = '''Data science is An Interdisciplinary field that uses scientific methods,\n",
    "processes, algorithms and systems to Extract knowledge and insights from noisy,\n",
    "structured and unstructured data, and apply knowledge and Actionable insights from\n",
    "data across A broad range of application domains.'''\n",
    "\n",
    "list1 = ds.split()\n",
    "print(list1, len(list1))"
   ]
  },
  {
   "cell_type": "code",
   "execution_count": 89,
   "id": "75e3fc0d",
   "metadata": {},
   "outputs": [
    {
     "name": "stdout",
     "output_type": "stream",
     "text": [
      "['Data science is An Interdisciplinary field that uses scientific methods,', 'processes, algorithms and systems to Extract knowledge and insights from noisy,', 'structured and unstructured data, and apply knowledge and Actionable insights from', 'data across A broad range of application domains.'] 4\n"
     ]
    }
   ],
   "source": [
    "ds = '''Data science is An Interdisciplinary field that uses scientific methods,\n",
    "processes, algorithms and systems to Extract knowledge and insights from noisy,\n",
    "structured and unstructured data, and apply knowledge and Actionable insights from\n",
    "data across A broad range of application domains.'''\n",
    "\n",
    "list1 = ds.split('\\n')\n",
    "print(list1, len(list1))"
   ]
  },
  {
   "cell_type": "code",
   "execution_count": 93,
   "id": "c4ba4c22",
   "metadata": {},
   "outputs": [
    {
     "name": "stdout",
     "output_type": "stream",
     "text": [
      "285\n"
     ]
    },
    {
     "data": {
      "text/plain": [
       "['D',\n",
       " 'a',\n",
       " 't',\n",
       " 'a',\n",
       " ' ',\n",
       " 's',\n",
       " 'c',\n",
       " 'i',\n",
       " 'e',\n",
       " 'n',\n",
       " 'c',\n",
       " 'e',\n",
       " ' ',\n",
       " 'i',\n",
       " 's',\n",
       " ' ',\n",
       " 'A',\n",
       " 'n',\n",
       " ' ',\n",
       " 'I',\n",
       " 'n',\n",
       " 't',\n",
       " 'e',\n",
       " 'r',\n",
       " 'd',\n",
       " 'i',\n",
       " 's',\n",
       " 'c',\n",
       " 'i',\n",
       " 'p',\n",
       " 'l',\n",
       " 'i',\n",
       " 'n',\n",
       " 'a',\n",
       " 'r',\n",
       " 'y',\n",
       " ' ',\n",
       " 'f',\n",
       " 'i',\n",
       " 'e',\n",
       " 'l',\n",
       " 'd',\n",
       " ' ',\n",
       " 't',\n",
       " 'h',\n",
       " 'a',\n",
       " 't',\n",
       " ' ',\n",
       " 'u',\n",
       " 's',\n",
       " 'e',\n",
       " 's',\n",
       " ' ',\n",
       " 's',\n",
       " 'c',\n",
       " 'i',\n",
       " 'e',\n",
       " 'n',\n",
       " 't',\n",
       " 'i',\n",
       " 'f',\n",
       " 'i',\n",
       " 'c',\n",
       " ' ',\n",
       " 'm',\n",
       " 'e',\n",
       " 't',\n",
       " 'h',\n",
       " 'o',\n",
       " 'd',\n",
       " 's',\n",
       " ',',\n",
       " '\\n',\n",
       " 'p',\n",
       " 'r',\n",
       " 'o',\n",
       " 'c',\n",
       " 'e',\n",
       " 's',\n",
       " 's',\n",
       " 'e',\n",
       " 's',\n",
       " ',',\n",
       " ' ',\n",
       " 'a',\n",
       " 'l',\n",
       " 'g',\n",
       " 'o',\n",
       " 'r',\n",
       " 'i',\n",
       " 't',\n",
       " 'h',\n",
       " 'm',\n",
       " 's',\n",
       " ' ',\n",
       " 'a',\n",
       " 'n',\n",
       " 'd',\n",
       " ' ',\n",
       " 's',\n",
       " 'y',\n",
       " 's',\n",
       " 't',\n",
       " 'e',\n",
       " 'm',\n",
       " 's',\n",
       " ' ',\n",
       " 't',\n",
       " 'o',\n",
       " ' ',\n",
       " 'E',\n",
       " 'x',\n",
       " 't',\n",
       " 'r',\n",
       " 'a',\n",
       " 'c',\n",
       " 't',\n",
       " ' ',\n",
       " 'k',\n",
       " 'n',\n",
       " 'o',\n",
       " 'w',\n",
       " 'l',\n",
       " 'e',\n",
       " 'd',\n",
       " 'g',\n",
       " 'e',\n",
       " ' ',\n",
       " 'a',\n",
       " 'n',\n",
       " 'd',\n",
       " ' ',\n",
       " 'i',\n",
       " 'n',\n",
       " 's',\n",
       " 'i',\n",
       " 'g',\n",
       " 'h',\n",
       " 't',\n",
       " 's',\n",
       " ' ',\n",
       " 'f',\n",
       " 'r',\n",
       " 'o',\n",
       " 'm',\n",
       " ' ',\n",
       " 'n',\n",
       " 'o',\n",
       " 'i',\n",
       " 's',\n",
       " 'y',\n",
       " ',',\n",
       " '\\n',\n",
       " 's',\n",
       " 't',\n",
       " 'r',\n",
       " 'u',\n",
       " 'c',\n",
       " 't',\n",
       " 'u',\n",
       " 'r',\n",
       " 'e',\n",
       " 'd',\n",
       " ' ',\n",
       " 'a',\n",
       " 'n',\n",
       " 'd',\n",
       " ' ',\n",
       " 'u',\n",
       " 'n',\n",
       " 's',\n",
       " 't',\n",
       " 'r',\n",
       " 'u',\n",
       " 'c',\n",
       " 't',\n",
       " 'u',\n",
       " 'r',\n",
       " 'e',\n",
       " 'd',\n",
       " ' ',\n",
       " 'd',\n",
       " 'a',\n",
       " 't',\n",
       " 'a',\n",
       " ',',\n",
       " ' ',\n",
       " 'a',\n",
       " 'n',\n",
       " 'd',\n",
       " ' ',\n",
       " 'a',\n",
       " 'p',\n",
       " 'p',\n",
       " 'l',\n",
       " 'y',\n",
       " ' ',\n",
       " 'k',\n",
       " 'n',\n",
       " 'o',\n",
       " 'w',\n",
       " 'l',\n",
       " 'e',\n",
       " 'd',\n",
       " 'g',\n",
       " 'e',\n",
       " ' ',\n",
       " 'a',\n",
       " 'n',\n",
       " 'd',\n",
       " ' ',\n",
       " 'A',\n",
       " 'c',\n",
       " 't',\n",
       " 'i',\n",
       " 'o',\n",
       " 'n',\n",
       " 'a',\n",
       " 'b',\n",
       " 'l',\n",
       " 'e',\n",
       " ' ',\n",
       " 'i',\n",
       " 'n',\n",
       " 's',\n",
       " 'i',\n",
       " 'g',\n",
       " 'h',\n",
       " 't',\n",
       " 's',\n",
       " ' ',\n",
       " 'f',\n",
       " 'r',\n",
       " 'o',\n",
       " 'm',\n",
       " '\\n',\n",
       " 'd',\n",
       " 'a',\n",
       " 't',\n",
       " 'a',\n",
       " ' ',\n",
       " 'a',\n",
       " 'c',\n",
       " 'r',\n",
       " 'o',\n",
       " 's',\n",
       " 's',\n",
       " ' ',\n",
       " 'A',\n",
       " ' ',\n",
       " 'b',\n",
       " 'r',\n",
       " 'o',\n",
       " 'a',\n",
       " 'd',\n",
       " ' ',\n",
       " 'r',\n",
       " 'a',\n",
       " 'n',\n",
       " 'g',\n",
       " 'e',\n",
       " ' ',\n",
       " 'o',\n",
       " 'f',\n",
       " ' ',\n",
       " 'a',\n",
       " 'p',\n",
       " 'p',\n",
       " 'l',\n",
       " 'i',\n",
       " 'c',\n",
       " 'a',\n",
       " 't',\n",
       " 'i',\n",
       " 'o',\n",
       " 'n',\n",
       " ' ',\n",
       " 'd',\n",
       " 'o',\n",
       " 'm',\n",
       " 'a',\n",
       " 'i',\n",
       " 'n',\n",
       " 's',\n",
       " '.']"
      ]
     },
     "execution_count": 93,
     "metadata": {},
     "output_type": "execute_result"
    }
   ],
   "source": [
    "ds = '''Data science is An Interdisciplinary field that uses scientific methods,\n",
    "processes, algorithms and systems to Extract knowledge and insights from noisy,\n",
    "structured and unstructured data, and apply knowledge and Actionable insights from\n",
    "data across A broad range of application domains.'''\n",
    "a = list(ds)\n",
    "print(len(a))\n",
    "a"
   ]
  },
  {
   "cell_type": "code",
   "execution_count": 94,
   "id": "6d5b68df",
   "metadata": {},
   "outputs": [
    {
     "name": "stdout",
     "output_type": "stream",
     "text": [
      "a\n",
      "b\n",
      "c\n",
      "d\n"
     ]
    }
   ],
   "source": [
    "str1= 'abcd'\n",
    "for i in str1:\n",
    "    print(i)"
   ]
  },
  {
   "cell_type": "code",
   "execution_count": 96,
   "id": "fbd7154b",
   "metadata": {},
   "outputs": [
    {
     "name": "stdout",
     "output_type": "stream",
     "text": [
      "a\n",
      "b\n",
      "c\n",
      "d\n"
     ]
    }
   ],
   "source": [
    "a = list(str1)\n",
    "for i in a:\n",
    "    print(i)"
   ]
  },
  {
   "cell_type": "markdown",
   "id": "52b942ee",
   "metadata": {},
   "source": [
    "## 14. casefold()"
   ]
  },
  {
   "cell_type": "code",
   "execution_count": 97,
   "id": "4e0fdaa7",
   "metadata": {},
   "outputs": [
    {
     "data": {
      "text/plain": [
       "'python is easy language'"
      ]
     },
     "execution_count": 97,
     "metadata": {},
     "output_type": "execute_result"
    }
   ],
   "source": [
    "s = 'Python is easy Language'\n",
    "s.casefold()"
   ]
  },
  {
   "cell_type": "code",
   "execution_count": 99,
   "id": "e439a3b2",
   "metadata": {},
   "outputs": [
    {
     "data": {
      "text/plain": [
       "'python is easy language'"
      ]
     },
     "execution_count": 99,
     "metadata": {},
     "output_type": "execute_result"
    }
   ],
   "source": [
    "s = 'Python is easy Language'\n",
    "s = s.upper()\n",
    "s.casefold()"
   ]
  },
  {
   "cell_type": "code",
   "execution_count": 100,
   "id": "1b28c317",
   "metadata": {},
   "outputs": [
    {
     "data": {
      "text/plain": [
       "'python is easy ß language'"
      ]
     },
     "execution_count": 100,
     "metadata": {},
     "output_type": "execute_result"
    }
   ],
   "source": [
    "s = 'Python is easy ß Language'\n",
    "s.lower()"
   ]
  },
  {
   "cell_type": "code",
   "execution_count": 101,
   "id": "ada9587d",
   "metadata": {},
   "outputs": [
    {
     "data": {
      "text/plain": [
       "'python is easy ss language'"
      ]
     },
     "execution_count": 101,
     "metadata": {},
     "output_type": "execute_result"
    }
   ],
   "source": [
    "s = 'Python is easy ß Language'\n",
    "s.casefold()    # German Language"
   ]
  },
  {
   "cell_type": "markdown",
   "id": "bb0220f8",
   "metadata": {},
   "source": [
    "## 15. endswith()"
   ]
  },
  {
   "cell_type": "code",
   "execution_count": null,
   "id": "37c2b57b",
   "metadata": {},
   "outputs": [],
   "source": [
    "It will Return True / False (boolean)"
   ]
  },
  {
   "cell_type": "code",
   "execution_count": 102,
   "id": "aabbad84",
   "metadata": {},
   "outputs": [
    {
     "data": {
      "text/plain": [
       "True"
      ]
     },
     "execution_count": 102,
     "metadata": {},
     "output_type": "execute_result"
    }
   ],
   "source": [
    "string = 'Data'\n",
    "string.endswith('a')"
   ]
  },
  {
   "cell_type": "code",
   "execution_count": 103,
   "id": "ddbf915f",
   "metadata": {},
   "outputs": [
    {
     "data": {
      "text/plain": [
       "False"
      ]
     },
     "execution_count": 103,
     "metadata": {},
     "output_type": "execute_result"
    }
   ],
   "source": [
    "string = 'Data'\n",
    "string.endswith('D')"
   ]
  },
  {
   "cell_type": "code",
   "execution_count": 104,
   "id": "a0f7a2ce",
   "metadata": {},
   "outputs": [
    {
     "data": {
      "text/plain": [
       "False"
      ]
     },
     "execution_count": 104,
     "metadata": {},
     "output_type": "execute_result"
    }
   ],
   "source": [
    "string = 'Data'\n",
    "string.endswith('A')"
   ]
  },
  {
   "cell_type": "code",
   "execution_count": 105,
   "id": "50e1dbee",
   "metadata": {},
   "outputs": [
    {
     "data": {
      "text/plain": [
       "True"
      ]
     },
     "execution_count": 105,
     "metadata": {},
     "output_type": "execute_result"
    }
   ],
   "source": [
    "file_path = 'G:\\Velocity 30 Apr 22\\05_11_String_functions\\test\\AmesHousing.csv'\n",
    "file_path.endswith('.csv')"
   ]
  },
  {
   "cell_type": "code",
   "execution_count": 106,
   "id": "4ca97658",
   "metadata": {},
   "outputs": [
    {
     "data": {
      "text/plain": [
       "False"
      ]
     },
     "execution_count": 106,
     "metadata": {},
     "output_type": "execute_result"
    }
   ],
   "source": [
    "file_path = 'G:\\Velocity 30 Apr 22\\05_11_String_functions\\test\\AmesHousing.csv'\n",
    "file_path.endswith('.txt')"
   ]
  },
  {
   "cell_type": "code",
   "execution_count": null,
   "id": "1a98f652",
   "metadata": {},
   "outputs": [],
   "source": [
    "File Extensions:\n",
    "    ipynb\n",
    "    py\n",
    "    docx\n",
    "    csv\n",
    "    xlsx\n",
    "    png\n",
    "    pdf"
   ]
  },
  {
   "cell_type": "code",
   "execution_count": 107,
   "id": "3ca3b738",
   "metadata": {},
   "outputs": [
    {
     "ename": "OSError",
     "evalue": "[WinError 123] The filename, directory name, or volume label syntax is incorrect: 'G:\\\\Velocity 30 Apr 22\\x05_11_String_functions\\test'",
     "output_type": "error",
     "traceback": [
      "\u001b[1;31m---------------------------------------------------------------------------\u001b[0m",
      "\u001b[1;31mOSError\u001b[0m                                   Traceback (most recent call last)",
      "\u001b[1;32m<ipython-input-107-3982d1dee238>\u001b[0m in \u001b[0;36m<module>\u001b[1;34m\u001b[0m\n\u001b[0;32m      1\u001b[0m \u001b[1;32mimport\u001b[0m \u001b[0mos\u001b[0m\u001b[1;33m\u001b[0m\u001b[1;33m\u001b[0m\u001b[0m\n\u001b[0;32m      2\u001b[0m \u001b[1;33m\u001b[0m\u001b[0m\n\u001b[1;32m----> 3\u001b[1;33m \u001b[0mfile_list\u001b[0m \u001b[1;33m=\u001b[0m \u001b[0mos\u001b[0m\u001b[1;33m.\u001b[0m\u001b[0mlistdir\u001b[0m\u001b[1;33m(\u001b[0m\u001b[1;34m'G:\\Velocity 30 Apr 22\\05_11_String_functions\\test'\u001b[0m\u001b[1;33m)\u001b[0m\u001b[1;33m\u001b[0m\u001b[1;33m\u001b[0m\u001b[0m\n\u001b[0m\u001b[0;32m      4\u001b[0m \u001b[0mprint\u001b[0m\u001b[1;33m(\u001b[0m\u001b[0mfile_list\u001b[0m\u001b[1;33m)\u001b[0m\u001b[1;33m\u001b[0m\u001b[1;33m\u001b[0m\u001b[0m\n",
      "\u001b[1;31mOSError\u001b[0m: [WinError 123] The filename, directory name, or volume label syntax is incorrect: 'G:\\\\Velocity 30 Apr 22\\x05_11_String_functions\\test'"
     ]
    }
   ],
   "source": [
    "import os\n",
    "\n",
    "file_list = os.listdir('G:\\Velocity 30 Apr 22\\05_11_String_functions\\test')\n",
    "print(file_list)"
   ]
  },
  {
   "cell_type": "code",
   "execution_count": 108,
   "id": "d1a2aab9",
   "metadata": {},
   "outputs": [
    {
     "name": "stdout",
     "output_type": "stream",
     "text": [
      "['AmesHousing.csv', 'Country_clusters.csv', 'cv002_15918.txt', 'cv003_11664.txt', 'cv004_11636.txt', 'cv005_29443.txt', 'cv006_15448.txt', 'diabetes.csv', 'Emp_Records.csv', 'Emp_Records.xlsx']\n"
     ]
    }
   ],
   "source": [
    "import os\n",
    "\n",
    "file_list = os.listdir('G:\\\\Velocity 30 Apr 22\\\\05_11_String_functions\\\\test')\n",
    "print(file_list)"
   ]
  },
  {
   "cell_type": "code",
   "execution_count": 109,
   "id": "b55a1392",
   "metadata": {},
   "outputs": [
    {
     "name": "stdout",
     "output_type": "stream",
     "text": [
      "['AmesHousing.csv', 'Country_clusters.csv', 'cv002_15918.txt', 'cv003_11664.txt', 'cv004_11636.txt', 'cv005_29443.txt', 'cv006_15448.txt', 'diabetes.csv', 'Emp_Records.csv', 'Emp_Records.xlsx']\n"
     ]
    }
   ],
   "source": [
    "import os\n",
    "\n",
    "file_list = os.listdir(r'G:\\Velocity 30 Apr 22\\05_11_String_functions\\test')\n",
    "print(file_list)"
   ]
  },
  {
   "cell_type": "code",
   "execution_count": 110,
   "id": "d52e0ea8",
   "metadata": {},
   "outputs": [
    {
     "name": "stdout",
     "output_type": "stream",
     "text": [
      "['AmesHousing.csv', 'Country_clusters.csv', 'cv002_15918.txt', 'cv003_11664.txt', 'cv004_11636.txt', 'cv005_29443.txt', 'cv006_15448.txt', 'diabetes.csv', 'Emp_Records.csv', 'Emp_Records.xlsx']\n"
     ]
    }
   ],
   "source": [
    "import os\n",
    "\n",
    "file_list = os.listdir('G:/Velocity 30 Apr 22/05_11_String_functions/test')\n",
    "print(file_list)"
   ]
  },
  {
   "cell_type": "code",
   "execution_count": 112,
   "id": "fe98436e",
   "metadata": {},
   "outputs": [
    {
     "name": "stdout",
     "output_type": "stream",
     "text": [
      "CSV file name is: AmesHousing.csv\n",
      "CSV file name is: Country_clusters.csv\n",
      "CSV file name is: diabetes.csv\n",
      "CSV file name is: Emp_Records.csv\n"
     ]
    }
   ],
   "source": [
    "import os\n",
    "\n",
    "file_list = os.listdir('test')\n",
    "\n",
    "for file in file_list:\n",
    "    if file.endswith('.csv'):\n",
    "        print('CSV file name is:',file)\n",
    "\n"
   ]
  },
  {
   "cell_type": "markdown",
   "id": "f28c813f",
   "metadata": {},
   "source": [
    "## 16. startswith()"
   ]
  },
  {
   "cell_type": "code",
   "execution_count": null,
   "id": "f9bb5b9a",
   "metadata": {},
   "outputs": [],
   "source": [
    "It wil return True / False"
   ]
  },
  {
   "cell_type": "code",
   "execution_count": 113,
   "id": "678ae251",
   "metadata": {},
   "outputs": [
    {
     "data": {
      "text/plain": [
       "True"
      ]
     },
     "execution_count": 113,
     "metadata": {},
     "output_type": "execute_result"
    }
   ],
   "source": [
    "str1 = 'Pune'\n",
    "str1.startswith('P')"
   ]
  },
  {
   "cell_type": "code",
   "execution_count": 114,
   "id": "2b2e20a2",
   "metadata": {},
   "outputs": [
    {
     "data": {
      "text/plain": [
       "False"
      ]
     },
     "execution_count": 114,
     "metadata": {},
     "output_type": "execute_result"
    }
   ],
   "source": [
    "str1 = 'Pune'\n",
    "str1.startswith('M')"
   ]
  },
  {
   "cell_type": "code",
   "execution_count": 115,
   "id": "d7523650",
   "metadata": {},
   "outputs": [
    {
     "data": {
      "text/plain": [
       "True"
      ]
     },
     "execution_count": 115,
     "metadata": {},
     "output_type": "execute_result"
    }
   ],
   "source": [
    "str1 = 'Python and Data Science'\n",
    "str1.startswith('Python')"
   ]
  },
  {
   "cell_type": "code",
   "execution_count": 117,
   "id": "8fc6fdc3",
   "metadata": {},
   "outputs": [
    {
     "name": "stdout",
     "output_type": "stream",
     "text": [
      "String starting with Python\n"
     ]
    }
   ],
   "source": [
    "str1 = 'Python and Data Science'\n",
    "if str1.index('Python') == 0:\n",
    "    print('String starting with Python')"
   ]
  },
  {
   "cell_type": "code",
   "execution_count": null,
   "id": "11393de7",
   "metadata": {},
   "outputs": [],
   "source": []
  }
 ],
 "metadata": {
  "kernelspec": {
   "display_name": "Python 3",
   "language": "python",
   "name": "python3"
  },
  "language_info": {
   "codemirror_mode": {
    "name": "ipython",
    "version": 3
   },
   "file_extension": ".py",
   "mimetype": "text/x-python",
   "name": "python",
   "nbconvert_exporter": "python",
   "pygments_lexer": "ipython3",
   "version": "3.8.8"
  }
 },
 "nbformat": 4,
 "nbformat_minor": 5
}
